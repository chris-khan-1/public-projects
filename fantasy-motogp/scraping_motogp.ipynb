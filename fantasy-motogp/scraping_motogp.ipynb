{
 "cells": [
  {
   "cell_type": "code",
   "execution_count": 1,
   "metadata": {},
   "outputs": [],
   "source": [
    "import requests\n",
    "import pandas as pd\n",
    "from bs4 import BeautifulSoup\n",
    "import numpy as np\n",
    "\n",
    "# url = \"https://www.motogp.com/en/gp-results/2022/QAT/MotoGP/RAC/Classification\"\n",
    "url = \"https://en.wikipedia.org/wiki/2022_MotoGP_World_Championship\"\n",
    "\n",
    "# page = requests.get(url)\n",
    "data = requests.get(url).text\n",
    "\n",
    "# soup = BeautifulSoup(page.content, \"html.parser\")\n",
    "soup = BeautifulSoup(data, \"html.parser\")\n"
   ]
  },
  {
   "cell_type": "code",
   "execution_count": 2,
   "metadata": {},
   "outputs": [],
   "source": [
    "dfs = pd.read_html(url, attrs = {'class': 'wikitable'},  flavor='bs4', thousands ='.')"
   ]
  },
  {
   "cell_type": "code",
   "execution_count": 3,
   "metadata": {},
   "outputs": [
    {
     "data": {
      "text/html": [
       "<div>\n",
       "<style scoped>\n",
       "    .dataframe tbody tr th:only-of-type {\n",
       "        vertical-align: middle;\n",
       "    }\n",
       "\n",
       "    .dataframe tbody tr th {\n",
       "        vertical-align: top;\n",
       "    }\n",
       "\n",
       "    .dataframe thead th {\n",
       "        text-align: right;\n",
       "    }\n",
       "</style>\n",
       "<table border=\"1\" class=\"dataframe\">\n",
       "  <thead>\n",
       "    <tr style=\"text-align: right;\">\n",
       "      <th></th>\n",
       "      <th>Pos.</th>\n",
       "      <th>Rider</th>\n",
       "      <th>Bike</th>\n",
       "      <th>Team</th>\n",
       "      <th>QAT</th>\n",
       "      <th>INA</th>\n",
       "      <th>ARG</th>\n",
       "      <th>AME</th>\n",
       "      <th>POR</th>\n",
       "      <th>SPA</th>\n",
       "      <th>...</th>\n",
       "      <th>GBR</th>\n",
       "      <th>AUT</th>\n",
       "      <th>RSM</th>\n",
       "      <th>ARA</th>\n",
       "      <th>JPN</th>\n",
       "      <th>THA</th>\n",
       "      <th>AUS</th>\n",
       "      <th>MAL</th>\n",
       "      <th>VAL</th>\n",
       "      <th>Pts</th>\n",
       "    </tr>\n",
       "  </thead>\n",
       "  <tbody>\n",
       "    <tr>\n",
       "      <th>0</th>\n",
       "      <td>1</td>\n",
       "      <td>Francesco Bagnaia</td>\n",
       "      <td>Ducati</td>\n",
       "      <td>Ducati Lenovo Team</td>\n",
       "      <td>Ret</td>\n",
       "      <td>15</td>\n",
       "      <td>5</td>\n",
       "      <td>5</td>\n",
       "      <td>8</td>\n",
       "      <td>1P F</td>\n",
       "      <td>...</td>\n",
       "      <td>1</td>\n",
       "      <td>1</td>\n",
       "      <td>1</td>\n",
       "      <td>2P</td>\n",
       "      <td>Ret</td>\n",
       "      <td>3</td>\n",
       "      <td>3</td>\n",
       "      <td>1</td>\n",
       "      <td>9</td>\n",
       "      <td>265</td>\n",
       "    </tr>\n",
       "    <tr>\n",
       "      <th>1</th>\n",
       "      <td>2</td>\n",
       "      <td>Fabio Quartararo</td>\n",
       "      <td>Yamaha</td>\n",
       "      <td>Monster Energy Yamaha MotoGP</td>\n",
       "      <td>9</td>\n",
       "      <td>2P F</td>\n",
       "      <td>8</td>\n",
       "      <td>7</td>\n",
       "      <td>1F</td>\n",
       "      <td>2</td>\n",
       "      <td>...</td>\n",
       "      <td>8</td>\n",
       "      <td>2</td>\n",
       "      <td>5</td>\n",
       "      <td>Ret</td>\n",
       "      <td>8</td>\n",
       "      <td>17</td>\n",
       "      <td>Ret</td>\n",
       "      <td>3</td>\n",
       "      <td>4</td>\n",
       "      <td>248</td>\n",
       "    </tr>\n",
       "    <tr>\n",
       "      <th>2</th>\n",
       "      <td>3</td>\n",
       "      <td>Enea Bastianini</td>\n",
       "      <td>Ducati</td>\n",
       "      <td>Gresini Racing MotoGP</td>\n",
       "      <td>1F</td>\n",
       "      <td>11</td>\n",
       "      <td>10</td>\n",
       "      <td>1F</td>\n",
       "      <td>Ret</td>\n",
       "      <td>8</td>\n",
       "      <td>...</td>\n",
       "      <td>4</td>\n",
       "      <td>RetP</td>\n",
       "      <td>2F</td>\n",
       "      <td>1</td>\n",
       "      <td>9</td>\n",
       "      <td>6</td>\n",
       "      <td>5</td>\n",
       "      <td>2</td>\n",
       "      <td>8</td>\n",
       "      <td>219</td>\n",
       "    </tr>\n",
       "    <tr>\n",
       "      <th>3</th>\n",
       "      <td>4</td>\n",
       "      <td>Aleix Espargaró</td>\n",
       "      <td>Aprilia</td>\n",
       "      <td>Aprilia Racing</td>\n",
       "      <td>4</td>\n",
       "      <td>9</td>\n",
       "      <td>1P F</td>\n",
       "      <td>11</td>\n",
       "      <td>3</td>\n",
       "      <td>3</td>\n",
       "      <td>...</td>\n",
       "      <td>9</td>\n",
       "      <td>6</td>\n",
       "      <td>6</td>\n",
       "      <td>3</td>\n",
       "      <td>16</td>\n",
       "      <td>11</td>\n",
       "      <td>9</td>\n",
       "      <td>10</td>\n",
       "      <td>Ret</td>\n",
       "      <td>212</td>\n",
       "    </tr>\n",
       "    <tr>\n",
       "      <th>4</th>\n",
       "      <td>5</td>\n",
       "      <td>Jack Miller</td>\n",
       "      <td>Ducati</td>\n",
       "      <td>Ducati Lenovo Team</td>\n",
       "      <td>Ret</td>\n",
       "      <td>4</td>\n",
       "      <td>14</td>\n",
       "      <td>3</td>\n",
       "      <td>Ret</td>\n",
       "      <td>5</td>\n",
       "      <td>...</td>\n",
       "      <td>3</td>\n",
       "      <td>3</td>\n",
       "      <td>18P</td>\n",
       "      <td>5</td>\n",
       "      <td>1F</td>\n",
       "      <td>2</td>\n",
       "      <td>Ret</td>\n",
       "      <td>6</td>\n",
       "      <td>Ret</td>\n",
       "      <td>189</td>\n",
       "    </tr>\n",
       "  </tbody>\n",
       "</table>\n",
       "<p>5 rows × 25 columns</p>\n",
       "</div>"
      ],
      "text/plain": [
       "  Pos.              Rider     Bike                          Team  QAT   INA  \\\n",
       "0    1  Francesco Bagnaia   Ducati            Ducati Lenovo Team  Ret    15   \n",
       "1    2   Fabio Quartararo   Yamaha  Monster Energy Yamaha MotoGP    9  2P F   \n",
       "2    3    Enea Bastianini   Ducati         Gresini Racing MotoGP   1F    11   \n",
       "3    4    Aleix Espargaró  Aprilia                Aprilia Racing    4     9   \n",
       "4    5        Jack Miller   Ducati            Ducati Lenovo Team  Ret     4   \n",
       "\n",
       "    ARG AME  POR   SPA  ... GBR   AUT  RSM  ARA  JPN THA  AUS MAL  VAL  Pts  \n",
       "0     5   5    8  1P F  ...   1     1    1   2P  Ret   3    3   1    9  265  \n",
       "1     8   7   1F     2  ...   8     2    5  Ret    8  17  Ret   3    4  248  \n",
       "2    10  1F  Ret     8  ...   4  RetP   2F    1    9   6    5   2    8  219  \n",
       "3  1P F  11    3     3  ...   9     6    6    3   16  11    9  10  Ret  212  \n",
       "4    14   3  Ret     5  ...   3     3  18P    5   1F   2  Ret   6  Ret  189  \n",
       "\n",
       "[5 rows x 25 columns]"
      ]
     },
     "execution_count": 3,
     "metadata": {},
     "output_type": "execute_result"
    }
   ],
   "source": [
    "df = dfs[5]\n",
    "df.head()"
   ]
  },
  {
   "cell_type": "code",
   "execution_count": 4,
   "metadata": {},
   "outputs": [],
   "source": [
    "df1 = df.iloc[:, :4]"
   ]
  },
  {
   "cell_type": "code",
   "execution_count": 5,
   "metadata": {},
   "outputs": [],
   "source": [
    "df2 = df.iloc[:, 4:].replace(r'\\D+', \"\", regex=True).replace(r'^\\s*$', np.nan, regex=True).fillna(25).astype(int)"
   ]
  },
  {
   "cell_type": "code",
   "execution_count": 6,
   "metadata": {},
   "outputs": [],
   "source": [
    "df3 = pd.concat([df1, df2], axis=1)"
   ]
  },
  {
   "cell_type": "code",
   "execution_count": 7,
   "metadata": {},
   "outputs": [],
   "source": [
    "df4 = df3.drop([\"Pos.\", \"Bike\", \"Team\", \"Pts\"], axis=1).set_index(\"Rider\").drop(\"Rider\").T"
   ]
  },
  {
   "cell_type": "code",
   "execution_count": 8,
   "metadata": {},
   "outputs": [],
   "source": [
    "df4.index.names = ['Track']"
   ]
  },
  {
   "cell_type": "code",
   "execution_count": 9,
   "metadata": {},
   "outputs": [],
   "source": [
    "df5 = df4.reset_index()\n",
    "\n",
    "del df5[\"Stefan Bradl\"]\n",
    "del df5[\"Tetsuta Nagashima\"] # NEED TO FIND A FIX FOR WHEN RIDER IS GROUPED"
   ]
  },
  {
   "cell_type": "code",
   "execution_count": 11,
   "metadata": {},
   "outputs": [],
   "source": [
    "points_csv = pd.read_csv(\"C:/Users/ckhan/Documents/coding_projects/scraping_websites/motogp/data/championship_points_mapping.csv\")\n",
    "points_map = dict(points_csv.values)"
   ]
  },
  {
   "cell_type": "code",
   "execution_count": 12,
   "metadata": {},
   "outputs": [],
   "source": [
    "def pts_fn(x):\n",
    "    if int(x) in points_map.keys():\n",
    "        return points_map[int(x)]\n",
    "    else:\n",
    "        return 0"
   ]
  },
  {
   "cell_type": "code",
   "execution_count": 13,
   "metadata": {},
   "outputs": [],
   "source": [
    "df6 = pd.DataFrame()\n",
    "\n",
    "df6[\"Track\"] = df5[\"Track\"]\n",
    "\n",
    "for rider in df5.columns[1:]:\n",
    "    df6[f\"{rider}_points\"] = df5[rider].map(lambda x: pts_fn(x))\n",
    "    df6[f\"{rider}\"] = df6[f\"{rider}_points\"].cumsum()\n",
    "    del df6[f\"{rider}_points\"]\n",
    "\n"
   ]
  },
  {
   "cell_type": "code",
   "execution_count": 15,
   "metadata": {},
   "outputs": [
    {
     "data": {
      "application/vnd.plotly.v1+json": {
       "config": {
        "plotlyServerURL": "https://plot.ly"
       },
       "data": [
        {
         "hovertemplate": "Rider=Francesco Bagnaia<br>Track=%{x}<br>Position=%{y}<extra></extra>",
         "legendgroup": "Francesco Bagnaia",
         "line": {
          "color": "#636efa",
          "dash": "solid"
         },
         "marker": {
          "symbol": "circle"
         },
         "mode": "lines",
         "name": "Francesco Bagnaia",
         "orientation": "v",
         "showlegend": true,
         "type": "scatter",
         "x": [
          "QAT",
          "INA",
          "ARG",
          "AME",
          "POR",
          "SPA",
          "FRA",
          "ITA",
          "CAT",
          "GER",
          "NED",
          "GBR",
          "AUT",
          "RSM",
          "ARA",
          "JPN",
          "THA",
          "AUS",
          "MAL",
          "VAL"
         ],
         "xaxis": "x",
         "y": [
          25,
          15,
          5,
          5,
          8,
          1,
          25,
          1,
          25,
          25,
          1,
          1,
          1,
          1,
          2,
          25,
          3,
          3,
          1,
          9
         ],
         "yaxis": "y"
        },
        {
         "hovertemplate": "Rider=Fabio Quartararo<br>Track=%{x}<br>Position=%{y}<extra></extra>",
         "legendgroup": "Fabio Quartararo",
         "line": {
          "color": "#EF553B",
          "dash": "solid"
         },
         "marker": {
          "symbol": "circle"
         },
         "mode": "lines",
         "name": "Fabio Quartararo",
         "orientation": "v",
         "showlegend": true,
         "type": "scatter",
         "x": [
          "QAT",
          "INA",
          "ARG",
          "AME",
          "POR",
          "SPA",
          "FRA",
          "ITA",
          "CAT",
          "GER",
          "NED",
          "GBR",
          "AUT",
          "RSM",
          "ARA",
          "JPN",
          "THA",
          "AUS",
          "MAL",
          "VAL"
         ],
         "xaxis": "x",
         "y": [
          9,
          2,
          8,
          7,
          1,
          2,
          4,
          2,
          1,
          1,
          25,
          8,
          2,
          5,
          25,
          8,
          17,
          25,
          3,
          4
         ],
         "yaxis": "y"
        },
        {
         "hovertemplate": "Rider=Enea Bastianini<br>Track=%{x}<br>Position=%{y}<extra></extra>",
         "legendgroup": "Enea Bastianini",
         "line": {
          "color": "#00cc96",
          "dash": "solid"
         },
         "marker": {
          "symbol": "circle"
         },
         "mode": "lines",
         "name": "Enea Bastianini",
         "orientation": "v",
         "showlegend": true,
         "type": "scatter",
         "x": [
          "QAT",
          "INA",
          "ARG",
          "AME",
          "POR",
          "SPA",
          "FRA",
          "ITA",
          "CAT",
          "GER",
          "NED",
          "GBR",
          "AUT",
          "RSM",
          "ARA",
          "JPN",
          "THA",
          "AUS",
          "MAL",
          "VAL"
         ],
         "xaxis": "x",
         "y": [
          1,
          11,
          10,
          1,
          25,
          8,
          1,
          25,
          25,
          10,
          11,
          4,
          25,
          2,
          1,
          9,
          6,
          5,
          2,
          8
         ],
         "yaxis": "y"
        },
        {
         "hovertemplate": "Rider=Aleix Espargaró<br>Track=%{x}<br>Position=%{y}<extra></extra>",
         "legendgroup": "Aleix Espargaró",
         "line": {
          "color": "#ab63fa",
          "dash": "solid"
         },
         "marker": {
          "symbol": "circle"
         },
         "mode": "lines",
         "name": "Aleix Espargaró",
         "orientation": "v",
         "showlegend": true,
         "type": "scatter",
         "x": [
          "QAT",
          "INA",
          "ARG",
          "AME",
          "POR",
          "SPA",
          "FRA",
          "ITA",
          "CAT",
          "GER",
          "NED",
          "GBR",
          "AUT",
          "RSM",
          "ARA",
          "JPN",
          "THA",
          "AUS",
          "MAL",
          "VAL"
         ],
         "xaxis": "x",
         "y": [
          4,
          9,
          1,
          11,
          3,
          3,
          3,
          3,
          5,
          4,
          4,
          9,
          6,
          6,
          3,
          16,
          11,
          9,
          10,
          25
         ],
         "yaxis": "y"
        },
        {
         "hovertemplate": "Rider=Jack Miller<br>Track=%{x}<br>Position=%{y}<extra></extra>",
         "legendgroup": "Jack Miller",
         "line": {
          "color": "#FFA15A",
          "dash": "solid"
         },
         "marker": {
          "symbol": "circle"
         },
         "mode": "lines",
         "name": "Jack Miller",
         "orientation": "v",
         "showlegend": true,
         "type": "scatter",
         "x": [
          "QAT",
          "INA",
          "ARG",
          "AME",
          "POR",
          "SPA",
          "FRA",
          "ITA",
          "CAT",
          "GER",
          "NED",
          "GBR",
          "AUT",
          "RSM",
          "ARA",
          "JPN",
          "THA",
          "AUS",
          "MAL",
          "VAL"
         ],
         "xaxis": "x",
         "y": [
          25,
          4,
          14,
          3,
          25,
          5,
          2,
          15,
          14,
          3,
          6,
          3,
          3,
          18,
          5,
          1,
          2,
          25,
          6,
          25
         ],
         "yaxis": "y"
        },
        {
         "hovertemplate": "Rider=Brad Binder<br>Track=%{x}<br>Position=%{y}<extra></extra>",
         "legendgroup": "Brad Binder",
         "line": {
          "color": "#19d3f3",
          "dash": "solid"
         },
         "marker": {
          "symbol": "circle"
         },
         "mode": "lines",
         "name": "Brad Binder",
         "orientation": "v",
         "showlegend": true,
         "type": "scatter",
         "x": [
          "QAT",
          "INA",
          "ARG",
          "AME",
          "POR",
          "SPA",
          "FRA",
          "ITA",
          "CAT",
          "GER",
          "NED",
          "GBR",
          "AUT",
          "RSM",
          "ARA",
          "JPN",
          "THA",
          "AUS",
          "MAL",
          "VAL"
         ],
         "xaxis": "x",
         "y": [
          2,
          8,
          6,
          12,
          25,
          10,
          8,
          7,
          8,
          7,
          5,
          11,
          7,
          8,
          4,
          2,
          10,
          10,
          8,
          2
         ],
         "yaxis": "y"
        },
        {
         "hovertemplate": "Rider=Álex Rins<br>Track=%{x}<br>Position=%{y}<extra></extra>",
         "legendgroup": "Álex Rins",
         "line": {
          "color": "#FF6692",
          "dash": "solid"
         },
         "marker": {
          "symbol": "circle"
         },
         "mode": "lines",
         "name": "Álex Rins",
         "orientation": "v",
         "showlegend": true,
         "type": "scatter",
         "x": [
          "QAT",
          "INA",
          "ARG",
          "AME",
          "POR",
          "SPA",
          "FRA",
          "ITA",
          "CAT",
          "GER",
          "NED",
          "GBR",
          "AUT",
          "RSM",
          "ARA",
          "JPN",
          "THA",
          "AUS",
          "MAL",
          "VAL"
         ],
         "xaxis": "x",
         "y": [
          7,
          5,
          3,
          2,
          4,
          19,
          25,
          25,
          25,
          25,
          10,
          7,
          8,
          7,
          9,
          25,
          12,
          1,
          5,
          1
         ],
         "yaxis": "y"
        },
        {
         "hovertemplate": "Rider=Johann Zarco<br>Track=%{x}<br>Position=%{y}<extra></extra>",
         "legendgroup": "Johann Zarco",
         "line": {
          "color": "#B6E880",
          "dash": "solid"
         },
         "marker": {
          "symbol": "circle"
         },
         "mode": "lines",
         "name": "Johann Zarco",
         "orientation": "v",
         "showlegend": true,
         "type": "scatter",
         "x": [
          "QAT",
          "INA",
          "ARG",
          "AME",
          "POR",
          "SPA",
          "FRA",
          "ITA",
          "CAT",
          "GER",
          "NED",
          "GBR",
          "AUT",
          "RSM",
          "ARA",
          "JPN",
          "THA",
          "AUS",
          "MAL",
          "VAL"
         ],
         "xaxis": "x",
         "y": [
          8,
          3,
          25,
          9,
          2,
          25,
          5,
          4,
          3,
          2,
          13,
          25,
          5,
          25,
          8,
          11,
          4,
          8,
          9,
          25
         ],
         "yaxis": "y"
        },
        {
         "hovertemplate": "Rider=Jorge Martín<br>Track=%{x}<br>Position=%{y}<extra></extra>",
         "legendgroup": "Jorge Martín",
         "line": {
          "color": "#FF97FF",
          "dash": "solid"
         },
         "marker": {
          "symbol": "circle"
         },
         "mode": "lines",
         "name": "Jorge Martín",
         "orientation": "v",
         "showlegend": true,
         "type": "scatter",
         "x": [
          "QAT",
          "INA",
          "ARG",
          "AME",
          "POR",
          "SPA",
          "FRA",
          "ITA",
          "CAT",
          "GER",
          "NED",
          "GBR",
          "AUT",
          "RSM",
          "ARA",
          "JPN",
          "THA",
          "AUS",
          "MAL",
          "VAL"
         ],
         "xaxis": "x",
         "y": [
          25,
          25,
          2,
          8,
          25,
          22,
          25,
          13,
          2,
          6,
          7,
          5,
          10,
          9,
          6,
          3,
          9,
          7,
          25,
          3
         ],
         "yaxis": "y"
        },
        {
         "hovertemplate": "Rider=Miguel Oliveira<br>Track=%{x}<br>Position=%{y}<extra></extra>",
         "legendgroup": "Miguel Oliveira",
         "line": {
          "color": "#FECB52",
          "dash": "solid"
         },
         "marker": {
          "symbol": "circle"
         },
         "mode": "lines",
         "name": "Miguel Oliveira",
         "orientation": "v",
         "showlegend": true,
         "type": "scatter",
         "x": [
          "QAT",
          "INA",
          "ARG",
          "AME",
          "POR",
          "SPA",
          "FRA",
          "ITA",
          "CAT",
          "GER",
          "NED",
          "GBR",
          "AUT",
          "RSM",
          "ARA",
          "JPN",
          "THA",
          "AUS",
          "MAL",
          "VAL"
         ],
         "xaxis": "x",
         "y": [
          25,
          1,
          13,
          18,
          5,
          12,
          25,
          9,
          9,
          9,
          9,
          6,
          12,
          11,
          11,
          5,
          1,
          12,
          13,
          5
         ],
         "yaxis": "y"
        },
        {
         "hovertemplate": "Rider=Maverick Viñales<br>Track=%{x}<br>Position=%{y}<extra></extra>",
         "legendgroup": "Maverick Viñales",
         "line": {
          "color": "#636efa",
          "dash": "solid"
         },
         "marker": {
          "symbol": "circle"
         },
         "mode": "lines",
         "name": "Maverick Viñales",
         "orientation": "v",
         "showlegend": true,
         "type": "scatter",
         "x": [
          "QAT",
          "INA",
          "ARG",
          "AME",
          "POR",
          "SPA",
          "FRA",
          "ITA",
          "CAT",
          "GER",
          "NED",
          "GBR",
          "AUT",
          "RSM",
          "ARA",
          "JPN",
          "THA",
          "AUS",
          "MAL",
          "VAL"
         ],
         "xaxis": "x",
         "y": [
          12,
          16,
          7,
          10,
          10,
          14,
          10,
          12,
          7,
          25,
          3,
          2,
          13,
          3,
          13,
          7,
          7,
          17,
          16,
          25
         ],
         "yaxis": "y"
        },
        {
         "hovertemplate": "Rider=Luca Marini<br>Track=%{x}<br>Position=%{y}<extra></extra>",
         "legendgroup": "Luca Marini",
         "line": {
          "color": "#EF553B",
          "dash": "solid"
         },
         "marker": {
          "symbol": "circle"
         },
         "mode": "lines",
         "name": "Luca Marini",
         "orientation": "v",
         "showlegend": true,
         "type": "scatter",
         "x": [
          "QAT",
          "INA",
          "ARG",
          "AME",
          "POR",
          "SPA",
          "FRA",
          "ITA",
          "CAT",
          "GER",
          "NED",
          "GBR",
          "AUT",
          "RSM",
          "ARA",
          "JPN",
          "THA",
          "AUS",
          "MAL",
          "VAL"
         ],
         "xaxis": "x",
         "y": [
          13,
          14,
          11,
          17,
          12,
          16,
          9,
          6,
          6,
          5,
          17,
          12,
          4,
          4,
          7,
          6,
          23,
          6,
          25,
          7
         ],
         "yaxis": "y"
        },
        {
         "hovertemplate": "Rider=Marc Márquez<br>Track=%{x}<br>Position=%{y}<extra></extra>",
         "legendgroup": "Marc Márquez",
         "line": {
          "color": "#00cc96",
          "dash": "solid"
         },
         "marker": {
          "symbol": "circle"
         },
         "mode": "lines",
         "name": "Marc Márquez",
         "orientation": "v",
         "showlegend": true,
         "type": "scatter",
         "x": [
          "QAT",
          "INA",
          "ARG",
          "AME",
          "POR",
          "SPA",
          "FRA",
          "ITA",
          "CAT",
          "GER",
          "NED",
          "GBR",
          "AUT",
          "RSM",
          "ARA",
          "JPN",
          "THA",
          "AUS",
          "MAL",
          "VAL"
         ],
         "xaxis": "x",
         "y": [
          5,
          25,
          25,
          6,
          6,
          4,
          6,
          10,
          25,
          25,
          25,
          25,
          25,
          25,
          25,
          4,
          5,
          2,
          7,
          25
         ],
         "yaxis": "y"
        },
        {
         "hovertemplate": "Rider=Marco Bezzecchi<br>Track=%{x}<br>Position=%{y}<extra></extra>",
         "legendgroup": "Marco Bezzecchi",
         "line": {
          "color": "#ab63fa",
          "dash": "solid"
         },
         "marker": {
          "symbol": "circle"
         },
         "mode": "lines",
         "name": "Marco Bezzecchi",
         "orientation": "v",
         "showlegend": true,
         "type": "scatter",
         "x": [
          "QAT",
          "INA",
          "ARG",
          "AME",
          "POR",
          "SPA",
          "FRA",
          "ITA",
          "CAT",
          "GER",
          "NED",
          "GBR",
          "AUT",
          "RSM",
          "ARA",
          "JPN",
          "THA",
          "AUS",
          "MAL",
          "VAL"
         ],
         "xaxis": "x",
         "y": [
          25,
          20,
          9,
          25,
          15,
          9,
          12,
          5,
          25,
          11,
          2,
          10,
          9,
          17,
          10,
          10,
          16,
          4,
          4,
          11
         ],
         "yaxis": "y"
        },
        {
         "hovertemplate": "Rider=Joan Mir<br>Track=%{x}<br>Position=%{y}<extra></extra>",
         "legendgroup": "Joan Mir",
         "line": {
          "color": "#FFA15A",
          "dash": "solid"
         },
         "marker": {
          "symbol": "circle"
         },
         "mode": "lines",
         "name": "Joan Mir",
         "orientation": "v",
         "showlegend": true,
         "type": "scatter",
         "x": [
          "QAT",
          "INA",
          "ARG",
          "AME",
          "POR",
          "SPA",
          "FRA",
          "ITA",
          "CAT",
          "GER",
          "NED",
          "GBR",
          "AUT",
          "RSM",
          "ARA",
          "JPN",
          "THA",
          "AUS",
          "MAL",
          "VAL"
         ],
         "xaxis": "x",
         "y": [
          6,
          6,
          4,
          4,
          25,
          6,
          25,
          25,
          4,
          25,
          8,
          25,
          25,
          25,
          25,
          25,
          25,
          18,
          19,
          6
         ],
         "yaxis": "y"
        },
        {
         "hovertemplate": "Rider=Pol Espargaró<br>Track=%{x}<br>Position=%{y}<extra></extra>",
         "legendgroup": "Pol Espargaró",
         "line": {
          "color": "#19d3f3",
          "dash": "solid"
         },
         "marker": {
          "symbol": "circle"
         },
         "mode": "lines",
         "name": "Pol Espargaró",
         "orientation": "v",
         "showlegend": true,
         "type": "scatter",
         "x": [
          "QAT",
          "INA",
          "ARG",
          "AME",
          "POR",
          "SPA",
          "FRA",
          "ITA",
          "CAT",
          "GER",
          "NED",
          "GBR",
          "AUT",
          "RSM",
          "ARA",
          "JPN",
          "THA",
          "AUS",
          "MAL",
          "VAL"
         ],
         "xaxis": "x",
         "y": [
          3,
          12,
          25,
          13,
          9,
          11,
          11,
          25,
          17,
          25,
          25,
          14,
          16,
          25,
          15,
          12,
          14,
          11,
          14,
          25
         ],
         "yaxis": "y"
        },
        {
         "hovertemplate": "Rider=Álex Márquez<br>Track=%{x}<br>Position=%{y}<extra></extra>",
         "legendgroup": "Álex Márquez",
         "line": {
          "color": "#FF6692",
          "dash": "solid"
         },
         "marker": {
          "symbol": "circle"
         },
         "mode": "lines",
         "name": "Álex Márquez",
         "orientation": "v",
         "showlegend": true,
         "type": "scatter",
         "x": [
          "QAT",
          "INA",
          "ARG",
          "AME",
          "POR",
          "SPA",
          "FRA",
          "ITA",
          "CAT",
          "GER",
          "NED",
          "GBR",
          "AUT",
          "RSM",
          "ARA",
          "JPN",
          "THA",
          "AUS",
          "MAL",
          "VAL"
         ],
         "xaxis": "x",
         "y": [
          25,
          13,
          15,
          25,
          7,
          13,
          14,
          14,
          10,
          25,
          15,
          17,
          14,
          10,
          12,
          13,
          8,
          25,
          17,
          17
         ],
         "yaxis": "y"
        },
        {
         "hovertemplate": "Rider=Takaaki Nakagami<br>Track=%{x}<br>Position=%{y}<extra></extra>",
         "legendgroup": "Takaaki Nakagami",
         "line": {
          "color": "#B6E880",
          "dash": "solid"
         },
         "marker": {
          "symbol": "circle"
         },
         "mode": "lines",
         "name": "Takaaki Nakagami",
         "orientation": "v",
         "showlegend": true,
         "type": "scatter",
         "x": [
          "QAT",
          "INA",
          "ARG",
          "AME",
          "POR",
          "SPA",
          "FRA",
          "ITA",
          "CAT",
          "GER",
          "NED",
          "GBR",
          "AUT",
          "RSM",
          "ARA",
          "JPN",
          "THA",
          "AUS",
          "MAL",
          "VAL"
         ],
         "xaxis": "x",
         "y": [
          10,
          19,
          12,
          14,
          16,
          7,
          7,
          8,
          25,
          25,
          12,
          13,
          25,
          15,
          25,
          20,
          25,
          25,
          25,
          14
         ],
         "yaxis": "y"
        },
        {
         "hovertemplate": "Rider=Franco Morbidelli<br>Track=%{x}<br>Position=%{y}<extra></extra>",
         "legendgroup": "Franco Morbidelli",
         "line": {
          "color": "#FF97FF",
          "dash": "solid"
         },
         "marker": {
          "symbol": "circle"
         },
         "mode": "lines",
         "name": "Franco Morbidelli",
         "orientation": "v",
         "showlegend": true,
         "type": "scatter",
         "x": [
          "QAT",
          "INA",
          "ARG",
          "AME",
          "POR",
          "SPA",
          "FRA",
          "ITA",
          "CAT",
          "GER",
          "NED",
          "GBR",
          "AUT",
          "RSM",
          "ARA",
          "JPN",
          "THA",
          "AUS",
          "MAL",
          "VAL"
         ],
         "xaxis": "x",
         "y": [
          11,
          7,
          25,
          16,
          13,
          15,
          15,
          17,
          13,
          13,
          25,
          15,
          25,
          25,
          17,
          14,
          13,
          25,
          11,
          10
         ],
         "yaxis": "y"
        },
        {
         "hovertemplate": "Rider=Fabio Di Giannantonio<br>Track=%{x}<br>Position=%{y}<extra></extra>",
         "legendgroup": "Fabio Di Giannantonio",
         "line": {
          "color": "#FECB52",
          "dash": "solid"
         },
         "marker": {
          "symbol": "circle"
         },
         "mode": "lines",
         "name": "Fabio Di Giannantonio",
         "orientation": "v",
         "showlegend": true,
         "type": "scatter",
         "x": [
          "QAT",
          "INA",
          "ARG",
          "AME",
          "POR",
          "SPA",
          "FRA",
          "ITA",
          "CAT",
          "GER",
          "NED",
          "GBR",
          "AUT",
          "RSM",
          "ARA",
          "JPN",
          "THA",
          "AUS",
          "MAL",
          "VAL"
         ],
         "xaxis": "x",
         "y": [
          17,
          18,
          25,
          21,
          25,
          18,
          13,
          11,
          25,
          8,
          14,
          22,
          11,
          20,
          19,
          17,
          18,
          20,
          25,
          15
         ],
         "yaxis": "y"
        },
        {
         "hovertemplate": "Rider=Andrea Dovizioso<br>Track=%{x}<br>Position=%{y}<extra></extra>",
         "legendgroup": "Andrea Dovizioso",
         "line": {
          "color": "#636efa",
          "dash": "solid"
         },
         "marker": {
          "symbol": "circle"
         },
         "mode": "lines",
         "name": "Andrea Dovizioso",
         "orientation": "v",
         "showlegend": true,
         "type": "scatter",
         "x": [
          "QAT",
          "INA",
          "ARG",
          "AME",
          "POR",
          "SPA",
          "FRA",
          "ITA",
          "CAT",
          "GER",
          "NED",
          "GBR",
          "AUT",
          "RSM",
          "ARA",
          "JPN",
          "THA",
          "AUS",
          "MAL",
          "VAL"
         ],
         "xaxis": "x",
         "y": [
          14,
          25,
          20,
          15,
          11,
          17,
          16,
          20,
          25,
          14,
          16,
          16,
          15,
          12,
          25,
          25,
          25,
          25,
          25,
          25
         ],
         "yaxis": "y"
        },
        {
         "hovertemplate": "Rider=Raúl Fernández<br>Track=%{x}<br>Position=%{y}<extra></extra>",
         "legendgroup": "Raúl Fernández",
         "line": {
          "color": "#EF553B",
          "dash": "solid"
         },
         "marker": {
          "symbol": "circle"
         },
         "mode": "lines",
         "name": "Raúl Fernández",
         "orientation": "v",
         "showlegend": true,
         "type": "scatter",
         "x": [
          "QAT",
          "INA",
          "ARG",
          "AME",
          "POR",
          "SPA",
          "FRA",
          "ITA",
          "CAT",
          "GER",
          "NED",
          "GBR",
          "AUT",
          "RSM",
          "ARA",
          "JPN",
          "THA",
          "AUS",
          "MAL",
          "VAL"
         ],
         "xaxis": "x",
         "y": [
          18,
          17,
          16,
          19,
          25,
          25,
          25,
          21,
          15,
          12,
          25,
          21,
          18,
          13,
          20,
          18,
          15,
          16,
          15,
          12
         ],
         "yaxis": "y"
        },
        {
         "hovertemplate": "Rider=Remy Gardner<br>Track=%{x}<br>Position=%{y}<extra></extra>",
         "legendgroup": "Remy Gardner",
         "line": {
          "color": "#00cc96",
          "dash": "solid"
         },
         "marker": {
          "symbol": "circle"
         },
         "mode": "lines",
         "name": "Remy Gardner",
         "orientation": "v",
         "showlegend": true,
         "type": "scatter",
         "x": [
          "QAT",
          "INA",
          "ARG",
          "AME",
          "POR",
          "SPA",
          "FRA",
          "ITA",
          "CAT",
          "GER",
          "NED",
          "GBR",
          "AUT",
          "RSM",
          "ARA",
          "JPN",
          "THA",
          "AUS",
          "MAL",
          "VAL"
         ],
         "xaxis": "x",
         "y": [
          15,
          21,
          17,
          20,
          14,
          20,
          25,
          19,
          11,
          15,
          19,
          18,
          20,
          19,
          16,
          19,
          25,
          15,
          18,
          13
         ],
         "yaxis": "y"
        },
        {
         "hovertemplate": "Rider=Darryn Binder<br>Track=%{x}<br>Position=%{y}<extra></extra>",
         "legendgroup": "Darryn Binder",
         "line": {
          "color": "#ab63fa",
          "dash": "solid"
         },
         "marker": {
          "symbol": "circle"
         },
         "mode": "lines",
         "name": "Darryn Binder",
         "orientation": "v",
         "showlegend": true,
         "type": "scatter",
         "x": [
          "QAT",
          "INA",
          "ARG",
          "AME",
          "POR",
          "SPA",
          "FRA",
          "ITA",
          "CAT",
          "GER",
          "NED",
          "GBR",
          "AUT",
          "RSM",
          "ARA",
          "JPN",
          "THA",
          "AUS",
          "MAL",
          "VAL"
         ],
         "xaxis": "x",
         "y": [
          16,
          10,
          18,
          22,
          17,
          25,
          17,
          16,
          12,
          25,
          25,
          20,
          25,
          16,
          18,
          25,
          21,
          14,
          25,
          25
         ],
         "yaxis": "y"
        },
        {
         "hovertemplate": "Rider=Cal Crutchlow<br>Track=%{x}<br>Position=%{y}<extra></extra>",
         "legendgroup": "Cal Crutchlow",
         "line": {
          "color": "#FFA15A",
          "dash": "solid"
         },
         "marker": {
          "symbol": "circle"
         },
         "mode": "lines",
         "name": "Cal Crutchlow",
         "orientation": "v",
         "showlegend": true,
         "type": "scatter",
         "x": [
          "QAT",
          "INA",
          "ARG",
          "AME",
          "POR",
          "SPA",
          "FRA",
          "ITA",
          "CAT",
          "GER",
          "NED",
          "GBR",
          "AUT",
          "RSM",
          "ARA",
          "JPN",
          "THA",
          "AUS",
          "MAL",
          "VAL"
         ],
         "xaxis": "x",
         "y": [
          25,
          25,
          25,
          25,
          25,
          25,
          25,
          25,
          25,
          25,
          25,
          25,
          25,
          25,
          14,
          15,
          19,
          13,
          12,
          16
         ],
         "yaxis": "y"
        },
        {
         "hovertemplate": "Rider=Michele Pirro<br>Track=%{x}<br>Position=%{y}<extra></extra>",
         "legendgroup": "Michele Pirro",
         "line": {
          "color": "#19d3f3",
          "dash": "solid"
         },
         "marker": {
          "symbol": "circle"
         },
         "mode": "lines",
         "name": "Michele Pirro",
         "orientation": "v",
         "showlegend": true,
         "type": "scatter",
         "x": [
          "QAT",
          "INA",
          "ARG",
          "AME",
          "POR",
          "SPA",
          "FRA",
          "ITA",
          "CAT",
          "GER",
          "NED",
          "GBR",
          "AUT",
          "RSM",
          "ARA",
          "JPN",
          "THA",
          "AUS",
          "MAL",
          "VAL"
         ],
         "xaxis": "x",
         "y": [
          25,
          25,
          25,
          25,
          25,
          25,
          25,
          18,
          16,
          25,
          25,
          25,
          25,
          25,
          25,
          25,
          25,
          25,
          25,
          25
         ],
         "yaxis": "y"
        },
        {
         "hovertemplate": "Rider=Lorenzo Savadori<br>Track=%{x}<br>Position=%{y}<extra></extra>",
         "legendgroup": "Lorenzo Savadori",
         "line": {
          "color": "#FF6692",
          "dash": "solid"
         },
         "marker": {
          "symbol": "circle"
         },
         "mode": "lines",
         "name": "Lorenzo Savadori",
         "orientation": "v",
         "showlegend": true,
         "type": "scatter",
         "x": [
          "QAT",
          "INA",
          "ARG",
          "AME",
          "POR",
          "SPA",
          "FRA",
          "ITA",
          "CAT",
          "GER",
          "NED",
          "GBR",
          "AUT",
          "RSM",
          "ARA",
          "JPN",
          "THA",
          "AUS",
          "MAL",
          "VAL"
         ],
         "xaxis": "x",
         "y": [
          25,
          25,
          25,
          25,
          25,
          21,
          25,
          22,
          25,
          25,
          20,
          25,
          19,
          25,
          25,
          25,
          25,
          25,
          25,
          25
         ],
         "yaxis": "y"
        },
        {
         "hovertemplate": "Rider=Danilo Petrucci<br>Track=%{x}<br>Position=%{y}<extra></extra>",
         "legendgroup": "Danilo Petrucci",
         "line": {
          "color": "#B6E880",
          "dash": "solid"
         },
         "marker": {
          "symbol": "circle"
         },
         "mode": "lines",
         "name": "Danilo Petrucci",
         "orientation": "v",
         "showlegend": true,
         "type": "scatter",
         "x": [
          "QAT",
          "INA",
          "ARG",
          "AME",
          "POR",
          "SPA",
          "FRA",
          "ITA",
          "CAT",
          "GER",
          "NED",
          "GBR",
          "AUT",
          "RSM",
          "ARA",
          "JPN",
          "THA",
          "AUS",
          "MAL",
          "VAL"
         ],
         "xaxis": "x",
         "y": [
          25,
          25,
          25,
          25,
          25,
          25,
          25,
          25,
          25,
          25,
          25,
          25,
          25,
          25,
          25,
          25,
          20,
          25,
          25,
          25
         ],
         "yaxis": "y"
        },
        {
         "hovertemplate": "Rider=Kazuki Watanabe<br>Track=%{x}<br>Position=%{y}<extra></extra>",
         "legendgroup": "Kazuki Watanabe",
         "line": {
          "color": "#FF97FF",
          "dash": "solid"
         },
         "marker": {
          "symbol": "circle"
         },
         "mode": "lines",
         "name": "Kazuki Watanabe",
         "orientation": "v",
         "showlegend": true,
         "type": "scatter",
         "x": [
          "QAT",
          "INA",
          "ARG",
          "AME",
          "POR",
          "SPA",
          "FRA",
          "ITA",
          "CAT",
          "GER",
          "NED",
          "GBR",
          "AUT",
          "RSM",
          "ARA",
          "JPN",
          "THA",
          "AUS",
          "MAL",
          "VAL"
         ],
         "xaxis": "x",
         "y": [
          25,
          25,
          25,
          25,
          25,
          25,
          25,
          25,
          25,
          25,
          25,
          25,
          25,
          21,
          25,
          25,
          25,
          25,
          25,
          25
         ],
         "yaxis": "y"
        },
        {
         "hovertemplate": "Rider=Takuya Tsuda<br>Track=%{x}<br>Position=%{y}<extra></extra>",
         "legendgroup": "Takuya Tsuda",
         "line": {
          "color": "#FECB52",
          "dash": "solid"
         },
         "marker": {
          "symbol": "circle"
         },
         "mode": "lines",
         "name": "Takuya Tsuda",
         "orientation": "v",
         "showlegend": true,
         "type": "scatter",
         "x": [
          "QAT",
          "INA",
          "ARG",
          "AME",
          "POR",
          "SPA",
          "FRA",
          "ITA",
          "CAT",
          "GER",
          "NED",
          "GBR",
          "AUT",
          "RSM",
          "ARA",
          "JPN",
          "THA",
          "AUS",
          "MAL",
          "VAL"
         ],
         "xaxis": "x",
         "y": [
          25,
          25,
          25,
          25,
          25,
          25,
          25,
          25,
          25,
          25,
          25,
          25,
          25,
          25,
          25,
          25,
          25,
          25,
          25,
          25
         ],
         "yaxis": "y"
        },
        {
         "hovertemplate": "Rider=Source:[104]<br>Track=%{x}<br>Position=%{y}<extra></extra>",
         "legendgroup": "Source:[104]",
         "line": {
          "color": "#636efa",
          "dash": "solid"
         },
         "marker": {
          "symbol": "circle"
         },
         "mode": "lines",
         "name": "Source:[104]",
         "orientation": "v",
         "showlegend": true,
         "type": "scatter",
         "x": [
          "QAT",
          "INA",
          "ARG",
          "AME",
          "POR",
          "SPA",
          "FRA",
          "ITA",
          "CAT",
          "GER",
          "NED",
          "GBR",
          "AUT",
          "RSM",
          "ARA",
          "JPN",
          "THA",
          "AUS",
          "MAL",
          "VAL"
         ],
         "xaxis": "x",
         "y": [
          104,
          104,
          104,
          104,
          104,
          104,
          104,
          104,
          104,
          104,
          104,
          104,
          104,
          104,
          104,
          104,
          104,
          104,
          104,
          104
         ],
         "yaxis": "y"
        }
       ],
       "layout": {
        "legend": {
         "title": {
          "text": "Rider"
         },
         "tracegroupgap": 0
        },
        "template": {
         "data": {
          "bar": [
           {
            "error_x": {
             "color": "#f2f5fa"
            },
            "error_y": {
             "color": "#f2f5fa"
            },
            "marker": {
             "line": {
              "color": "rgb(17,17,17)",
              "width": 0.5
             },
             "pattern": {
              "fillmode": "overlay",
              "size": 10,
              "solidity": 0.2
             }
            },
            "type": "bar"
           }
          ],
          "barpolar": [
           {
            "marker": {
             "line": {
              "color": "rgb(17,17,17)",
              "width": 0.5
             },
             "pattern": {
              "fillmode": "overlay",
              "size": 10,
              "solidity": 0.2
             }
            },
            "type": "barpolar"
           }
          ],
          "carpet": [
           {
            "aaxis": {
             "endlinecolor": "#A2B1C6",
             "gridcolor": "#506784",
             "linecolor": "#506784",
             "minorgridcolor": "#506784",
             "startlinecolor": "#A2B1C6"
            },
            "baxis": {
             "endlinecolor": "#A2B1C6",
             "gridcolor": "#506784",
             "linecolor": "#506784",
             "minorgridcolor": "#506784",
             "startlinecolor": "#A2B1C6"
            },
            "type": "carpet"
           }
          ],
          "choropleth": [
           {
            "colorbar": {
             "outlinewidth": 0,
             "ticks": ""
            },
            "type": "choropleth"
           }
          ],
          "contour": [
           {
            "colorbar": {
             "outlinewidth": 0,
             "ticks": ""
            },
            "colorscale": [
             [
              0,
              "#0d0887"
             ],
             [
              0.1111111111111111,
              "#46039f"
             ],
             [
              0.2222222222222222,
              "#7201a8"
             ],
             [
              0.3333333333333333,
              "#9c179e"
             ],
             [
              0.4444444444444444,
              "#bd3786"
             ],
             [
              0.5555555555555556,
              "#d8576b"
             ],
             [
              0.6666666666666666,
              "#ed7953"
             ],
             [
              0.7777777777777778,
              "#fb9f3a"
             ],
             [
              0.8888888888888888,
              "#fdca26"
             ],
             [
              1,
              "#f0f921"
             ]
            ],
            "type": "contour"
           }
          ],
          "contourcarpet": [
           {
            "colorbar": {
             "outlinewidth": 0,
             "ticks": ""
            },
            "type": "contourcarpet"
           }
          ],
          "heatmap": [
           {
            "colorbar": {
             "outlinewidth": 0,
             "ticks": ""
            },
            "colorscale": [
             [
              0,
              "#0d0887"
             ],
             [
              0.1111111111111111,
              "#46039f"
             ],
             [
              0.2222222222222222,
              "#7201a8"
             ],
             [
              0.3333333333333333,
              "#9c179e"
             ],
             [
              0.4444444444444444,
              "#bd3786"
             ],
             [
              0.5555555555555556,
              "#d8576b"
             ],
             [
              0.6666666666666666,
              "#ed7953"
             ],
             [
              0.7777777777777778,
              "#fb9f3a"
             ],
             [
              0.8888888888888888,
              "#fdca26"
             ],
             [
              1,
              "#f0f921"
             ]
            ],
            "type": "heatmap"
           }
          ],
          "heatmapgl": [
           {
            "colorbar": {
             "outlinewidth": 0,
             "ticks": ""
            },
            "colorscale": [
             [
              0,
              "#0d0887"
             ],
             [
              0.1111111111111111,
              "#46039f"
             ],
             [
              0.2222222222222222,
              "#7201a8"
             ],
             [
              0.3333333333333333,
              "#9c179e"
             ],
             [
              0.4444444444444444,
              "#bd3786"
             ],
             [
              0.5555555555555556,
              "#d8576b"
             ],
             [
              0.6666666666666666,
              "#ed7953"
             ],
             [
              0.7777777777777778,
              "#fb9f3a"
             ],
             [
              0.8888888888888888,
              "#fdca26"
             ],
             [
              1,
              "#f0f921"
             ]
            ],
            "type": "heatmapgl"
           }
          ],
          "histogram": [
           {
            "marker": {
             "pattern": {
              "fillmode": "overlay",
              "size": 10,
              "solidity": 0.2
             }
            },
            "type": "histogram"
           }
          ],
          "histogram2d": [
           {
            "colorbar": {
             "outlinewidth": 0,
             "ticks": ""
            },
            "colorscale": [
             [
              0,
              "#0d0887"
             ],
             [
              0.1111111111111111,
              "#46039f"
             ],
             [
              0.2222222222222222,
              "#7201a8"
             ],
             [
              0.3333333333333333,
              "#9c179e"
             ],
             [
              0.4444444444444444,
              "#bd3786"
             ],
             [
              0.5555555555555556,
              "#d8576b"
             ],
             [
              0.6666666666666666,
              "#ed7953"
             ],
             [
              0.7777777777777778,
              "#fb9f3a"
             ],
             [
              0.8888888888888888,
              "#fdca26"
             ],
             [
              1,
              "#f0f921"
             ]
            ],
            "type": "histogram2d"
           }
          ],
          "histogram2dcontour": [
           {
            "colorbar": {
             "outlinewidth": 0,
             "ticks": ""
            },
            "colorscale": [
             [
              0,
              "#0d0887"
             ],
             [
              0.1111111111111111,
              "#46039f"
             ],
             [
              0.2222222222222222,
              "#7201a8"
             ],
             [
              0.3333333333333333,
              "#9c179e"
             ],
             [
              0.4444444444444444,
              "#bd3786"
             ],
             [
              0.5555555555555556,
              "#d8576b"
             ],
             [
              0.6666666666666666,
              "#ed7953"
             ],
             [
              0.7777777777777778,
              "#fb9f3a"
             ],
             [
              0.8888888888888888,
              "#fdca26"
             ],
             [
              1,
              "#f0f921"
             ]
            ],
            "type": "histogram2dcontour"
           }
          ],
          "mesh3d": [
           {
            "colorbar": {
             "outlinewidth": 0,
             "ticks": ""
            },
            "type": "mesh3d"
           }
          ],
          "parcoords": [
           {
            "line": {
             "colorbar": {
              "outlinewidth": 0,
              "ticks": ""
             }
            },
            "type": "parcoords"
           }
          ],
          "pie": [
           {
            "automargin": true,
            "type": "pie"
           }
          ],
          "scatter": [
           {
            "marker": {
             "line": {
              "color": "#283442"
             }
            },
            "type": "scatter"
           }
          ],
          "scatter3d": [
           {
            "line": {
             "colorbar": {
              "outlinewidth": 0,
              "ticks": ""
             }
            },
            "marker": {
             "colorbar": {
              "outlinewidth": 0,
              "ticks": ""
             }
            },
            "type": "scatter3d"
           }
          ],
          "scattercarpet": [
           {
            "marker": {
             "colorbar": {
              "outlinewidth": 0,
              "ticks": ""
             }
            },
            "type": "scattercarpet"
           }
          ],
          "scattergeo": [
           {
            "marker": {
             "colorbar": {
              "outlinewidth": 0,
              "ticks": ""
             }
            },
            "type": "scattergeo"
           }
          ],
          "scattergl": [
           {
            "marker": {
             "line": {
              "color": "#283442"
             }
            },
            "type": "scattergl"
           }
          ],
          "scattermapbox": [
           {
            "marker": {
             "colorbar": {
              "outlinewidth": 0,
              "ticks": ""
             }
            },
            "type": "scattermapbox"
           }
          ],
          "scatterpolar": [
           {
            "marker": {
             "colorbar": {
              "outlinewidth": 0,
              "ticks": ""
             }
            },
            "type": "scatterpolar"
           }
          ],
          "scatterpolargl": [
           {
            "marker": {
             "colorbar": {
              "outlinewidth": 0,
              "ticks": ""
             }
            },
            "type": "scatterpolargl"
           }
          ],
          "scatterternary": [
           {
            "marker": {
             "colorbar": {
              "outlinewidth": 0,
              "ticks": ""
             }
            },
            "type": "scatterternary"
           }
          ],
          "surface": [
           {
            "colorbar": {
             "outlinewidth": 0,
             "ticks": ""
            },
            "colorscale": [
             [
              0,
              "#0d0887"
             ],
             [
              0.1111111111111111,
              "#46039f"
             ],
             [
              0.2222222222222222,
              "#7201a8"
             ],
             [
              0.3333333333333333,
              "#9c179e"
             ],
             [
              0.4444444444444444,
              "#bd3786"
             ],
             [
              0.5555555555555556,
              "#d8576b"
             ],
             [
              0.6666666666666666,
              "#ed7953"
             ],
             [
              0.7777777777777778,
              "#fb9f3a"
             ],
             [
              0.8888888888888888,
              "#fdca26"
             ],
             [
              1,
              "#f0f921"
             ]
            ],
            "type": "surface"
           }
          ],
          "table": [
           {
            "cells": {
             "fill": {
              "color": "#506784"
             },
             "line": {
              "color": "rgb(17,17,17)"
             }
            },
            "header": {
             "fill": {
              "color": "#2a3f5f"
             },
             "line": {
              "color": "rgb(17,17,17)"
             }
            },
            "type": "table"
           }
          ]
         },
         "layout": {
          "annotationdefaults": {
           "arrowcolor": "#f2f5fa",
           "arrowhead": 0,
           "arrowwidth": 1
          },
          "autotypenumbers": "strict",
          "coloraxis": {
           "colorbar": {
            "outlinewidth": 0,
            "ticks": ""
           }
          },
          "colorscale": {
           "diverging": [
            [
             0,
             "#8e0152"
            ],
            [
             0.1,
             "#c51b7d"
            ],
            [
             0.2,
             "#de77ae"
            ],
            [
             0.3,
             "#f1b6da"
            ],
            [
             0.4,
             "#fde0ef"
            ],
            [
             0.5,
             "#f7f7f7"
            ],
            [
             0.6,
             "#e6f5d0"
            ],
            [
             0.7,
             "#b8e186"
            ],
            [
             0.8,
             "#7fbc41"
            ],
            [
             0.9,
             "#4d9221"
            ],
            [
             1,
             "#276419"
            ]
           ],
           "sequential": [
            [
             0,
             "#0d0887"
            ],
            [
             0.1111111111111111,
             "#46039f"
            ],
            [
             0.2222222222222222,
             "#7201a8"
            ],
            [
             0.3333333333333333,
             "#9c179e"
            ],
            [
             0.4444444444444444,
             "#bd3786"
            ],
            [
             0.5555555555555556,
             "#d8576b"
            ],
            [
             0.6666666666666666,
             "#ed7953"
            ],
            [
             0.7777777777777778,
             "#fb9f3a"
            ],
            [
             0.8888888888888888,
             "#fdca26"
            ],
            [
             1,
             "#f0f921"
            ]
           ],
           "sequentialminus": [
            [
             0,
             "#0d0887"
            ],
            [
             0.1111111111111111,
             "#46039f"
            ],
            [
             0.2222222222222222,
             "#7201a8"
            ],
            [
             0.3333333333333333,
             "#9c179e"
            ],
            [
             0.4444444444444444,
             "#bd3786"
            ],
            [
             0.5555555555555556,
             "#d8576b"
            ],
            [
             0.6666666666666666,
             "#ed7953"
            ],
            [
             0.7777777777777778,
             "#fb9f3a"
            ],
            [
             0.8888888888888888,
             "#fdca26"
            ],
            [
             1,
             "#f0f921"
            ]
           ]
          },
          "colorway": [
           "#636efa",
           "#EF553B",
           "#00cc96",
           "#ab63fa",
           "#FFA15A",
           "#19d3f3",
           "#FF6692",
           "#B6E880",
           "#FF97FF",
           "#FECB52"
          ],
          "font": {
           "color": "#f2f5fa"
          },
          "geo": {
           "bgcolor": "rgb(17,17,17)",
           "lakecolor": "rgb(17,17,17)",
           "landcolor": "rgb(17,17,17)",
           "showlakes": true,
           "showland": true,
           "subunitcolor": "#506784"
          },
          "hoverlabel": {
           "align": "left"
          },
          "hovermode": "closest",
          "mapbox": {
           "style": "dark"
          },
          "paper_bgcolor": "rgb(17,17,17)",
          "plot_bgcolor": "rgb(17,17,17)",
          "polar": {
           "angularaxis": {
            "gridcolor": "#506784",
            "linecolor": "#506784",
            "ticks": ""
           },
           "bgcolor": "rgb(17,17,17)",
           "radialaxis": {
            "gridcolor": "#506784",
            "linecolor": "#506784",
            "ticks": ""
           }
          },
          "scene": {
           "xaxis": {
            "backgroundcolor": "rgb(17,17,17)",
            "gridcolor": "#506784",
            "gridwidth": 2,
            "linecolor": "#506784",
            "showbackground": true,
            "ticks": "",
            "zerolinecolor": "#C8D4E3"
           },
           "yaxis": {
            "backgroundcolor": "rgb(17,17,17)",
            "gridcolor": "#506784",
            "gridwidth": 2,
            "linecolor": "#506784",
            "showbackground": true,
            "ticks": "",
            "zerolinecolor": "#C8D4E3"
           },
           "zaxis": {
            "backgroundcolor": "rgb(17,17,17)",
            "gridcolor": "#506784",
            "gridwidth": 2,
            "linecolor": "#506784",
            "showbackground": true,
            "ticks": "",
            "zerolinecolor": "#C8D4E3"
           }
          },
          "shapedefaults": {
           "line": {
            "color": "#f2f5fa"
           }
          },
          "sliderdefaults": {
           "bgcolor": "#C8D4E3",
           "bordercolor": "rgb(17,17,17)",
           "borderwidth": 1,
           "tickwidth": 0
          },
          "ternary": {
           "aaxis": {
            "gridcolor": "#506784",
            "linecolor": "#506784",
            "ticks": ""
           },
           "baxis": {
            "gridcolor": "#506784",
            "linecolor": "#506784",
            "ticks": ""
           },
           "bgcolor": "rgb(17,17,17)",
           "caxis": {
            "gridcolor": "#506784",
            "linecolor": "#506784",
            "ticks": ""
           }
          },
          "title": {
           "x": 0.05
          },
          "updatemenudefaults": {
           "bgcolor": "#506784",
           "borderwidth": 0
          },
          "xaxis": {
           "automargin": true,
           "gridcolor": "#283442",
           "linecolor": "#506784",
           "ticks": "",
           "title": {
            "standoff": 15
           },
           "zerolinecolor": "#283442",
           "zerolinewidth": 2
          },
          "yaxis": {
           "automargin": true,
           "gridcolor": "#283442",
           "linecolor": "#506784",
           "ticks": "",
           "title": {
            "standoff": 15
           },
           "zerolinecolor": "#283442",
           "zerolinewidth": 2
          }
         }
        },
        "title": {
         "text": "MotoGp Rider Position 2022"
        },
        "xaxis": {
         "anchor": "y",
         "domain": [
          0,
          1
         ],
         "title": {
          "text": "Track"
         }
        },
        "yaxis": {
         "anchor": "x",
         "autorange": "reversed",
         "domain": [
          0,
          1
         ],
         "title": {
          "text": "Position"
         }
        }
       }
      }
     },
     "metadata": {},
     "output_type": "display_data"
    }
   ],
   "source": [
    "import plotly.express as px\n",
    "\n",
    "\n",
    "fig1 = px.line(\n",
    "                df5, \n",
    "                x=df5[\"Track\"], \n",
    "                y=df5.columns[1:], \n",
    "                template=\"plotly_dark\",\n",
    "                labels={\n",
    "                    \"Track\": \"Track\",\n",
    "                    \"value\": \"Position\",\n",
    "                    \"variable\": \"Rider\"\n",
    "                    },\n",
    "                title=\"MotoGp Rider Position 2022\",\n",
    "            )\n",
    "\n",
    "fig1['layout']['yaxis']['autorange'] = \"reversed\"\n",
    "\n",
    "# fig1.update_layout(height=800, width=2250)\n",
    "\n",
    "fig1.show()\n"
   ]
  },
  {
   "cell_type": "code",
   "execution_count": 16,
   "metadata": {},
   "outputs": [
    {
     "data": {
      "application/vnd.plotly.v1+json": {
       "config": {
        "plotlyServerURL": "https://plot.ly"
       },
       "data": [
        {
         "hovertemplate": "Rider=Francesco Bagnaia<br>Track=%{x}<br>Points Total=%{y}<extra></extra>",
         "legendgroup": "Francesco Bagnaia",
         "line": {
          "color": "#636efa",
          "dash": "solid"
         },
         "marker": {
          "symbol": "circle"
         },
         "mode": "lines",
         "name": "Francesco Bagnaia",
         "orientation": "v",
         "showlegend": true,
         "type": "scatter",
         "x": [
          "QAT",
          "INA",
          "ARG",
          "AME",
          "POR",
          "SPA",
          "FRA",
          "ITA",
          "CAT",
          "GER",
          "NED",
          "GBR",
          "AUT",
          "RSM",
          "ARA",
          "JPN",
          "THA",
          "AUS",
          "MAL",
          "VAL"
         ],
         "xaxis": "x",
         "y": [
          0,
          1,
          12,
          23,
          31,
          56,
          56,
          81,
          81,
          81,
          106,
          131,
          156,
          181,
          201,
          201,
          217,
          233,
          258,
          265
         ],
         "yaxis": "y"
        },
        {
         "hovertemplate": "Rider=Fabio Quartararo<br>Track=%{x}<br>Points Total=%{y}<extra></extra>",
         "legendgroup": "Fabio Quartararo",
         "line": {
          "color": "#EF553B",
          "dash": "solid"
         },
         "marker": {
          "symbol": "circle"
         },
         "mode": "lines",
         "name": "Fabio Quartararo",
         "orientation": "v",
         "showlegend": true,
         "type": "scatter",
         "x": [
          "QAT",
          "INA",
          "ARG",
          "AME",
          "POR",
          "SPA",
          "FRA",
          "ITA",
          "CAT",
          "GER",
          "NED",
          "GBR",
          "AUT",
          "RSM",
          "ARA",
          "JPN",
          "THA",
          "AUS",
          "MAL",
          "VAL"
         ],
         "xaxis": "x",
         "y": [
          7,
          27,
          35,
          44,
          69,
          89,
          102,
          122,
          147,
          172,
          172,
          180,
          200,
          211,
          211,
          219,
          219,
          219,
          235,
          248
         ],
         "yaxis": "y"
        },
        {
         "hovertemplate": "Rider=Enea Bastianini<br>Track=%{x}<br>Points Total=%{y}<extra></extra>",
         "legendgroup": "Enea Bastianini",
         "line": {
          "color": "#00cc96",
          "dash": "solid"
         },
         "marker": {
          "symbol": "circle"
         },
         "mode": "lines",
         "name": "Enea Bastianini",
         "orientation": "v",
         "showlegend": true,
         "type": "scatter",
         "x": [
          "QAT",
          "INA",
          "ARG",
          "AME",
          "POR",
          "SPA",
          "FRA",
          "ITA",
          "CAT",
          "GER",
          "NED",
          "GBR",
          "AUT",
          "RSM",
          "ARA",
          "JPN",
          "THA",
          "AUS",
          "MAL",
          "VAL"
         ],
         "xaxis": "x",
         "y": [
          25,
          30,
          36,
          61,
          61,
          69,
          94,
          94,
          94,
          100,
          105,
          118,
          118,
          138,
          163,
          170,
          180,
          191,
          211,
          219
         ],
         "yaxis": "y"
        },
        {
         "hovertemplate": "Rider=Aleix Espargaró<br>Track=%{x}<br>Points Total=%{y}<extra></extra>",
         "legendgroup": "Aleix Espargaró",
         "line": {
          "color": "#ab63fa",
          "dash": "solid"
         },
         "marker": {
          "symbol": "circle"
         },
         "mode": "lines",
         "name": "Aleix Espargaró",
         "orientation": "v",
         "showlegend": true,
         "type": "scatter",
         "x": [
          "QAT",
          "INA",
          "ARG",
          "AME",
          "POR",
          "SPA",
          "FRA",
          "ITA",
          "CAT",
          "GER",
          "NED",
          "GBR",
          "AUT",
          "RSM",
          "ARA",
          "JPN",
          "THA",
          "AUS",
          "MAL",
          "VAL"
         ],
         "xaxis": "x",
         "y": [
          13,
          20,
          45,
          50,
          66,
          82,
          98,
          114,
          125,
          138,
          151,
          158,
          168,
          178,
          194,
          194,
          199,
          206,
          212,
          212
         ],
         "yaxis": "y"
        },
        {
         "hovertemplate": "Rider=Jack Miller<br>Track=%{x}<br>Points Total=%{y}<extra></extra>",
         "legendgroup": "Jack Miller",
         "line": {
          "color": "#FFA15A",
          "dash": "solid"
         },
         "marker": {
          "symbol": "circle"
         },
         "mode": "lines",
         "name": "Jack Miller",
         "orientation": "v",
         "showlegend": true,
         "type": "scatter",
         "x": [
          "QAT",
          "INA",
          "ARG",
          "AME",
          "POR",
          "SPA",
          "FRA",
          "ITA",
          "CAT",
          "GER",
          "NED",
          "GBR",
          "AUT",
          "RSM",
          "ARA",
          "JPN",
          "THA",
          "AUS",
          "MAL",
          "VAL"
         ],
         "xaxis": "x",
         "y": [
          0,
          13,
          15,
          31,
          31,
          42,
          62,
          63,
          65,
          81,
          91,
          107,
          123,
          123,
          134,
          159,
          179,
          179,
          189,
          189
         ],
         "yaxis": "y"
        },
        {
         "hovertemplate": "Rider=Brad Binder<br>Track=%{x}<br>Points Total=%{y}<extra></extra>",
         "legendgroup": "Brad Binder",
         "line": {
          "color": "#19d3f3",
          "dash": "solid"
         },
         "marker": {
          "symbol": "circle"
         },
         "mode": "lines",
         "name": "Brad Binder",
         "orientation": "v",
         "showlegend": true,
         "type": "scatter",
         "x": [
          "QAT",
          "INA",
          "ARG",
          "AME",
          "POR",
          "SPA",
          "FRA",
          "ITA",
          "CAT",
          "GER",
          "NED",
          "GBR",
          "AUT",
          "RSM",
          "ARA",
          "JPN",
          "THA",
          "AUS",
          "MAL",
          "VAL"
         ],
         "xaxis": "x",
         "y": [
          20,
          28,
          38,
          42,
          42,
          48,
          56,
          65,
          73,
          82,
          93,
          98,
          107,
          115,
          128,
          148,
          154,
          160,
          168,
          188
         ],
         "yaxis": "y"
        },
        {
         "hovertemplate": "Rider=Álex Rins<br>Track=%{x}<br>Points Total=%{y}<extra></extra>",
         "legendgroup": "Álex Rins",
         "line": {
          "color": "#FF6692",
          "dash": "solid"
         },
         "marker": {
          "symbol": "circle"
         },
         "mode": "lines",
         "name": "Álex Rins",
         "orientation": "v",
         "showlegend": true,
         "type": "scatter",
         "x": [
          "QAT",
          "INA",
          "ARG",
          "AME",
          "POR",
          "SPA",
          "FRA",
          "ITA",
          "CAT",
          "GER",
          "NED",
          "GBR",
          "AUT",
          "RSM",
          "ARA",
          "JPN",
          "THA",
          "AUS",
          "MAL",
          "VAL"
         ],
         "xaxis": "x",
         "y": [
          9,
          20,
          36,
          56,
          69,
          69,
          69,
          69,
          69,
          69,
          75,
          84,
          92,
          101,
          108,
          108,
          112,
          137,
          148,
          173
         ],
         "yaxis": "y"
        },
        {
         "hovertemplate": "Rider=Johann Zarco<br>Track=%{x}<br>Points Total=%{y}<extra></extra>",
         "legendgroup": "Johann Zarco",
         "line": {
          "color": "#B6E880",
          "dash": "solid"
         },
         "marker": {
          "symbol": "circle"
         },
         "mode": "lines",
         "name": "Johann Zarco",
         "orientation": "v",
         "showlegend": true,
         "type": "scatter",
         "x": [
          "QAT",
          "INA",
          "ARG",
          "AME",
          "POR",
          "SPA",
          "FRA",
          "ITA",
          "CAT",
          "GER",
          "NED",
          "GBR",
          "AUT",
          "RSM",
          "ARA",
          "JPN",
          "THA",
          "AUS",
          "MAL",
          "VAL"
         ],
         "xaxis": "x",
         "y": [
          8,
          24,
          24,
          31,
          51,
          51,
          62,
          75,
          91,
          111,
          114,
          114,
          125,
          125,
          133,
          138,
          151,
          159,
          166,
          166
         ],
         "yaxis": "y"
        },
        {
         "hovertemplate": "Rider=Jorge Martín<br>Track=%{x}<br>Points Total=%{y}<extra></extra>",
         "legendgroup": "Jorge Martín",
         "line": {
          "color": "#FF97FF",
          "dash": "solid"
         },
         "marker": {
          "symbol": "circle"
         },
         "mode": "lines",
         "name": "Jorge Martín",
         "orientation": "v",
         "showlegend": true,
         "type": "scatter",
         "x": [
          "QAT",
          "INA",
          "ARG",
          "AME",
          "POR",
          "SPA",
          "FRA",
          "ITA",
          "CAT",
          "GER",
          "NED",
          "GBR",
          "AUT",
          "RSM",
          "ARA",
          "JPN",
          "THA",
          "AUS",
          "MAL",
          "VAL"
         ],
         "xaxis": "x",
         "y": [
          0,
          0,
          20,
          28,
          28,
          28,
          28,
          31,
          51,
          61,
          70,
          81,
          87,
          94,
          104,
          120,
          127,
          136,
          136,
          152
         ],
         "yaxis": "y"
        },
        {
         "hovertemplate": "Rider=Miguel Oliveira<br>Track=%{x}<br>Points Total=%{y}<extra></extra>",
         "legendgroup": "Miguel Oliveira",
         "line": {
          "color": "#FECB52",
          "dash": "solid"
         },
         "marker": {
          "symbol": "circle"
         },
         "mode": "lines",
         "name": "Miguel Oliveira",
         "orientation": "v",
         "showlegend": true,
         "type": "scatter",
         "x": [
          "QAT",
          "INA",
          "ARG",
          "AME",
          "POR",
          "SPA",
          "FRA",
          "ITA",
          "CAT",
          "GER",
          "NED",
          "GBR",
          "AUT",
          "RSM",
          "ARA",
          "JPN",
          "THA",
          "AUS",
          "MAL",
          "VAL"
         ],
         "xaxis": "x",
         "y": [
          0,
          25,
          28,
          28,
          39,
          43,
          43,
          50,
          57,
          64,
          71,
          81,
          85,
          90,
          95,
          106,
          131,
          135,
          138,
          149
         ],
         "yaxis": "y"
        },
        {
         "hovertemplate": "Rider=Maverick Viñales<br>Track=%{x}<br>Points Total=%{y}<extra></extra>",
         "legendgroup": "Maverick Viñales",
         "line": {
          "color": "#636efa",
          "dash": "solid"
         },
         "marker": {
          "symbol": "circle"
         },
         "mode": "lines",
         "name": "Maverick Viñales",
         "orientation": "v",
         "showlegend": true,
         "type": "scatter",
         "x": [
          "QAT",
          "INA",
          "ARG",
          "AME",
          "POR",
          "SPA",
          "FRA",
          "ITA",
          "CAT",
          "GER",
          "NED",
          "GBR",
          "AUT",
          "RSM",
          "ARA",
          "JPN",
          "THA",
          "AUS",
          "MAL",
          "VAL"
         ],
         "xaxis": "x",
         "y": [
          4,
          4,
          13,
          19,
          25,
          27,
          33,
          37,
          46,
          46,
          62,
          82,
          85,
          101,
          104,
          113,
          122,
          122,
          122,
          122
         ],
         "yaxis": "y"
        },
        {
         "hovertemplate": "Rider=Luca Marini<br>Track=%{x}<br>Points Total=%{y}<extra></extra>",
         "legendgroup": "Luca Marini",
         "line": {
          "color": "#EF553B",
          "dash": "solid"
         },
         "marker": {
          "symbol": "circle"
         },
         "mode": "lines",
         "name": "Luca Marini",
         "orientation": "v",
         "showlegend": true,
         "type": "scatter",
         "x": [
          "QAT",
          "INA",
          "ARG",
          "AME",
          "POR",
          "SPA",
          "FRA",
          "ITA",
          "CAT",
          "GER",
          "NED",
          "GBR",
          "AUT",
          "RSM",
          "ARA",
          "JPN",
          "THA",
          "AUS",
          "MAL",
          "VAL"
         ],
         "xaxis": "x",
         "y": [
          3,
          5,
          10,
          10,
          14,
          14,
          21,
          31,
          41,
          52,
          52,
          56,
          69,
          82,
          91,
          101,
          101,
          111,
          111,
          120
         ],
         "yaxis": "y"
        },
        {
         "hovertemplate": "Rider=Marc Márquez<br>Track=%{x}<br>Points Total=%{y}<extra></extra>",
         "legendgroup": "Marc Márquez",
         "line": {
          "color": "#00cc96",
          "dash": "solid"
         },
         "marker": {
          "symbol": "circle"
         },
         "mode": "lines",
         "name": "Marc Márquez",
         "orientation": "v",
         "showlegend": true,
         "type": "scatter",
         "x": [
          "QAT",
          "INA",
          "ARG",
          "AME",
          "POR",
          "SPA",
          "FRA",
          "ITA",
          "CAT",
          "GER",
          "NED",
          "GBR",
          "AUT",
          "RSM",
          "ARA",
          "JPN",
          "THA",
          "AUS",
          "MAL",
          "VAL"
         ],
         "xaxis": "x",
         "y": [
          11,
          11,
          11,
          21,
          31,
          44,
          54,
          60,
          60,
          60,
          60,
          60,
          60,
          60,
          60,
          73,
          84,
          104,
          113,
          113
         ],
         "yaxis": "y"
        },
        {
         "hovertemplate": "Rider=Marco Bezzecchi<br>Track=%{x}<br>Points Total=%{y}<extra></extra>",
         "legendgroup": "Marco Bezzecchi",
         "line": {
          "color": "#ab63fa",
          "dash": "solid"
         },
         "marker": {
          "symbol": "circle"
         },
         "mode": "lines",
         "name": "Marco Bezzecchi",
         "orientation": "v",
         "showlegend": true,
         "type": "scatter",
         "x": [
          "QAT",
          "INA",
          "ARG",
          "AME",
          "POR",
          "SPA",
          "FRA",
          "ITA",
          "CAT",
          "GER",
          "NED",
          "GBR",
          "AUT",
          "RSM",
          "ARA",
          "JPN",
          "THA",
          "AUS",
          "MAL",
          "VAL"
         ],
         "xaxis": "x",
         "y": [
          0,
          0,
          7,
          7,
          8,
          15,
          19,
          30,
          30,
          35,
          55,
          61,
          68,
          68,
          74,
          80,
          80,
          93,
          106,
          111
         ],
         "yaxis": "y"
        },
        {
         "hovertemplate": "Rider=Joan Mir<br>Track=%{x}<br>Points Total=%{y}<extra></extra>",
         "legendgroup": "Joan Mir",
         "line": {
          "color": "#FFA15A",
          "dash": "solid"
         },
         "marker": {
          "symbol": "circle"
         },
         "mode": "lines",
         "name": "Joan Mir",
         "orientation": "v",
         "showlegend": true,
         "type": "scatter",
         "x": [
          "QAT",
          "INA",
          "ARG",
          "AME",
          "POR",
          "SPA",
          "FRA",
          "ITA",
          "CAT",
          "GER",
          "NED",
          "GBR",
          "AUT",
          "RSM",
          "ARA",
          "JPN",
          "THA",
          "AUS",
          "MAL",
          "VAL"
         ],
         "xaxis": "x",
         "y": [
          10,
          20,
          33,
          46,
          46,
          56,
          56,
          56,
          69,
          69,
          77,
          77,
          77,
          77,
          77,
          77,
          77,
          77,
          77,
          87
         ],
         "yaxis": "y"
        },
        {
         "hovertemplate": "Rider=Pol Espargaró<br>Track=%{x}<br>Points Total=%{y}<extra></extra>",
         "legendgroup": "Pol Espargaró",
         "line": {
          "color": "#19d3f3",
          "dash": "solid"
         },
         "marker": {
          "symbol": "circle"
         },
         "mode": "lines",
         "name": "Pol Espargaró",
         "orientation": "v",
         "showlegend": true,
         "type": "scatter",
         "x": [
          "QAT",
          "INA",
          "ARG",
          "AME",
          "POR",
          "SPA",
          "FRA",
          "ITA",
          "CAT",
          "GER",
          "NED",
          "GBR",
          "AUT",
          "RSM",
          "ARA",
          "JPN",
          "THA",
          "AUS",
          "MAL",
          "VAL"
         ],
         "xaxis": "x",
         "y": [
          16,
          20,
          20,
          23,
          30,
          35,
          40,
          40,
          40,
          40,
          40,
          42,
          42,
          42,
          43,
          47,
          49,
          54,
          56,
          56
         ],
         "yaxis": "y"
        },
        {
         "hovertemplate": "Rider=Álex Márquez<br>Track=%{x}<br>Points Total=%{y}<extra></extra>",
         "legendgroup": "Álex Márquez",
         "line": {
          "color": "#FF6692",
          "dash": "solid"
         },
         "marker": {
          "symbol": "circle"
         },
         "mode": "lines",
         "name": "Álex Márquez",
         "orientation": "v",
         "showlegend": true,
         "type": "scatter",
         "x": [
          "QAT",
          "INA",
          "ARG",
          "AME",
          "POR",
          "SPA",
          "FRA",
          "ITA",
          "CAT",
          "GER",
          "NED",
          "GBR",
          "AUT",
          "RSM",
          "ARA",
          "JPN",
          "THA",
          "AUS",
          "MAL",
          "VAL"
         ],
         "xaxis": "x",
         "y": [
          0,
          3,
          4,
          4,
          13,
          16,
          18,
          20,
          26,
          26,
          27,
          27,
          29,
          35,
          39,
          42,
          50,
          50,
          50,
          50
         ],
         "yaxis": "y"
        },
        {
         "hovertemplate": "Rider=Takaaki Nakagami<br>Track=%{x}<br>Points Total=%{y}<extra></extra>",
         "legendgroup": "Takaaki Nakagami",
         "line": {
          "color": "#B6E880",
          "dash": "solid"
         },
         "marker": {
          "symbol": "circle"
         },
         "mode": "lines",
         "name": "Takaaki Nakagami",
         "orientation": "v",
         "showlegend": true,
         "type": "scatter",
         "x": [
          "QAT",
          "INA",
          "ARG",
          "AME",
          "POR",
          "SPA",
          "FRA",
          "ITA",
          "CAT",
          "GER",
          "NED",
          "GBR",
          "AUT",
          "RSM",
          "ARA",
          "JPN",
          "THA",
          "AUS",
          "MAL",
          "VAL"
         ],
         "xaxis": "x",
         "y": [
          6,
          6,
          10,
          12,
          12,
          21,
          30,
          38,
          38,
          38,
          42,
          45,
          45,
          46,
          46,
          46,
          46,
          46,
          46,
          48
         ],
         "yaxis": "y"
        },
        {
         "hovertemplate": "Rider=Franco Morbidelli<br>Track=%{x}<br>Points Total=%{y}<extra></extra>",
         "legendgroup": "Franco Morbidelli",
         "line": {
          "color": "#FF97FF",
          "dash": "solid"
         },
         "marker": {
          "symbol": "circle"
         },
         "mode": "lines",
         "name": "Franco Morbidelli",
         "orientation": "v",
         "showlegend": true,
         "type": "scatter",
         "x": [
          "QAT",
          "INA",
          "ARG",
          "AME",
          "POR",
          "SPA",
          "FRA",
          "ITA",
          "CAT",
          "GER",
          "NED",
          "GBR",
          "AUT",
          "RSM",
          "ARA",
          "JPN",
          "THA",
          "AUS",
          "MAL",
          "VAL"
         ],
         "xaxis": "x",
         "y": [
          5,
          14,
          14,
          14,
          17,
          18,
          19,
          19,
          22,
          25,
          25,
          26,
          26,
          26,
          26,
          28,
          31,
          31,
          36,
          42
         ],
         "yaxis": "y"
        },
        {
         "hovertemplate": "Rider=Fabio Di Giannantonio<br>Track=%{x}<br>Points Total=%{y}<extra></extra>",
         "legendgroup": "Fabio Di Giannantonio",
         "line": {
          "color": "#FECB52",
          "dash": "solid"
         },
         "marker": {
          "symbol": "circle"
         },
         "mode": "lines",
         "name": "Fabio Di Giannantonio",
         "orientation": "v",
         "showlegend": true,
         "type": "scatter",
         "x": [
          "QAT",
          "INA",
          "ARG",
          "AME",
          "POR",
          "SPA",
          "FRA",
          "ITA",
          "CAT",
          "GER",
          "NED",
          "GBR",
          "AUT",
          "RSM",
          "ARA",
          "JPN",
          "THA",
          "AUS",
          "MAL",
          "VAL"
         ],
         "xaxis": "x",
         "y": [
          0,
          0,
          0,
          0,
          0,
          0,
          3,
          8,
          8,
          16,
          18,
          18,
          23,
          23,
          23,
          23,
          23,
          23,
          23,
          24
         ],
         "yaxis": "y"
        },
        {
         "hovertemplate": "Rider=Andrea Dovizioso<br>Track=%{x}<br>Points Total=%{y}<extra></extra>",
         "legendgroup": "Andrea Dovizioso",
         "line": {
          "color": "#636efa",
          "dash": "solid"
         },
         "marker": {
          "symbol": "circle"
         },
         "mode": "lines",
         "name": "Andrea Dovizioso",
         "orientation": "v",
         "showlegend": true,
         "type": "scatter",
         "x": [
          "QAT",
          "INA",
          "ARG",
          "AME",
          "POR",
          "SPA",
          "FRA",
          "ITA",
          "CAT",
          "GER",
          "NED",
          "GBR",
          "AUT",
          "RSM",
          "ARA",
          "JPN",
          "THA",
          "AUS",
          "MAL",
          "VAL"
         ],
         "xaxis": "x",
         "y": [
          2,
          2,
          2,
          3,
          8,
          8,
          8,
          8,
          8,
          10,
          10,
          10,
          11,
          15,
          15,
          15,
          15,
          15,
          15,
          15
         ],
         "yaxis": "y"
        },
        {
         "hovertemplate": "Rider=Raúl Fernández<br>Track=%{x}<br>Points Total=%{y}<extra></extra>",
         "legendgroup": "Raúl Fernández",
         "line": {
          "color": "#EF553B",
          "dash": "solid"
         },
         "marker": {
          "symbol": "circle"
         },
         "mode": "lines",
         "name": "Raúl Fernández",
         "orientation": "v",
         "showlegend": true,
         "type": "scatter",
         "x": [
          "QAT",
          "INA",
          "ARG",
          "AME",
          "POR",
          "SPA",
          "FRA",
          "ITA",
          "CAT",
          "GER",
          "NED",
          "GBR",
          "AUT",
          "RSM",
          "ARA",
          "JPN",
          "THA",
          "AUS",
          "MAL",
          "VAL"
         ],
         "xaxis": "x",
         "y": [
          0,
          0,
          0,
          0,
          0,
          0,
          0,
          0,
          1,
          5,
          5,
          5,
          5,
          8,
          8,
          8,
          9,
          9,
          10,
          14
         ],
         "yaxis": "y"
        },
        {
         "hovertemplate": "Rider=Remy Gardner<br>Track=%{x}<br>Points Total=%{y}<extra></extra>",
         "legendgroup": "Remy Gardner",
         "line": {
          "color": "#00cc96",
          "dash": "solid"
         },
         "marker": {
          "symbol": "circle"
         },
         "mode": "lines",
         "name": "Remy Gardner",
         "orientation": "v",
         "showlegend": true,
         "type": "scatter",
         "x": [
          "QAT",
          "INA",
          "ARG",
          "AME",
          "POR",
          "SPA",
          "FRA",
          "ITA",
          "CAT",
          "GER",
          "NED",
          "GBR",
          "AUT",
          "RSM",
          "ARA",
          "JPN",
          "THA",
          "AUS",
          "MAL",
          "VAL"
         ],
         "xaxis": "x",
         "y": [
          1,
          1,
          1,
          1,
          3,
          3,
          3,
          3,
          8,
          9,
          9,
          9,
          9,
          9,
          9,
          9,
          9,
          10,
          10,
          13
         ],
         "yaxis": "y"
        },
        {
         "hovertemplate": "Rider=Darryn Binder<br>Track=%{x}<br>Points Total=%{y}<extra></extra>",
         "legendgroup": "Darryn Binder",
         "line": {
          "color": "#ab63fa",
          "dash": "solid"
         },
         "marker": {
          "symbol": "circle"
         },
         "mode": "lines",
         "name": "Darryn Binder",
         "orientation": "v",
         "showlegend": true,
         "type": "scatter",
         "x": [
          "QAT",
          "INA",
          "ARG",
          "AME",
          "POR",
          "SPA",
          "FRA",
          "ITA",
          "CAT",
          "GER",
          "NED",
          "GBR",
          "AUT",
          "RSM",
          "ARA",
          "JPN",
          "THA",
          "AUS",
          "MAL",
          "VAL"
         ],
         "xaxis": "x",
         "y": [
          0,
          6,
          6,
          6,
          6,
          6,
          6,
          6,
          10,
          10,
          10,
          10,
          10,
          10,
          10,
          10,
          10,
          12,
          12,
          12
         ],
         "yaxis": "y"
        },
        {
         "hovertemplate": "Rider=Cal Crutchlow<br>Track=%{x}<br>Points Total=%{y}<extra></extra>",
         "legendgroup": "Cal Crutchlow",
         "line": {
          "color": "#FFA15A",
          "dash": "solid"
         },
         "marker": {
          "symbol": "circle"
         },
         "mode": "lines",
         "name": "Cal Crutchlow",
         "orientation": "v",
         "showlegend": true,
         "type": "scatter",
         "x": [
          "QAT",
          "INA",
          "ARG",
          "AME",
          "POR",
          "SPA",
          "FRA",
          "ITA",
          "CAT",
          "GER",
          "NED",
          "GBR",
          "AUT",
          "RSM",
          "ARA",
          "JPN",
          "THA",
          "AUS",
          "MAL",
          "VAL"
         ],
         "xaxis": "x",
         "y": [
          0,
          0,
          0,
          0,
          0,
          0,
          0,
          0,
          0,
          0,
          0,
          0,
          0,
          0,
          2,
          3,
          3,
          6,
          10,
          10
         ],
         "yaxis": "y"
        },
        {
         "hovertemplate": "Rider=Michele Pirro<br>Track=%{x}<br>Points Total=%{y}<extra></extra>",
         "legendgroup": "Michele Pirro",
         "line": {
          "color": "#19d3f3",
          "dash": "solid"
         },
         "marker": {
          "symbol": "circle"
         },
         "mode": "lines",
         "name": "Michele Pirro",
         "orientation": "v",
         "showlegend": true,
         "type": "scatter",
         "x": [
          "QAT",
          "INA",
          "ARG",
          "AME",
          "POR",
          "SPA",
          "FRA",
          "ITA",
          "CAT",
          "GER",
          "NED",
          "GBR",
          "AUT",
          "RSM",
          "ARA",
          "JPN",
          "THA",
          "AUS",
          "MAL",
          "VAL"
         ],
         "xaxis": "x",
         "y": [
          0,
          0,
          0,
          0,
          0,
          0,
          0,
          0,
          0,
          0,
          0,
          0,
          0,
          0,
          0,
          0,
          0,
          0,
          0,
          0
         ],
         "yaxis": "y"
        },
        {
         "hovertemplate": "Rider=Lorenzo Savadori<br>Track=%{x}<br>Points Total=%{y}<extra></extra>",
         "legendgroup": "Lorenzo Savadori",
         "line": {
          "color": "#FF6692",
          "dash": "solid"
         },
         "marker": {
          "symbol": "circle"
         },
         "mode": "lines",
         "name": "Lorenzo Savadori",
         "orientation": "v",
         "showlegend": true,
         "type": "scatter",
         "x": [
          "QAT",
          "INA",
          "ARG",
          "AME",
          "POR",
          "SPA",
          "FRA",
          "ITA",
          "CAT",
          "GER",
          "NED",
          "GBR",
          "AUT",
          "RSM",
          "ARA",
          "JPN",
          "THA",
          "AUS",
          "MAL",
          "VAL"
         ],
         "xaxis": "x",
         "y": [
          0,
          0,
          0,
          0,
          0,
          0,
          0,
          0,
          0,
          0,
          0,
          0,
          0,
          0,
          0,
          0,
          0,
          0,
          0,
          0
         ],
         "yaxis": "y"
        },
        {
         "hovertemplate": "Rider=Danilo Petrucci<br>Track=%{x}<br>Points Total=%{y}<extra></extra>",
         "legendgroup": "Danilo Petrucci",
         "line": {
          "color": "#B6E880",
          "dash": "solid"
         },
         "marker": {
          "symbol": "circle"
         },
         "mode": "lines",
         "name": "Danilo Petrucci",
         "orientation": "v",
         "showlegend": true,
         "type": "scatter",
         "x": [
          "QAT",
          "INA",
          "ARG",
          "AME",
          "POR",
          "SPA",
          "FRA",
          "ITA",
          "CAT",
          "GER",
          "NED",
          "GBR",
          "AUT",
          "RSM",
          "ARA",
          "JPN",
          "THA",
          "AUS",
          "MAL",
          "VAL"
         ],
         "xaxis": "x",
         "y": [
          0,
          0,
          0,
          0,
          0,
          0,
          0,
          0,
          0,
          0,
          0,
          0,
          0,
          0,
          0,
          0,
          0,
          0,
          0,
          0
         ],
         "yaxis": "y"
        },
        {
         "hovertemplate": "Rider=Kazuki Watanabe<br>Track=%{x}<br>Points Total=%{y}<extra></extra>",
         "legendgroup": "Kazuki Watanabe",
         "line": {
          "color": "#FF97FF",
          "dash": "solid"
         },
         "marker": {
          "symbol": "circle"
         },
         "mode": "lines",
         "name": "Kazuki Watanabe",
         "orientation": "v",
         "showlegend": true,
         "type": "scatter",
         "x": [
          "QAT",
          "INA",
          "ARG",
          "AME",
          "POR",
          "SPA",
          "FRA",
          "ITA",
          "CAT",
          "GER",
          "NED",
          "GBR",
          "AUT",
          "RSM",
          "ARA",
          "JPN",
          "THA",
          "AUS",
          "MAL",
          "VAL"
         ],
         "xaxis": "x",
         "y": [
          0,
          0,
          0,
          0,
          0,
          0,
          0,
          0,
          0,
          0,
          0,
          0,
          0,
          0,
          0,
          0,
          0,
          0,
          0,
          0
         ],
         "yaxis": "y"
        },
        {
         "hovertemplate": "Rider=Takuya Tsuda<br>Track=%{x}<br>Points Total=%{y}<extra></extra>",
         "legendgroup": "Takuya Tsuda",
         "line": {
          "color": "#FECB52",
          "dash": "solid"
         },
         "marker": {
          "symbol": "circle"
         },
         "mode": "lines",
         "name": "Takuya Tsuda",
         "orientation": "v",
         "showlegend": true,
         "type": "scatter",
         "x": [
          "QAT",
          "INA",
          "ARG",
          "AME",
          "POR",
          "SPA",
          "FRA",
          "ITA",
          "CAT",
          "GER",
          "NED",
          "GBR",
          "AUT",
          "RSM",
          "ARA",
          "JPN",
          "THA",
          "AUS",
          "MAL",
          "VAL"
         ],
         "xaxis": "x",
         "y": [
          0,
          0,
          0,
          0,
          0,
          0,
          0,
          0,
          0,
          0,
          0,
          0,
          0,
          0,
          0,
          0,
          0,
          0,
          0,
          0
         ],
         "yaxis": "y"
        },
        {
         "hovertemplate": "Rider=Source:[104]<br>Track=%{x}<br>Points Total=%{y}<extra></extra>",
         "legendgroup": "Source:[104]",
         "line": {
          "color": "#636efa",
          "dash": "solid"
         },
         "marker": {
          "symbol": "circle"
         },
         "mode": "lines",
         "name": "Source:[104]",
         "orientation": "v",
         "showlegend": true,
         "type": "scatter",
         "x": [
          "QAT",
          "INA",
          "ARG",
          "AME",
          "POR",
          "SPA",
          "FRA",
          "ITA",
          "CAT",
          "GER",
          "NED",
          "GBR",
          "AUT",
          "RSM",
          "ARA",
          "JPN",
          "THA",
          "AUS",
          "MAL",
          "VAL"
         ],
         "xaxis": "x",
         "y": [
          0,
          0,
          0,
          0,
          0,
          0,
          0,
          0,
          0,
          0,
          0,
          0,
          0,
          0,
          0,
          0,
          0,
          0,
          0,
          0
         ],
         "yaxis": "y"
        }
       ],
       "layout": {
        "legend": {
         "title": {
          "text": "Rider"
         },
         "tracegroupgap": 0
        },
        "template": {
         "data": {
          "bar": [
           {
            "error_x": {
             "color": "#f2f5fa"
            },
            "error_y": {
             "color": "#f2f5fa"
            },
            "marker": {
             "line": {
              "color": "rgb(17,17,17)",
              "width": 0.5
             },
             "pattern": {
              "fillmode": "overlay",
              "size": 10,
              "solidity": 0.2
             }
            },
            "type": "bar"
           }
          ],
          "barpolar": [
           {
            "marker": {
             "line": {
              "color": "rgb(17,17,17)",
              "width": 0.5
             },
             "pattern": {
              "fillmode": "overlay",
              "size": 10,
              "solidity": 0.2
             }
            },
            "type": "barpolar"
           }
          ],
          "carpet": [
           {
            "aaxis": {
             "endlinecolor": "#A2B1C6",
             "gridcolor": "#506784",
             "linecolor": "#506784",
             "minorgridcolor": "#506784",
             "startlinecolor": "#A2B1C6"
            },
            "baxis": {
             "endlinecolor": "#A2B1C6",
             "gridcolor": "#506784",
             "linecolor": "#506784",
             "minorgridcolor": "#506784",
             "startlinecolor": "#A2B1C6"
            },
            "type": "carpet"
           }
          ],
          "choropleth": [
           {
            "colorbar": {
             "outlinewidth": 0,
             "ticks": ""
            },
            "type": "choropleth"
           }
          ],
          "contour": [
           {
            "colorbar": {
             "outlinewidth": 0,
             "ticks": ""
            },
            "colorscale": [
             [
              0,
              "#0d0887"
             ],
             [
              0.1111111111111111,
              "#46039f"
             ],
             [
              0.2222222222222222,
              "#7201a8"
             ],
             [
              0.3333333333333333,
              "#9c179e"
             ],
             [
              0.4444444444444444,
              "#bd3786"
             ],
             [
              0.5555555555555556,
              "#d8576b"
             ],
             [
              0.6666666666666666,
              "#ed7953"
             ],
             [
              0.7777777777777778,
              "#fb9f3a"
             ],
             [
              0.8888888888888888,
              "#fdca26"
             ],
             [
              1,
              "#f0f921"
             ]
            ],
            "type": "contour"
           }
          ],
          "contourcarpet": [
           {
            "colorbar": {
             "outlinewidth": 0,
             "ticks": ""
            },
            "type": "contourcarpet"
           }
          ],
          "heatmap": [
           {
            "colorbar": {
             "outlinewidth": 0,
             "ticks": ""
            },
            "colorscale": [
             [
              0,
              "#0d0887"
             ],
             [
              0.1111111111111111,
              "#46039f"
             ],
             [
              0.2222222222222222,
              "#7201a8"
             ],
             [
              0.3333333333333333,
              "#9c179e"
             ],
             [
              0.4444444444444444,
              "#bd3786"
             ],
             [
              0.5555555555555556,
              "#d8576b"
             ],
             [
              0.6666666666666666,
              "#ed7953"
             ],
             [
              0.7777777777777778,
              "#fb9f3a"
             ],
             [
              0.8888888888888888,
              "#fdca26"
             ],
             [
              1,
              "#f0f921"
             ]
            ],
            "type": "heatmap"
           }
          ],
          "heatmapgl": [
           {
            "colorbar": {
             "outlinewidth": 0,
             "ticks": ""
            },
            "colorscale": [
             [
              0,
              "#0d0887"
             ],
             [
              0.1111111111111111,
              "#46039f"
             ],
             [
              0.2222222222222222,
              "#7201a8"
             ],
             [
              0.3333333333333333,
              "#9c179e"
             ],
             [
              0.4444444444444444,
              "#bd3786"
             ],
             [
              0.5555555555555556,
              "#d8576b"
             ],
             [
              0.6666666666666666,
              "#ed7953"
             ],
             [
              0.7777777777777778,
              "#fb9f3a"
             ],
             [
              0.8888888888888888,
              "#fdca26"
             ],
             [
              1,
              "#f0f921"
             ]
            ],
            "type": "heatmapgl"
           }
          ],
          "histogram": [
           {
            "marker": {
             "pattern": {
              "fillmode": "overlay",
              "size": 10,
              "solidity": 0.2
             }
            },
            "type": "histogram"
           }
          ],
          "histogram2d": [
           {
            "colorbar": {
             "outlinewidth": 0,
             "ticks": ""
            },
            "colorscale": [
             [
              0,
              "#0d0887"
             ],
             [
              0.1111111111111111,
              "#46039f"
             ],
             [
              0.2222222222222222,
              "#7201a8"
             ],
             [
              0.3333333333333333,
              "#9c179e"
             ],
             [
              0.4444444444444444,
              "#bd3786"
             ],
             [
              0.5555555555555556,
              "#d8576b"
             ],
             [
              0.6666666666666666,
              "#ed7953"
             ],
             [
              0.7777777777777778,
              "#fb9f3a"
             ],
             [
              0.8888888888888888,
              "#fdca26"
             ],
             [
              1,
              "#f0f921"
             ]
            ],
            "type": "histogram2d"
           }
          ],
          "histogram2dcontour": [
           {
            "colorbar": {
             "outlinewidth": 0,
             "ticks": ""
            },
            "colorscale": [
             [
              0,
              "#0d0887"
             ],
             [
              0.1111111111111111,
              "#46039f"
             ],
             [
              0.2222222222222222,
              "#7201a8"
             ],
             [
              0.3333333333333333,
              "#9c179e"
             ],
             [
              0.4444444444444444,
              "#bd3786"
             ],
             [
              0.5555555555555556,
              "#d8576b"
             ],
             [
              0.6666666666666666,
              "#ed7953"
             ],
             [
              0.7777777777777778,
              "#fb9f3a"
             ],
             [
              0.8888888888888888,
              "#fdca26"
             ],
             [
              1,
              "#f0f921"
             ]
            ],
            "type": "histogram2dcontour"
           }
          ],
          "mesh3d": [
           {
            "colorbar": {
             "outlinewidth": 0,
             "ticks": ""
            },
            "type": "mesh3d"
           }
          ],
          "parcoords": [
           {
            "line": {
             "colorbar": {
              "outlinewidth": 0,
              "ticks": ""
             }
            },
            "type": "parcoords"
           }
          ],
          "pie": [
           {
            "automargin": true,
            "type": "pie"
           }
          ],
          "scatter": [
           {
            "marker": {
             "line": {
              "color": "#283442"
             }
            },
            "type": "scatter"
           }
          ],
          "scatter3d": [
           {
            "line": {
             "colorbar": {
              "outlinewidth": 0,
              "ticks": ""
             }
            },
            "marker": {
             "colorbar": {
              "outlinewidth": 0,
              "ticks": ""
             }
            },
            "type": "scatter3d"
           }
          ],
          "scattercarpet": [
           {
            "marker": {
             "colorbar": {
              "outlinewidth": 0,
              "ticks": ""
             }
            },
            "type": "scattercarpet"
           }
          ],
          "scattergeo": [
           {
            "marker": {
             "colorbar": {
              "outlinewidth": 0,
              "ticks": ""
             }
            },
            "type": "scattergeo"
           }
          ],
          "scattergl": [
           {
            "marker": {
             "line": {
              "color": "#283442"
             }
            },
            "type": "scattergl"
           }
          ],
          "scattermapbox": [
           {
            "marker": {
             "colorbar": {
              "outlinewidth": 0,
              "ticks": ""
             }
            },
            "type": "scattermapbox"
           }
          ],
          "scatterpolar": [
           {
            "marker": {
             "colorbar": {
              "outlinewidth": 0,
              "ticks": ""
             }
            },
            "type": "scatterpolar"
           }
          ],
          "scatterpolargl": [
           {
            "marker": {
             "colorbar": {
              "outlinewidth": 0,
              "ticks": ""
             }
            },
            "type": "scatterpolargl"
           }
          ],
          "scatterternary": [
           {
            "marker": {
             "colorbar": {
              "outlinewidth": 0,
              "ticks": ""
             }
            },
            "type": "scatterternary"
           }
          ],
          "surface": [
           {
            "colorbar": {
             "outlinewidth": 0,
             "ticks": ""
            },
            "colorscale": [
             [
              0,
              "#0d0887"
             ],
             [
              0.1111111111111111,
              "#46039f"
             ],
             [
              0.2222222222222222,
              "#7201a8"
             ],
             [
              0.3333333333333333,
              "#9c179e"
             ],
             [
              0.4444444444444444,
              "#bd3786"
             ],
             [
              0.5555555555555556,
              "#d8576b"
             ],
             [
              0.6666666666666666,
              "#ed7953"
             ],
             [
              0.7777777777777778,
              "#fb9f3a"
             ],
             [
              0.8888888888888888,
              "#fdca26"
             ],
             [
              1,
              "#f0f921"
             ]
            ],
            "type": "surface"
           }
          ],
          "table": [
           {
            "cells": {
             "fill": {
              "color": "#506784"
             },
             "line": {
              "color": "rgb(17,17,17)"
             }
            },
            "header": {
             "fill": {
              "color": "#2a3f5f"
             },
             "line": {
              "color": "rgb(17,17,17)"
             }
            },
            "type": "table"
           }
          ]
         },
         "layout": {
          "annotationdefaults": {
           "arrowcolor": "#f2f5fa",
           "arrowhead": 0,
           "arrowwidth": 1
          },
          "autotypenumbers": "strict",
          "coloraxis": {
           "colorbar": {
            "outlinewidth": 0,
            "ticks": ""
           }
          },
          "colorscale": {
           "diverging": [
            [
             0,
             "#8e0152"
            ],
            [
             0.1,
             "#c51b7d"
            ],
            [
             0.2,
             "#de77ae"
            ],
            [
             0.3,
             "#f1b6da"
            ],
            [
             0.4,
             "#fde0ef"
            ],
            [
             0.5,
             "#f7f7f7"
            ],
            [
             0.6,
             "#e6f5d0"
            ],
            [
             0.7,
             "#b8e186"
            ],
            [
             0.8,
             "#7fbc41"
            ],
            [
             0.9,
             "#4d9221"
            ],
            [
             1,
             "#276419"
            ]
           ],
           "sequential": [
            [
             0,
             "#0d0887"
            ],
            [
             0.1111111111111111,
             "#46039f"
            ],
            [
             0.2222222222222222,
             "#7201a8"
            ],
            [
             0.3333333333333333,
             "#9c179e"
            ],
            [
             0.4444444444444444,
             "#bd3786"
            ],
            [
             0.5555555555555556,
             "#d8576b"
            ],
            [
             0.6666666666666666,
             "#ed7953"
            ],
            [
             0.7777777777777778,
             "#fb9f3a"
            ],
            [
             0.8888888888888888,
             "#fdca26"
            ],
            [
             1,
             "#f0f921"
            ]
           ],
           "sequentialminus": [
            [
             0,
             "#0d0887"
            ],
            [
             0.1111111111111111,
             "#46039f"
            ],
            [
             0.2222222222222222,
             "#7201a8"
            ],
            [
             0.3333333333333333,
             "#9c179e"
            ],
            [
             0.4444444444444444,
             "#bd3786"
            ],
            [
             0.5555555555555556,
             "#d8576b"
            ],
            [
             0.6666666666666666,
             "#ed7953"
            ],
            [
             0.7777777777777778,
             "#fb9f3a"
            ],
            [
             0.8888888888888888,
             "#fdca26"
            ],
            [
             1,
             "#f0f921"
            ]
           ]
          },
          "colorway": [
           "#636efa",
           "#EF553B",
           "#00cc96",
           "#ab63fa",
           "#FFA15A",
           "#19d3f3",
           "#FF6692",
           "#B6E880",
           "#FF97FF",
           "#FECB52"
          ],
          "font": {
           "color": "#f2f5fa"
          },
          "geo": {
           "bgcolor": "rgb(17,17,17)",
           "lakecolor": "rgb(17,17,17)",
           "landcolor": "rgb(17,17,17)",
           "showlakes": true,
           "showland": true,
           "subunitcolor": "#506784"
          },
          "hoverlabel": {
           "align": "left"
          },
          "hovermode": "closest",
          "mapbox": {
           "style": "dark"
          },
          "paper_bgcolor": "rgb(17,17,17)",
          "plot_bgcolor": "rgb(17,17,17)",
          "polar": {
           "angularaxis": {
            "gridcolor": "#506784",
            "linecolor": "#506784",
            "ticks": ""
           },
           "bgcolor": "rgb(17,17,17)",
           "radialaxis": {
            "gridcolor": "#506784",
            "linecolor": "#506784",
            "ticks": ""
           }
          },
          "scene": {
           "xaxis": {
            "backgroundcolor": "rgb(17,17,17)",
            "gridcolor": "#506784",
            "gridwidth": 2,
            "linecolor": "#506784",
            "showbackground": true,
            "ticks": "",
            "zerolinecolor": "#C8D4E3"
           },
           "yaxis": {
            "backgroundcolor": "rgb(17,17,17)",
            "gridcolor": "#506784",
            "gridwidth": 2,
            "linecolor": "#506784",
            "showbackground": true,
            "ticks": "",
            "zerolinecolor": "#C8D4E3"
           },
           "zaxis": {
            "backgroundcolor": "rgb(17,17,17)",
            "gridcolor": "#506784",
            "gridwidth": 2,
            "linecolor": "#506784",
            "showbackground": true,
            "ticks": "",
            "zerolinecolor": "#C8D4E3"
           }
          },
          "shapedefaults": {
           "line": {
            "color": "#f2f5fa"
           }
          },
          "sliderdefaults": {
           "bgcolor": "#C8D4E3",
           "bordercolor": "rgb(17,17,17)",
           "borderwidth": 1,
           "tickwidth": 0
          },
          "ternary": {
           "aaxis": {
            "gridcolor": "#506784",
            "linecolor": "#506784",
            "ticks": ""
           },
           "baxis": {
            "gridcolor": "#506784",
            "linecolor": "#506784",
            "ticks": ""
           },
           "bgcolor": "rgb(17,17,17)",
           "caxis": {
            "gridcolor": "#506784",
            "linecolor": "#506784",
            "ticks": ""
           }
          },
          "title": {
           "x": 0.05
          },
          "updatemenudefaults": {
           "bgcolor": "#506784",
           "borderwidth": 0
          },
          "xaxis": {
           "automargin": true,
           "gridcolor": "#283442",
           "linecolor": "#506784",
           "ticks": "",
           "title": {
            "standoff": 15
           },
           "zerolinecolor": "#283442",
           "zerolinewidth": 2
          },
          "yaxis": {
           "automargin": true,
           "gridcolor": "#283442",
           "linecolor": "#506784",
           "ticks": "",
           "title": {
            "standoff": 15
           },
           "zerolinecolor": "#283442",
           "zerolinewidth": 2
          }
         }
        },
        "title": {
         "text": "MotoGp Cumulative Points 2022"
        },
        "xaxis": {
         "anchor": "y",
         "domain": [
          0,
          1
         ],
         "title": {
          "text": "Track"
         }
        },
        "yaxis": {
         "anchor": "x",
         "domain": [
          0,
          1
         ],
         "title": {
          "text": "Points Total"
         }
        }
       }
      }
     },
     "metadata": {},
     "output_type": "display_data"
    }
   ],
   "source": [
    "import plotly.express as px\n",
    "\n",
    "\n",
    "fig2 = px.line(\n",
    "                df6, \n",
    "                x=df6[\"Track\"], \n",
    "                y=df6.columns[1:], \n",
    "                template=\"plotly_dark\",\n",
    "                labels={\n",
    "                    \"Track\": \"Track\",\n",
    "                    \"value\": \"Points Total\",\n",
    "                    \"variable\": \"Rider\"\n",
    "                    },\n",
    "                title=\"MotoGp Cumulative Points 2022\",\n",
    "            )\n",
    "\n",
    "# fig2.update_layout(height=800, width=2250)\n",
    "\n",
    "fig2.show()\n"
   ]
  },
  {
   "cell_type": "code",
   "execution_count": 17,
   "metadata": {},
   "outputs": [
    {
     "data": {
      "text/plain": [
       "15"
      ]
     },
     "execution_count": 17,
     "metadata": {},
     "output_type": "execute_result"
    }
   ],
   "source": [
    "import plotly.offline as pyo\n",
    "\n",
    "figs = [fig1, fig2]\n",
    "\n",
    "\n",
    "dashboard = open(\"motogp2022_dashboard.html\", 'w')\n",
    "dashboard.write(\"<html><head></head><body>\" + \"\\n\")\n",
    "\n",
    "add_js = True\n",
    "for fig in figs:\n",
    "\n",
    "    inner_html = pyo.plot(\n",
    "        fig, include_plotlyjs=add_js, output_type='div'\n",
    "    )\n",
    "\n",
    "    dashboard.write(inner_html)\n",
    "    add_js = False\n",
    "\n",
    "dashboard.write(\"</body></html>\" + \"\\n\")"
   ]
  },
  {
   "cell_type": "code",
   "execution_count": 18,
   "metadata": {},
   "outputs": [],
   "source": [
    "df5.to_csv(\"motogp-2022_race_finishes.csv\", index=False)\n",
    "df6.to_csv(\"motogp-2022_cumulative_points.csv\", index=False)"
   ]
  },
  {
   "cell_type": "code",
   "execution_count": null,
   "metadata": {},
   "outputs": [],
   "source": []
  },
  {
   "cell_type": "code",
   "execution_count": 101,
   "metadata": {},
   "outputs": [],
   "source": [
    "import requests\n",
    "\n",
    "url = 'https://resources.motogp.com/files/results/2022/QAT/MotoGP/RAC/Classification.pdf'\n",
    "response = requests.get(url, stream=True)"
   ]
  },
  {
   "cell_type": "code",
   "execution_count": 103,
   "metadata": {},
   "outputs": [],
   "source": [
    "with open(\"test.pdf\", \"wb\") as f:\n",
    "    f.write(response.content)"
   ]
  },
  {
   "cell_type": "code",
   "execution_count": 112,
   "metadata": {},
   "outputs": [],
   "source": [
    "from PyPDF2 import PdfReader\n",
    "\n",
    "reader = PdfReader(r\"C:\\Users\\ckhan\\Documents\\coding_projects\\scraping_websites\\test.pdf\")\n",
    "text = \"\"\n",
    "for page in reader.pages:\n",
    "    text += page.extract_text() + \"\\n\"\n"
   ]
  },
  {
   "cell_type": "code",
   "execution_count": 123,
   "metadata": {},
   "outputs": [],
   "source": [
    "with open ('file_name.txt', 'w') as file:  \n",
    "    file.write(text)"
   ]
  },
  {
   "cell_type": "code",
   "execution_count": 136,
   "metadata": {},
   "outputs": [
    {
     "name": "stdout",
     "output_type": "stream",
     "text": [
      "23 DUCATI Enea BASTIANINI ITA 1 42'13.198168.2 25 Gresini Racing MotoGP\n",
      "33 KTM Brad BINDER RSA 2 42'13.544168.1 0.346 20 Red Bull KTM Factory Racing\n",
      "44 HONDA Pol ESPARGARO SPA 3 42'14.549168.1 1.351 16 Repsol Honda Team\n",
      "41 APRILIA Aleix ESPARGARO SPA 4 42'15.440168.0 2.242 13 Aprilia Racing\n",
      "93 HONDA Marc MARQUEZ SPA 5 42'17.297167.9 4.099 11 Repsol Honda Team\n",
      "36 SUZUKI Joan MIR SPA 6 42'18.041167.8 4.843 10 Team SUZUKI ECSTAR\n",
      "42 SUZUKI Alex RINS SPA 7 42'22.008167.6 8.810 9 Team SUZUKI ECSTAR\n",
      "5 DUCATI Johann ZARCO FRA 8 42'23.734167.5 10.536 8 Pramac Racing\n",
      "20 YAMAHA Fabio QUARTARARO FRA 9 42'23.741167.5 10.543 7 Monster Energy Yamaha MotoGP\n",
      "30 HONDA Takaaki NAKAGAMI JPN 10 42'28.165167.2 14.967 6 LCR Honda IDEMITSU\n",
      "21 YAMAHA Franco MORBIDELLI ITA 11 42'29.910167.1 16.712 5 Monster Energy Yamaha MotoGP\n",
      "12 APRILIA Maverick VIÑALES SPA 12 42'36.414166.6 23.216 4 Aprilia Racing\n",
      "10 DUCATI Luca MARINI ITA 13 42'40.481166.4 27.283 3 Mooney VR46 Racing Team\n",
      "4 YAMAHA Andrea DOVIZIOSO ITA 14 42'40.572166.4 27.374 2 WithU Yamaha RNF MotoGP Tea\n",
      "87 KTM Rem y GARDNER AUS 15 42'54.305165.5 41.107 1 Tech3 KTM Factory Racing\n",
      "40 YAMAHA Darryn BINDER RSA 16 42'54.317165.5 41.119 WithU Yamaha RNF MotoGP Tea\n",
      "49 DUCATI Fabio DI GIANNANTONIO ITA 17 42'54.547165.5 41.349 Gresini Racing MotoGP\n",
      "25 KTM Raul FERNANDEZ SPA 18 42'55.555165.4 42.357 Tech3 KTM Factory Racing\n",
      "Not Classified89\n",
      "DUCATI Jorge MARTIN SPA 21'13.800167.2 11 lapsPramac Racing\n",
      "63 DUCATI Francesco BAGNAIA ITA 21'13.835167.2 11 lapsDucati Lenovo Team\n",
      "88 KTM Miguel OLIVEIR A POR 19'19.886166.9 12 lapsRed Bull KTM Factory Racing\n",
      "73 HONDA Alex MARQUEZ SPA 17'25.782166.6 13 lapsLCR Honda CASTROL\n",
      "72 DUCATI Marco BEZZECCHI ITA 11'41.321165.6 16 lapsMooney VR46 Racing Team\n",
      "43 DUCATI Jack MILLER AUS 11'42.306165.4 16 lapsDucati Lenovo Team\n"
     ]
    }
   ],
   "source": [
    "for i in range(7,32):\n",
    "    print(text.splitlines()[i])"
   ]
  },
  {
   "cell_type": "code",
   "execution_count": null,
   "metadata": {},
   "outputs": [],
   "source": []
  },
  {
   "cell_type": "code",
   "execution_count": 13,
   "metadata": {},
   "outputs": [],
   "source": [
    "df7 = pd.read_csv(\"C:/Users/ckhan/Documents/coding_projects/scraping_websites/motogp/data/motogp-fantasy-2022.csv\")"
   ]
  },
  {
   "cell_type": "code",
   "execution_count": 15,
   "metadata": {},
   "outputs": [
    {
     "data": {
      "application/vnd.plotly.v1+json": {
       "config": {
        "plotlyServerURL": "https://plot.ly"
       },
       "data": [
        {
         "hovertemplate": "Rider=Aleix Espargaró<br>Race=%{x}<br>Points=%{y}<extra></extra>",
         "legendgroup": "Aleix Espargaró",
         "line": {
          "color": "#636efa",
          "dash": "solid"
         },
         "marker": {
          "symbol": "circle"
         },
         "mode": "lines",
         "name": "Aleix Espargaró",
         "orientation": "v",
         "showlegend": true,
         "type": "scatter",
         "x": [
          "Qatar - Lusail",
          "Indonesia - Mandalika",
          "Argentina - Termas de Rio Hondo",
          "Austin - Circuit of The Americas",
          "Portugal - Portimao",
          "Spain - Jerez",
          "France - Le Mans",
          "Italy - Mugello",
          "Catalonia - Catalunya",
          "Germany - Sachsenring",
          "Netherlands - Assen",
          "UK - Silverstone",
          "Austria - Red Bull Ring",
          "San Marino - Misano",
          "Aaragon - Motorland Aaragon",
          "Japan - Motegi",
          "Thailand - Buriram",
          "Australia - Phillip Island",
          "Malaysia - Sepang",
          "Valencia - Ricardo Tormo"
         ],
         "xaxis": "x",
         "y": [
          21,
          10,
          40,
          12,
          24,
          24,
          24,
          28,
          21,
          20,
          26,
          12,
          23,
          18,
          30,
          5,
          12,
          14,
          7,
          1
         ],
         "yaxis": "y"
        },
        {
         "hovertemplate": "Rider=Álex Márquez<br>Race=%{x}<br>Points=%{y}<extra></extra>",
         "legendgroup": "Álex Márquez",
         "line": {
          "color": "#EF553B",
          "dash": "solid"
         },
         "marker": {
          "symbol": "circle"
         },
         "mode": "lines",
         "name": "Álex Márquez",
         "orientation": "v",
         "showlegend": true,
         "type": "scatter",
         "x": [
          "Qatar - Lusail",
          "Indonesia - Mandalika",
          "Argentina - Termas de Rio Hondo",
          "Austin - Circuit of The Americas",
          "Portugal - Portimao",
          "Spain - Jerez",
          "France - Le Mans",
          "Italy - Mugello",
          "Catalonia - Catalunya",
          "Germany - Sachsenring",
          "Netherlands - Assen",
          "UK - Silverstone",
          "Austria - Red Bull Ring",
          "San Marino - Misano",
          "Aaragon - Motorland Aaragon",
          "Japan - Motegi",
          "Thailand - Buriram",
          "Australia - Phillip Island",
          "Malaysia - Sepang",
          "Valencia - Ricardo Tormo"
         ],
         "xaxis": "x",
         "y": [
          0,
          13,
          9,
          0,
          18,
          21,
          16,
          10,
          36,
          0,
          13,
          0,
          24,
          18,
          14,
          11,
          32,
          0,
          8,
          1
         ],
         "yaxis": "y"
        },
        {
         "hovertemplate": "Rider=Álex Rins<br>Race=%{x}<br>Points=%{y}<extra></extra>",
         "legendgroup": "Álex Rins",
         "line": {
          "color": "#00cc96",
          "dash": "solid"
         },
         "marker": {
          "symbol": "circle"
         },
         "mode": "lines",
         "name": "Álex Rins",
         "orientation": "v",
         "showlegend": true,
         "type": "scatter",
         "x": [
          "Qatar - Lusail",
          "Indonesia - Mandalika",
          "Argentina - Termas de Rio Hondo",
          "Austin - Circuit of The Americas",
          "Portugal - Portimao",
          "Spain - Jerez",
          "France - Le Mans",
          "Italy - Mugello",
          "Catalonia - Catalunya",
          "Germany - Sachsenring",
          "Netherlands - Assen",
          "UK - Silverstone",
          "Austria - Red Bull Ring",
          "San Marino - Misano",
          "Aaragon - Motorland Aaragon",
          "Japan - Motegi",
          "Thailand - Buriram",
          "Australia - Phillip Island",
          "Malaysia - Sepang",
          "Valencia - Ricardo Tormo"
         ],
         "xaxis": "x",
         "y": [
          16,
          20,
          28,
          38,
          51,
          2,
          3,
          0,
          4,
          0,
          8,
          22,
          14,
          19,
          9,
          0,
          5,
          48,
          17,
          43
         ],
         "yaxis": "y"
        },
        {
         "hovertemplate": "Rider=Brad Binder<br>Race=%{x}<br>Points=%{y}<extra></extra>",
         "legendgroup": "Brad Binder",
         "line": {
          "color": "#ab63fa",
          "dash": "solid"
         },
         "marker": {
          "symbol": "circle"
         },
         "mode": "lines",
         "name": "Brad Binder",
         "orientation": "v",
         "showlegend": true,
         "type": "scatter",
         "x": [
          "Qatar - Lusail",
          "Indonesia - Mandalika",
          "Argentina - Termas de Rio Hondo",
          "Austin - Circuit of The Americas",
          "Portugal - Portimao",
          "Spain - Jerez",
          "France - Le Mans",
          "Italy - Mugello",
          "Catalonia - Catalunya",
          "Germany - Sachsenring",
          "Netherlands - Assen",
          "UK - Silverstone",
          "Austria - Red Bull Ring",
          "San Marino - Misano",
          "Aaragon - Motorland Aaragon",
          "Japan - Motegi",
          "Thailand - Buriram",
          "Australia - Phillip Island",
          "Malaysia - Sepang",
          "Valencia - Ricardo Tormo"
         ],
         "xaxis": "x",
         "y": [
          39,
          15,
          20,
          14,
          0,
          17,
          28,
          27,
          23,
          26,
          27,
          13,
          19,
          23,
          26,
          30,
          10,
          18,
          21,
          39
         ],
         "yaxis": "y"
        },
        {
         "hovertemplate": "Rider=Enea Bastianini<br>Race=%{x}<br>Points=%{y}<extra></extra>",
         "legendgroup": "Enea Bastianini",
         "line": {
          "color": "#FFA15A",
          "dash": "solid"
         },
         "marker": {
          "symbol": "circle"
         },
         "mode": "lines",
         "name": "Enea Bastianini",
         "orientation": "v",
         "showlegend": true,
         "type": "scatter",
         "x": [
          "Qatar - Lusail",
          "Indonesia - Mandalika",
          "Argentina - Termas de Rio Hondo",
          "Austin - Circuit of The Americas",
          "Portugal - Portimao",
          "Spain - Jerez",
          "France - Le Mans",
          "Italy - Mugello",
          "Catalonia - Catalunya",
          "Germany - Sachsenring",
          "Netherlands - Assen",
          "UK - Silverstone",
          "Austria - Red Bull Ring",
          "San Marino - Misano",
          "Aaragon - Motorland Aaragon",
          "Japan - Motegi",
          "Thailand - Buriram",
          "Australia - Phillip Island",
          "Malaysia - Sepang",
          "Valencia - Ricardo Tormo"
         ],
         "xaxis": "x",
         "y": [
          41,
          11,
          13,
          44,
          0,
          14,
          39,
          1,
          2,
          20,
          15,
          29,
          10,
          33,
          37,
          20,
          15,
          32,
          29,
          21
         ],
         "yaxis": "y"
        },
        {
         "hovertemplate": "Rider=Fabio Di Giannantonio<br>Race=%{x}<br>Points=%{y}<extra></extra>",
         "legendgroup": "Fabio Di Giannantonio",
         "line": {
          "color": "#19d3f3",
          "dash": "solid"
         },
         "marker": {
          "symbol": "circle"
         },
         "mode": "lines",
         "name": "Fabio Di Giannantonio",
         "orientation": "v",
         "showlegend": true,
         "type": "scatter",
         "x": [
          "Qatar - Lusail",
          "Indonesia - Mandalika",
          "Argentina - Termas de Rio Hondo",
          "Austin - Circuit of The Americas",
          "Portugal - Portimao",
          "Spain - Jerez",
          "France - Le Mans",
          "Italy - Mugello",
          "Catalonia - Catalunya",
          "Germany - Sachsenring",
          "Netherlands - Assen",
          "UK - Silverstone",
          "Austria - Red Bull Ring",
          "San Marino - Misano",
          "Aaragon - Motorland Aaragon",
          "Japan - Motegi",
          "Thailand - Buriram",
          "Australia - Phillip Island",
          "Malaysia - Sepang",
          "Valencia - Ricardo Tormo"
         ],
         "xaxis": "x",
         "y": [
          8,
          4,
          0,
          0,
          1,
          0,
          9,
          20,
          6,
          19,
          5,
          1,
          10,
          2,
          1,
          0,
          6,
          0,
          0,
          9
         ],
         "yaxis": "y"
        },
        {
         "hovertemplate": "Rider=Fabio Quartararo<br>Race=%{x}<br>Points=%{y}<extra></extra>",
         "legendgroup": "Fabio Quartararo",
         "line": {
          "color": "#FF6692",
          "dash": "solid"
         },
         "marker": {
          "symbol": "circle"
         },
         "mode": "lines",
         "name": "Fabio Quartararo",
         "orientation": "v",
         "showlegend": true,
         "type": "scatter",
         "x": [
          "Qatar - Lusail",
          "Indonesia - Mandalika",
          "Argentina - Termas de Rio Hondo",
          "Austin - Circuit of The Americas",
          "Portugal - Portimao",
          "Spain - Jerez",
          "France - Le Mans",
          "Italy - Mugello",
          "Catalonia - Catalunya",
          "Germany - Sachsenring",
          "Netherlands - Assen",
          "UK - Silverstone",
          "Austria - Red Bull Ring",
          "San Marino - Misano",
          "Aaragon - Motorland Aaragon",
          "Japan - Motegi",
          "Thailand - Buriram",
          "Australia - Phillip Island",
          "Malaysia - Sepang",
          "Valencia - Ricardo Tormo"
         ],
         "xaxis": "x",
         "y": [
          15,
          35,
          13,
          14,
          44,
          29,
          20,
          33,
          42,
          41,
          9,
          15,
          32,
          20,
          5,
          12,
          7,
          6,
          34,
          20
         ],
         "yaxis": "y"
        },
        {
         "hovertemplate": "Rider=Francesco Bagnaia<br>Race=%{x}<br>Points=%{y}<extra></extra>",
         "legendgroup": "Francesco Bagnaia",
         "line": {
          "color": "#B6E880",
          "dash": "solid"
         },
         "marker": {
          "symbol": "circle"
         },
         "mode": "lines",
         "name": "Francesco Bagnaia",
         "orientation": "v",
         "showlegend": true,
         "type": "scatter",
         "x": [
          "Qatar - Lusail",
          "Indonesia - Mandalika",
          "Argentina - Termas de Rio Hondo",
          "Austin - Circuit of The Americas",
          "Portugal - Portimao",
          "Spain - Jerez",
          "France - Le Mans",
          "Italy - Mugello",
          "Catalonia - Catalunya",
          "Germany - Sachsenring",
          "Netherlands - Assen",
          "UK - Silverstone",
          "Austria - Red Bull Ring",
          "San Marino - Misano",
          "Aaragon - Motorland Aaragon",
          "Japan - Motegi",
          "Thailand - Buriram",
          "Australia - Phillip Island",
          "Malaysia - Sepang",
          "Valencia - Ricardo Tormo"
         ],
         "xaxis": "x",
         "y": [
          2,
          11,
          29,
          19,
          40,
          40,
          15,
          44,
          9,
          10,
          35,
          39,
          36,
          42,
          30,
          0,
          24,
          24,
          48,
          10
         ],
         "yaxis": "y"
        },
        {
         "hovertemplate": "Rider=Franco Morbidelli<br>Race=%{x}<br>Points=%{y}<extra></extra>",
         "legendgroup": "Franco Morbidelli",
         "line": {
          "color": "#FF97FF",
          "dash": "solid"
         },
         "marker": {
          "symbol": "circle"
         },
         "mode": "lines",
         "name": "Franco Morbidelli",
         "orientation": "v",
         "showlegend": true,
         "type": "scatter",
         "x": [
          "Qatar - Lusail",
          "Indonesia - Mandalika",
          "Argentina - Termas de Rio Hondo",
          "Austin - Circuit of The Americas",
          "Portugal - Portimao",
          "Spain - Jerez",
          "France - Le Mans",
          "Italy - Mugello",
          "Catalonia - Catalunya",
          "Germany - Sachsenring",
          "Netherlands - Assen",
          "UK - Silverstone",
          "Austria - Red Bull Ring",
          "San Marino - Misano",
          "Aaragon - Motorland Aaragon",
          "Japan - Motegi",
          "Thailand - Buriram",
          "Australia - Phillip Island",
          "Malaysia - Sepang",
          "Valencia - Ricardo Tormo"
         ],
         "xaxis": "x",
         "y": [
          7,
          23,
          1,
          6,
          15,
          3,
          9,
          12,
          13,
          17,
          0,
          9,
          0,
          0,
          6,
          4,
          7,
          0,
          9,
          18
         ],
         "yaxis": "y"
        },
        {
         "hovertemplate": "Rider=Jack Miller<br>Race=%{x}<br>Points=%{y}<extra></extra>",
         "legendgroup": "Jack Miller",
         "line": {
          "color": "#FECB52",
          "dash": "solid"
         },
         "marker": {
          "symbol": "circle"
         },
         "mode": "lines",
         "name": "Jack Miller",
         "orientation": "v",
         "showlegend": true,
         "type": "scatter",
         "x": [
          "Qatar - Lusail",
          "Indonesia - Mandalika",
          "Argentina - Termas de Rio Hondo",
          "Austin - Circuit of The Americas",
          "Portugal - Portimao",
          "Spain - Jerez",
          "France - Le Mans",
          "Italy - Mugello",
          "Catalonia - Catalunya",
          "Germany - Sachsenring",
          "Netherlands - Assen",
          "UK - Silverstone",
          "Austria - Red Bull Ring",
          "San Marino - Misano",
          "Aaragon - Motorland Aaragon",
          "Japan - Motegi",
          "Thailand - Buriram",
          "Australia - Phillip Island",
          "Malaysia - Sepang",
          "Valencia - Ricardo Tormo"
         ],
         "xaxis": "x",
         "y": [
          7,
          25,
          2,
          25,
          7,
          18,
          29,
          4,
          2,
          27,
          15,
          24,
          24,
          10,
          20,
          46,
          34,
          3,
          28,
          8
         ],
         "yaxis": "y"
        },
        {
         "hovertemplate": "Rider=Joan Mir<br>Race=%{x}<br>Points=%{y}<extra></extra>",
         "legendgroup": "Joan Mir",
         "line": {
          "color": "#636efa",
          "dash": "solid"
         },
         "marker": {
          "symbol": "circle"
         },
         "mode": "lines",
         "name": "Joan Mir",
         "orientation": "v",
         "showlegend": true,
         "type": "scatter",
         "x": [
          "Qatar - Lusail",
          "Indonesia - Mandalika",
          "Argentina - Termas de Rio Hondo",
          "Austin - Circuit of The Americas",
          "Portugal - Portimao",
          "Spain - Jerez",
          "France - Le Mans",
          "Italy - Mugello",
          "Catalonia - Catalunya",
          "Germany - Sachsenring",
          "Netherlands - Assen",
          "UK - Silverstone",
          "Austria - Red Bull Ring",
          "San Marino - Misano",
          "Aaragon - Motorland Aaragon",
          "Japan - Motegi",
          "Thailand - Buriram",
          "Australia - Phillip Island",
          "Malaysia - Sepang",
          "Valencia - Ricardo Tormo"
         ],
         "xaxis": "x",
         "y": [
          17,
          32,
          24,
          24,
          9,
          18,
          8,
          0,
          39,
          0,
          22,
          0,
          3,
          0,
          0,
          0,
          0,
          2,
          0,
          22
         ],
         "yaxis": "y"
        },
        {
         "hovertemplate": "Rider=Johann Zarco<br>Race=%{x}<br>Points=%{y}<extra></extra>",
         "legendgroup": "Johann Zarco",
         "line": {
          "color": "#EF553B",
          "dash": "solid"
         },
         "marker": {
          "symbol": "circle"
         },
         "mode": "lines",
         "name": "Johann Zarco",
         "orientation": "v",
         "showlegend": true,
         "type": "scatter",
         "x": [
          "Qatar - Lusail",
          "Indonesia - Mandalika",
          "Argentina - Termas de Rio Hondo",
          "Austin - Circuit of The Americas",
          "Portugal - Portimao",
          "Spain - Jerez",
          "France - Le Mans",
          "Italy - Mugello",
          "Catalonia - Catalunya",
          "Germany - Sachsenring",
          "Netherlands - Assen",
          "UK - Silverstone",
          "Austria - Red Bull Ring",
          "San Marino - Misano",
          "Aaragon - Motorland Aaragon",
          "Japan - Motegi",
          "Thailand - Buriram",
          "Australia - Phillip Island",
          "Malaysia - Sepang",
          "Valencia - Ricardo Tormo"
         ],
         "xaxis": "x",
         "y": [
          21,
          24,
          2,
          14,
          30,
          10,
          24,
          20,
          25,
          30,
          7,
          10,
          18,
          5,
          18,
          19,
          26,
          23,
          23,
          2
         ],
         "yaxis": "y"
        },
        {
         "hovertemplate": "Rider=Jorge Martín<br>Race=%{x}<br>Points=%{y}<extra></extra>",
         "legendgroup": "Jorge Martín",
         "line": {
          "color": "#00cc96",
          "dash": "solid"
         },
         "marker": {
          "symbol": "circle"
         },
         "mode": "lines",
         "name": "Jorge Martín",
         "orientation": "v",
         "showlegend": true,
         "type": "scatter",
         "x": [
          "Qatar - Lusail",
          "Indonesia - Mandalika",
          "Argentina - Termas de Rio Hondo",
          "Austin - Circuit of The Americas",
          "Portugal - Portimao",
          "Spain - Jerez",
          "France - Le Mans",
          "Italy - Mugello",
          "Catalonia - Catalunya",
          "Germany - Sachsenring",
          "Netherlands - Assen",
          "UK - Silverstone",
          "Austria - Red Bull Ring",
          "San Marino - Misano",
          "Aaragon - Motorland Aaragon",
          "Japan - Motegi",
          "Thailand - Buriram",
          "Australia - Phillip Island",
          "Malaysia - Sepang",
          "Valencia - Ricardo Tormo"
         ],
         "xaxis": "x",
         "y": [
          10,
          9,
          29,
          23,
          3,
          1,
          7,
          5,
          33,
          17,
          17,
          21,
          18,
          18,
          17,
          30,
          16,
          19,
          15,
          26
         ],
         "yaxis": "y"
        },
        {
         "hovertemplate": "Rider=Luca Marini<br>Race=%{x}<br>Points=%{y}<extra></extra>",
         "legendgroup": "Luca Marini",
         "line": {
          "color": "#ab63fa",
          "dash": "solid"
         },
         "marker": {
          "symbol": "circle"
         },
         "mode": "lines",
         "name": "Luca Marini",
         "orientation": "v",
         "showlegend": true,
         "type": "scatter",
         "x": [
          "Qatar - Lusail",
          "Indonesia - Mandalika",
          "Argentina - Termas de Rio Hondo",
          "Austin - Circuit of The Americas",
          "Portugal - Portimao",
          "Spain - Jerez",
          "France - Le Mans",
          "Italy - Mugello",
          "Catalonia - Catalunya",
          "Germany - Sachsenring",
          "Netherlands - Assen",
          "UK - Silverstone",
          "Austria - Red Bull Ring",
          "San Marino - Misano",
          "Aaragon - Motorland Aaragon",
          "Japan - Motegi",
          "Thailand - Buriram",
          "Australia - Phillip Island",
          "Malaysia - Sepang",
          "Valencia - Ricardo Tormo"
         ],
         "xaxis": "x",
         "y": [
          11,
          5,
          13,
          0,
          11,
          6,
          20,
          18,
          18,
          19,
          3,
          5,
          34,
          27,
          30,
          19,
          2,
          16,
          5,
          17
         ],
         "yaxis": "y"
        },
        {
         "hovertemplate": "Rider=Marc Márquez<br>Race=%{x}<br>Points=%{y}<extra></extra>",
         "legendgroup": "Marc Márquez",
         "line": {
          "color": "#FFA15A",
          "dash": "solid"
         },
         "marker": {
          "symbol": "circle"
         },
         "mode": "lines",
         "name": "Marc Márquez",
         "orientation": "v",
         "showlegend": true,
         "type": "scatter",
         "x": [
          "Qatar - Lusail",
          "Indonesia - Mandalika",
          "Argentina - Termas de Rio Hondo",
          "Austin - Circuit of The Americas",
          "Portugal - Portimao",
          "Spain - Jerez",
          "France - Le Mans",
          "Italy - Mugello",
          "Catalonia - Catalunya",
          "Germany - Sachsenring",
          "Netherlands - Assen",
          "UK - Silverstone",
          "Austria - Red Bull Ring",
          "San Marino - Misano",
          "Aaragon - Motorland Aaragon",
          "Japan - Motegi",
          "Thailand - Buriram",
          "Australia - Phillip Island",
          "Malaysia - Sepang",
          "Valencia - Ricardo Tormo"
         ],
         "xaxis": "x",
         "y": [
          19,
          1,
          0,
          18,
          18,
          21,
          19,
          12,
          0,
          0,
          0,
          0,
          0,
          0,
          3,
          23,
          25,
          29,
          21,
          9
         ],
         "yaxis": "y"
        },
        {
         "hovertemplate": "Rider=Marco Bezzecchi<br>Race=%{x}<br>Points=%{y}<extra></extra>",
         "legendgroup": "Marco Bezzecchi",
         "line": {
          "color": "#19d3f3",
          "dash": "solid"
         },
         "marker": {
          "symbol": "circle"
         },
         "mode": "lines",
         "name": "Marco Bezzecchi",
         "orientation": "v",
         "showlegend": true,
         "type": "scatter",
         "x": [
          "Qatar - Lusail",
          "Indonesia - Mandalika",
          "Argentina - Termas de Rio Hondo",
          "Austin - Circuit of The Americas",
          "Portugal - Portimao",
          "Spain - Jerez",
          "France - Le Mans",
          "Italy - Mugello",
          "Catalonia - Catalunya",
          "Germany - Sachsenring",
          "Netherlands - Assen",
          "UK - Silverstone",
          "Austria - Red Bull Ring",
          "San Marino - Misano",
          "Aaragon - Motorland Aaragon",
          "Japan - Motegi",
          "Thailand - Buriram",
          "Australia - Phillip Island",
          "Malaysia - Sepang",
          "Valencia - Ricardo Tormo"
         ],
         "xaxis": "x",
         "y": [
          1,
          2,
          23,
          0,
          6,
          14,
          9,
          20,
          3,
          9,
          31,
          14,
          29,
          12,
          10,
          15,
          10,
          25,
          20,
          19
         ],
         "yaxis": "y"
        },
        {
         "hovertemplate": "Rider=Maverick Viñales<br>Race=%{x}<br>Points=%{y}<extra></extra>",
         "legendgroup": "Maverick Viñales",
         "line": {
          "color": "#FF6692",
          "dash": "solid"
         },
         "marker": {
          "symbol": "circle"
         },
         "mode": "lines",
         "name": "Maverick Viñales",
         "orientation": "v",
         "showlegend": true,
         "type": "scatter",
         "x": [
          "Qatar - Lusail",
          "Indonesia - Mandalika",
          "Argentina - Termas de Rio Hondo",
          "Austin - Circuit of The Americas",
          "Portugal - Portimao",
          "Spain - Jerez",
          "France - Le Mans",
          "Italy - Mugello",
          "Catalonia - Catalunya",
          "Germany - Sachsenring",
          "Netherlands - Assen",
          "UK - Silverstone",
          "Austria - Red Bull Ring",
          "San Marino - Misano",
          "Aaragon - Motorland Aaragon",
          "Japan - Motegi",
          "Thailand - Buriram",
          "Australia - Phillip Island",
          "Malaysia - Sepang",
          "Valencia - Ricardo Tormo"
         ],
         "xaxis": "x",
         "y": [
          18,
          6,
          15,
          16,
          16,
          2,
          16,
          28,
          19,
          2,
          32,
          29,
          7,
          24,
          9,
          16,
          29,
          0,
          3,
          10
         ],
         "yaxis": "y"
        },
        {
         "hovertemplate": "Rider=Miguel Oliveira<br>Race=%{x}<br>Points=%{y}<extra></extra>",
         "legendgroup": "Miguel Oliveira",
         "line": {
          "color": "#B6E880",
          "dash": "solid"
         },
         "marker": {
          "symbol": "circle"
         },
         "mode": "lines",
         "name": "Miguel Oliveira",
         "orientation": "v",
         "showlegend": true,
         "type": "scatter",
         "x": [
          "Qatar - Lusail",
          "Indonesia - Mandalika",
          "Argentina - Termas de Rio Hondo",
          "Austin - Circuit of The Americas",
          "Portugal - Portimao",
          "Spain - Jerez",
          "France - Le Mans",
          "Italy - Mugello",
          "Catalonia - Catalunya",
          "Germany - Sachsenring",
          "Netherlands - Assen",
          "UK - Silverstone",
          "Austria - Red Bull Ring",
          "San Marino - Misano",
          "Aaragon - Motorland Aaragon",
          "Japan - Motegi",
          "Thailand - Buriram",
          "Australia - Phillip Island",
          "Malaysia - Sepang",
          "Valencia - Ricardo Tormo"
         ],
         "xaxis": "x",
         "y": [
          2,
          41,
          9,
          4,
          23,
          22,
          0,
          20,
          21,
          19,
          14,
          27,
          14,
          6,
          5,
          20,
          49,
          28,
          13,
          31
         ],
         "yaxis": "y"
        },
        {
         "hovertemplate": "Rider=Pol Espargaró<br>Race=%{x}<br>Points=%{y}<extra></extra>",
         "legendgroup": "Pol Espargaró",
         "line": {
          "color": "#FF97FF",
          "dash": "solid"
         },
         "marker": {
          "symbol": "circle"
         },
         "mode": "lines",
         "name": "Pol Espargaró",
         "orientation": "v",
         "showlegend": true,
         "type": "scatter",
         "x": [
          "Qatar - Lusail",
          "Indonesia - Mandalika",
          "Argentina - Termas de Rio Hondo",
          "Austin - Circuit of The Americas",
          "Portugal - Portimao",
          "Spain - Jerez",
          "France - Le Mans",
          "Italy - Mugello",
          "Catalonia - Catalunya",
          "Germany - Sachsenring",
          "Netherlands - Assen",
          "UK - Silverstone",
          "Austria - Red Bull Ring",
          "San Marino - Misano",
          "Aaragon - Motorland Aaragon",
          "Japan - Motegi",
          "Thailand - Buriram",
          "Australia - Phillip Island",
          "Malaysia - Sepang",
          "Valencia - Ricardo Tormo"
         ],
         "xaxis": "x",
         "y": [
          27,
          10,
          12,
          3,
          10,
          12,
          5,
          2,
          1,
          3,
          0,
          10,
          1,
          0,
          7,
          4,
          12,
          12,
          14,
          0
         ],
         "yaxis": "y"
        },
        {
         "hovertemplate": "Rider=Raúl Fernández<br>Race=%{x}<br>Points=%{y}<extra></extra>",
         "legendgroup": "Raúl Fernández",
         "line": {
          "color": "#FECB52",
          "dash": "solid"
         },
         "marker": {
          "symbol": "circle"
         },
         "mode": "lines",
         "name": "Raúl Fernández",
         "orientation": "v",
         "showlegend": true,
         "type": "scatter",
         "x": [
          "Qatar - Lusail",
          "Indonesia - Mandalika",
          "Argentina - Termas de Rio Hondo",
          "Austin - Circuit of The Americas",
          "Portugal - Portimao",
          "Spain - Jerez",
          "France - Le Mans",
          "Italy - Mugello",
          "Catalonia - Catalunya",
          "Germany - Sachsenring",
          "Netherlands - Assen",
          "UK - Silverstone",
          "Austria - Red Bull Ring",
          "San Marino - Misano",
          "Aaragon - Motorland Aaragon",
          "Japan - Motegi",
          "Thailand - Buriram",
          "Australia - Phillip Island",
          "Malaysia - Sepang",
          "Valencia - Ricardo Tormo"
         ],
         "xaxis": "x",
         "y": [
          10,
          6,
          10,
          4,
          0,
          0,
          0,
          8,
          19,
          24,
          0,
          2,
          10,
          27,
          2,
          8,
          3,
          10,
          15,
          24
         ],
         "yaxis": "y"
        },
        {
         "hovertemplate": "Rider=Takaaki Nakagami<br>Race=%{x}<br>Points=%{y}<extra></extra>",
         "legendgroup": "Takaaki Nakagami",
         "line": {
          "color": "#636efa",
          "dash": "solid"
         },
         "marker": {
          "symbol": "circle"
         },
         "mode": "lines",
         "name": "Takaaki Nakagami",
         "orientation": "v",
         "showlegend": true,
         "type": "scatter",
         "x": [
          "Qatar - Lusail",
          "Indonesia - Mandalika",
          "Argentina - Termas de Rio Hondo",
          "Austin - Circuit of The Americas",
          "Portugal - Portimao",
          "Spain - Jerez",
          "France - Le Mans",
          "Italy - Mugello",
          "Catalonia - Catalunya",
          "Germany - Sachsenring",
          "Netherlands - Assen",
          "UK - Silverstone",
          "Austria - Red Bull Ring",
          "San Marino - Misano",
          "Aaragon - Motorland Aaragon",
          "Japan - Motegi",
          "Thailand - Buriram",
          "Australia - Phillip Island",
          "Malaysia - Sepang",
          "Valencia - Ricardo Tormo"
         ],
         "xaxis": "x",
         "y": [
          18,
          8,
          9,
          3,
          2,
          13,
          19,
          11,
          4,
          1,
          4,
          17,
          2,
          15,
          0,
          10,
          0,
          0,
          0,
          22
         ],
         "yaxis": "y"
        }
       ],
       "layout": {
        "legend": {
         "title": {
          "text": "Rider"
         },
         "tracegroupgap": 0
        },
        "template": {
         "data": {
          "bar": [
           {
            "error_x": {
             "color": "#f2f5fa"
            },
            "error_y": {
             "color": "#f2f5fa"
            },
            "marker": {
             "line": {
              "color": "rgb(17,17,17)",
              "width": 0.5
             },
             "pattern": {
              "fillmode": "overlay",
              "size": 10,
              "solidity": 0.2
             }
            },
            "type": "bar"
           }
          ],
          "barpolar": [
           {
            "marker": {
             "line": {
              "color": "rgb(17,17,17)",
              "width": 0.5
             },
             "pattern": {
              "fillmode": "overlay",
              "size": 10,
              "solidity": 0.2
             }
            },
            "type": "barpolar"
           }
          ],
          "carpet": [
           {
            "aaxis": {
             "endlinecolor": "#A2B1C6",
             "gridcolor": "#506784",
             "linecolor": "#506784",
             "minorgridcolor": "#506784",
             "startlinecolor": "#A2B1C6"
            },
            "baxis": {
             "endlinecolor": "#A2B1C6",
             "gridcolor": "#506784",
             "linecolor": "#506784",
             "minorgridcolor": "#506784",
             "startlinecolor": "#A2B1C6"
            },
            "type": "carpet"
           }
          ],
          "choropleth": [
           {
            "colorbar": {
             "outlinewidth": 0,
             "ticks": ""
            },
            "type": "choropleth"
           }
          ],
          "contour": [
           {
            "colorbar": {
             "outlinewidth": 0,
             "ticks": ""
            },
            "colorscale": [
             [
              0,
              "#0d0887"
             ],
             [
              0.1111111111111111,
              "#46039f"
             ],
             [
              0.2222222222222222,
              "#7201a8"
             ],
             [
              0.3333333333333333,
              "#9c179e"
             ],
             [
              0.4444444444444444,
              "#bd3786"
             ],
             [
              0.5555555555555556,
              "#d8576b"
             ],
             [
              0.6666666666666666,
              "#ed7953"
             ],
             [
              0.7777777777777778,
              "#fb9f3a"
             ],
             [
              0.8888888888888888,
              "#fdca26"
             ],
             [
              1,
              "#f0f921"
             ]
            ],
            "type": "contour"
           }
          ],
          "contourcarpet": [
           {
            "colorbar": {
             "outlinewidth": 0,
             "ticks": ""
            },
            "type": "contourcarpet"
           }
          ],
          "heatmap": [
           {
            "colorbar": {
             "outlinewidth": 0,
             "ticks": ""
            },
            "colorscale": [
             [
              0,
              "#0d0887"
             ],
             [
              0.1111111111111111,
              "#46039f"
             ],
             [
              0.2222222222222222,
              "#7201a8"
             ],
             [
              0.3333333333333333,
              "#9c179e"
             ],
             [
              0.4444444444444444,
              "#bd3786"
             ],
             [
              0.5555555555555556,
              "#d8576b"
             ],
             [
              0.6666666666666666,
              "#ed7953"
             ],
             [
              0.7777777777777778,
              "#fb9f3a"
             ],
             [
              0.8888888888888888,
              "#fdca26"
             ],
             [
              1,
              "#f0f921"
             ]
            ],
            "type": "heatmap"
           }
          ],
          "heatmapgl": [
           {
            "colorbar": {
             "outlinewidth": 0,
             "ticks": ""
            },
            "colorscale": [
             [
              0,
              "#0d0887"
             ],
             [
              0.1111111111111111,
              "#46039f"
             ],
             [
              0.2222222222222222,
              "#7201a8"
             ],
             [
              0.3333333333333333,
              "#9c179e"
             ],
             [
              0.4444444444444444,
              "#bd3786"
             ],
             [
              0.5555555555555556,
              "#d8576b"
             ],
             [
              0.6666666666666666,
              "#ed7953"
             ],
             [
              0.7777777777777778,
              "#fb9f3a"
             ],
             [
              0.8888888888888888,
              "#fdca26"
             ],
             [
              1,
              "#f0f921"
             ]
            ],
            "type": "heatmapgl"
           }
          ],
          "histogram": [
           {
            "marker": {
             "pattern": {
              "fillmode": "overlay",
              "size": 10,
              "solidity": 0.2
             }
            },
            "type": "histogram"
           }
          ],
          "histogram2d": [
           {
            "colorbar": {
             "outlinewidth": 0,
             "ticks": ""
            },
            "colorscale": [
             [
              0,
              "#0d0887"
             ],
             [
              0.1111111111111111,
              "#46039f"
             ],
             [
              0.2222222222222222,
              "#7201a8"
             ],
             [
              0.3333333333333333,
              "#9c179e"
             ],
             [
              0.4444444444444444,
              "#bd3786"
             ],
             [
              0.5555555555555556,
              "#d8576b"
             ],
             [
              0.6666666666666666,
              "#ed7953"
             ],
             [
              0.7777777777777778,
              "#fb9f3a"
             ],
             [
              0.8888888888888888,
              "#fdca26"
             ],
             [
              1,
              "#f0f921"
             ]
            ],
            "type": "histogram2d"
           }
          ],
          "histogram2dcontour": [
           {
            "colorbar": {
             "outlinewidth": 0,
             "ticks": ""
            },
            "colorscale": [
             [
              0,
              "#0d0887"
             ],
             [
              0.1111111111111111,
              "#46039f"
             ],
             [
              0.2222222222222222,
              "#7201a8"
             ],
             [
              0.3333333333333333,
              "#9c179e"
             ],
             [
              0.4444444444444444,
              "#bd3786"
             ],
             [
              0.5555555555555556,
              "#d8576b"
             ],
             [
              0.6666666666666666,
              "#ed7953"
             ],
             [
              0.7777777777777778,
              "#fb9f3a"
             ],
             [
              0.8888888888888888,
              "#fdca26"
             ],
             [
              1,
              "#f0f921"
             ]
            ],
            "type": "histogram2dcontour"
           }
          ],
          "mesh3d": [
           {
            "colorbar": {
             "outlinewidth": 0,
             "ticks": ""
            },
            "type": "mesh3d"
           }
          ],
          "parcoords": [
           {
            "line": {
             "colorbar": {
              "outlinewidth": 0,
              "ticks": ""
             }
            },
            "type": "parcoords"
           }
          ],
          "pie": [
           {
            "automargin": true,
            "type": "pie"
           }
          ],
          "scatter": [
           {
            "marker": {
             "line": {
              "color": "#283442"
             }
            },
            "type": "scatter"
           }
          ],
          "scatter3d": [
           {
            "line": {
             "colorbar": {
              "outlinewidth": 0,
              "ticks": ""
             }
            },
            "marker": {
             "colorbar": {
              "outlinewidth": 0,
              "ticks": ""
             }
            },
            "type": "scatter3d"
           }
          ],
          "scattercarpet": [
           {
            "marker": {
             "colorbar": {
              "outlinewidth": 0,
              "ticks": ""
             }
            },
            "type": "scattercarpet"
           }
          ],
          "scattergeo": [
           {
            "marker": {
             "colorbar": {
              "outlinewidth": 0,
              "ticks": ""
             }
            },
            "type": "scattergeo"
           }
          ],
          "scattergl": [
           {
            "marker": {
             "line": {
              "color": "#283442"
             }
            },
            "type": "scattergl"
           }
          ],
          "scattermapbox": [
           {
            "marker": {
             "colorbar": {
              "outlinewidth": 0,
              "ticks": ""
             }
            },
            "type": "scattermapbox"
           }
          ],
          "scatterpolar": [
           {
            "marker": {
             "colorbar": {
              "outlinewidth": 0,
              "ticks": ""
             }
            },
            "type": "scatterpolar"
           }
          ],
          "scatterpolargl": [
           {
            "marker": {
             "colorbar": {
              "outlinewidth": 0,
              "ticks": ""
             }
            },
            "type": "scatterpolargl"
           }
          ],
          "scatterternary": [
           {
            "marker": {
             "colorbar": {
              "outlinewidth": 0,
              "ticks": ""
             }
            },
            "type": "scatterternary"
           }
          ],
          "surface": [
           {
            "colorbar": {
             "outlinewidth": 0,
             "ticks": ""
            },
            "colorscale": [
             [
              0,
              "#0d0887"
             ],
             [
              0.1111111111111111,
              "#46039f"
             ],
             [
              0.2222222222222222,
              "#7201a8"
             ],
             [
              0.3333333333333333,
              "#9c179e"
             ],
             [
              0.4444444444444444,
              "#bd3786"
             ],
             [
              0.5555555555555556,
              "#d8576b"
             ],
             [
              0.6666666666666666,
              "#ed7953"
             ],
             [
              0.7777777777777778,
              "#fb9f3a"
             ],
             [
              0.8888888888888888,
              "#fdca26"
             ],
             [
              1,
              "#f0f921"
             ]
            ],
            "type": "surface"
           }
          ],
          "table": [
           {
            "cells": {
             "fill": {
              "color": "#506784"
             },
             "line": {
              "color": "rgb(17,17,17)"
             }
            },
            "header": {
             "fill": {
              "color": "#2a3f5f"
             },
             "line": {
              "color": "rgb(17,17,17)"
             }
            },
            "type": "table"
           }
          ]
         },
         "layout": {
          "annotationdefaults": {
           "arrowcolor": "#f2f5fa",
           "arrowhead": 0,
           "arrowwidth": 1
          },
          "autotypenumbers": "strict",
          "coloraxis": {
           "colorbar": {
            "outlinewidth": 0,
            "ticks": ""
           }
          },
          "colorscale": {
           "diverging": [
            [
             0,
             "#8e0152"
            ],
            [
             0.1,
             "#c51b7d"
            ],
            [
             0.2,
             "#de77ae"
            ],
            [
             0.3,
             "#f1b6da"
            ],
            [
             0.4,
             "#fde0ef"
            ],
            [
             0.5,
             "#f7f7f7"
            ],
            [
             0.6,
             "#e6f5d0"
            ],
            [
             0.7,
             "#b8e186"
            ],
            [
             0.8,
             "#7fbc41"
            ],
            [
             0.9,
             "#4d9221"
            ],
            [
             1,
             "#276419"
            ]
           ],
           "sequential": [
            [
             0,
             "#0d0887"
            ],
            [
             0.1111111111111111,
             "#46039f"
            ],
            [
             0.2222222222222222,
             "#7201a8"
            ],
            [
             0.3333333333333333,
             "#9c179e"
            ],
            [
             0.4444444444444444,
             "#bd3786"
            ],
            [
             0.5555555555555556,
             "#d8576b"
            ],
            [
             0.6666666666666666,
             "#ed7953"
            ],
            [
             0.7777777777777778,
             "#fb9f3a"
            ],
            [
             0.8888888888888888,
             "#fdca26"
            ],
            [
             1,
             "#f0f921"
            ]
           ],
           "sequentialminus": [
            [
             0,
             "#0d0887"
            ],
            [
             0.1111111111111111,
             "#46039f"
            ],
            [
             0.2222222222222222,
             "#7201a8"
            ],
            [
             0.3333333333333333,
             "#9c179e"
            ],
            [
             0.4444444444444444,
             "#bd3786"
            ],
            [
             0.5555555555555556,
             "#d8576b"
            ],
            [
             0.6666666666666666,
             "#ed7953"
            ],
            [
             0.7777777777777778,
             "#fb9f3a"
            ],
            [
             0.8888888888888888,
             "#fdca26"
            ],
            [
             1,
             "#f0f921"
            ]
           ]
          },
          "colorway": [
           "#636efa",
           "#EF553B",
           "#00cc96",
           "#ab63fa",
           "#FFA15A",
           "#19d3f3",
           "#FF6692",
           "#B6E880",
           "#FF97FF",
           "#FECB52"
          ],
          "font": {
           "color": "#f2f5fa"
          },
          "geo": {
           "bgcolor": "rgb(17,17,17)",
           "lakecolor": "rgb(17,17,17)",
           "landcolor": "rgb(17,17,17)",
           "showlakes": true,
           "showland": true,
           "subunitcolor": "#506784"
          },
          "hoverlabel": {
           "align": "left"
          },
          "hovermode": "closest",
          "mapbox": {
           "style": "dark"
          },
          "paper_bgcolor": "rgb(17,17,17)",
          "plot_bgcolor": "rgb(17,17,17)",
          "polar": {
           "angularaxis": {
            "gridcolor": "#506784",
            "linecolor": "#506784",
            "ticks": ""
           },
           "bgcolor": "rgb(17,17,17)",
           "radialaxis": {
            "gridcolor": "#506784",
            "linecolor": "#506784",
            "ticks": ""
           }
          },
          "scene": {
           "xaxis": {
            "backgroundcolor": "rgb(17,17,17)",
            "gridcolor": "#506784",
            "gridwidth": 2,
            "linecolor": "#506784",
            "showbackground": true,
            "ticks": "",
            "zerolinecolor": "#C8D4E3"
           },
           "yaxis": {
            "backgroundcolor": "rgb(17,17,17)",
            "gridcolor": "#506784",
            "gridwidth": 2,
            "linecolor": "#506784",
            "showbackground": true,
            "ticks": "",
            "zerolinecolor": "#C8D4E3"
           },
           "zaxis": {
            "backgroundcolor": "rgb(17,17,17)",
            "gridcolor": "#506784",
            "gridwidth": 2,
            "linecolor": "#506784",
            "showbackground": true,
            "ticks": "",
            "zerolinecolor": "#C8D4E3"
           }
          },
          "shapedefaults": {
           "line": {
            "color": "#f2f5fa"
           }
          },
          "sliderdefaults": {
           "bgcolor": "#C8D4E3",
           "bordercolor": "rgb(17,17,17)",
           "borderwidth": 1,
           "tickwidth": 0
          },
          "ternary": {
           "aaxis": {
            "gridcolor": "#506784",
            "linecolor": "#506784",
            "ticks": ""
           },
           "baxis": {
            "gridcolor": "#506784",
            "linecolor": "#506784",
            "ticks": ""
           },
           "bgcolor": "rgb(17,17,17)",
           "caxis": {
            "gridcolor": "#506784",
            "linecolor": "#506784",
            "ticks": ""
           }
          },
          "title": {
           "x": 0.05
          },
          "updatemenudefaults": {
           "bgcolor": "#506784",
           "borderwidth": 0
          },
          "xaxis": {
           "automargin": true,
           "gridcolor": "#283442",
           "linecolor": "#506784",
           "ticks": "",
           "title": {
            "standoff": 15
           },
           "zerolinecolor": "#283442",
           "zerolinewidth": 2
          },
          "yaxis": {
           "automargin": true,
           "gridcolor": "#283442",
           "linecolor": "#506784",
           "ticks": "",
           "title": {
            "standoff": 15
           },
           "zerolinecolor": "#283442",
           "zerolinewidth": 2
          }
         }
        },
        "title": {
         "text": "MotoGp Fantasy Points 2022"
        },
        "xaxis": {
         "anchor": "y",
         "domain": [
          0,
          1
         ],
         "title": {
          "text": "Race"
         }
        },
        "yaxis": {
         "anchor": "x",
         "domain": [
          0,
          1
         ],
         "title": {
          "text": "Points"
         }
        }
       }
      }
     },
     "metadata": {},
     "output_type": "display_data"
    }
   ],
   "source": [
    "import plotly.express as px\n",
    "\n",
    "\n",
    "fig2 = px.line(\n",
    "                df7, \n",
    "                x=df7[\"Race\"], \n",
    "                y=df7.columns[1:], \n",
    "                template=\"plotly_dark\",\n",
    "                labels={\n",
    "                    \"Track\": \"Track\",\n",
    "                    \"value\": \"Points\",\n",
    "                    \"variable\": \"Rider\"\n",
    "                    },\n",
    "                title=\"MotoGp Fantasy Points 2022\",\n",
    "            )\n",
    "\n",
    "# fig2.update_layout(height=800, width=2250)\n",
    "\n",
    "fig2.show()"
   ]
  },
  {
   "cell_type": "code",
   "execution_count": 21,
   "metadata": {},
   "outputs": [],
   "source": [
    "df8 = pd.DataFrame()\n",
    "\n",
    "df8[\"Race\"] = df7[\"Race\"]\n",
    "\n",
    "for rider in df7.columns[1:]:\n",
    "    # df8[f\"{rider}_points\"] = df7[rider].map(lambda x: pts_fn(x))\n",
    "    df8[f\"{rider}\"] = df7[rider].cumsum()\n",
    "    # del df8[f\"{rider}_points\"]"
   ]
  },
  {
   "cell_type": "code",
   "execution_count": 22,
   "metadata": {},
   "outputs": [
    {
     "data": {
      "application/vnd.plotly.v1+json": {
       "config": {
        "plotlyServerURL": "https://plot.ly"
       },
       "data": [
        {
         "hovertemplate": "Rider=Aleix Espargaró<br>Race=%{x}<br>Points=%{y}<extra></extra>",
         "legendgroup": "Aleix Espargaró",
         "line": {
          "color": "#636efa",
          "dash": "solid"
         },
         "marker": {
          "symbol": "circle"
         },
         "mode": "lines",
         "name": "Aleix Espargaró",
         "orientation": "v",
         "showlegend": true,
         "type": "scatter",
         "x": [
          "Qatar - Lusail",
          "Indonesia - Mandalika",
          "Argentina - Termas de Rio Hondo",
          "Austin - Circuit of The Americas",
          "Portugal - Portimao",
          "Spain - Jerez",
          "France - Le Mans",
          "Italy - Mugello",
          "Catalonia - Catalunya",
          "Germany - Sachsenring",
          "Netherlands - Assen",
          "UK - Silverstone",
          "Austria - Red Bull Ring",
          "San Marino - Misano",
          "Aaragon - Motorland Aaragon",
          "Japan - Motegi",
          "Thailand - Buriram",
          "Australia - Phillip Island",
          "Malaysia - Sepang",
          "Valencia - Ricardo Tormo"
         ],
         "xaxis": "x",
         "y": [
          21,
          31,
          71,
          83,
          107,
          131,
          155,
          183,
          204,
          224,
          250,
          262,
          285,
          303,
          333,
          338,
          350,
          364,
          371,
          372
         ],
         "yaxis": "y"
        },
        {
         "hovertemplate": "Rider=Álex Márquez<br>Race=%{x}<br>Points=%{y}<extra></extra>",
         "legendgroup": "Álex Márquez",
         "line": {
          "color": "#EF553B",
          "dash": "solid"
         },
         "marker": {
          "symbol": "circle"
         },
         "mode": "lines",
         "name": "Álex Márquez",
         "orientation": "v",
         "showlegend": true,
         "type": "scatter",
         "x": [
          "Qatar - Lusail",
          "Indonesia - Mandalika",
          "Argentina - Termas de Rio Hondo",
          "Austin - Circuit of The Americas",
          "Portugal - Portimao",
          "Spain - Jerez",
          "France - Le Mans",
          "Italy - Mugello",
          "Catalonia - Catalunya",
          "Germany - Sachsenring",
          "Netherlands - Assen",
          "UK - Silverstone",
          "Austria - Red Bull Ring",
          "San Marino - Misano",
          "Aaragon - Motorland Aaragon",
          "Japan - Motegi",
          "Thailand - Buriram",
          "Australia - Phillip Island",
          "Malaysia - Sepang",
          "Valencia - Ricardo Tormo"
         ],
         "xaxis": "x",
         "y": [
          0,
          13,
          22,
          22,
          40,
          61,
          77,
          87,
          123,
          123,
          136,
          136,
          160,
          178,
          192,
          203,
          235,
          235,
          243,
          244
         ],
         "yaxis": "y"
        },
        {
         "hovertemplate": "Rider=Álex Rins<br>Race=%{x}<br>Points=%{y}<extra></extra>",
         "legendgroup": "Álex Rins",
         "line": {
          "color": "#00cc96",
          "dash": "solid"
         },
         "marker": {
          "symbol": "circle"
         },
         "mode": "lines",
         "name": "Álex Rins",
         "orientation": "v",
         "showlegend": true,
         "type": "scatter",
         "x": [
          "Qatar - Lusail",
          "Indonesia - Mandalika",
          "Argentina - Termas de Rio Hondo",
          "Austin - Circuit of The Americas",
          "Portugal - Portimao",
          "Spain - Jerez",
          "France - Le Mans",
          "Italy - Mugello",
          "Catalonia - Catalunya",
          "Germany - Sachsenring",
          "Netherlands - Assen",
          "UK - Silverstone",
          "Austria - Red Bull Ring",
          "San Marino - Misano",
          "Aaragon - Motorland Aaragon",
          "Japan - Motegi",
          "Thailand - Buriram",
          "Australia - Phillip Island",
          "Malaysia - Sepang",
          "Valencia - Ricardo Tormo"
         ],
         "xaxis": "x",
         "y": [
          16,
          36,
          64,
          102,
          153,
          155,
          158,
          158,
          162,
          162,
          170,
          192,
          206,
          225,
          234,
          234,
          239,
          287,
          304,
          347
         ],
         "yaxis": "y"
        },
        {
         "hovertemplate": "Rider=Brad Binder<br>Race=%{x}<br>Points=%{y}<extra></extra>",
         "legendgroup": "Brad Binder",
         "line": {
          "color": "#ab63fa",
          "dash": "solid"
         },
         "marker": {
          "symbol": "circle"
         },
         "mode": "lines",
         "name": "Brad Binder",
         "orientation": "v",
         "showlegend": true,
         "type": "scatter",
         "x": [
          "Qatar - Lusail",
          "Indonesia - Mandalika",
          "Argentina - Termas de Rio Hondo",
          "Austin - Circuit of The Americas",
          "Portugal - Portimao",
          "Spain - Jerez",
          "France - Le Mans",
          "Italy - Mugello",
          "Catalonia - Catalunya",
          "Germany - Sachsenring",
          "Netherlands - Assen",
          "UK - Silverstone",
          "Austria - Red Bull Ring",
          "San Marino - Misano",
          "Aaragon - Motorland Aaragon",
          "Japan - Motegi",
          "Thailand - Buriram",
          "Australia - Phillip Island",
          "Malaysia - Sepang",
          "Valencia - Ricardo Tormo"
         ],
         "xaxis": "x",
         "y": [
          39,
          54,
          74,
          88,
          88,
          105,
          133,
          160,
          183,
          209,
          236,
          249,
          268,
          291,
          317,
          347,
          357,
          375,
          396,
          435
         ],
         "yaxis": "y"
        },
        {
         "hovertemplate": "Rider=Enea Bastianini<br>Race=%{x}<br>Points=%{y}<extra></extra>",
         "legendgroup": "Enea Bastianini",
         "line": {
          "color": "#FFA15A",
          "dash": "solid"
         },
         "marker": {
          "symbol": "circle"
         },
         "mode": "lines",
         "name": "Enea Bastianini",
         "orientation": "v",
         "showlegend": true,
         "type": "scatter",
         "x": [
          "Qatar - Lusail",
          "Indonesia - Mandalika",
          "Argentina - Termas de Rio Hondo",
          "Austin - Circuit of The Americas",
          "Portugal - Portimao",
          "Spain - Jerez",
          "France - Le Mans",
          "Italy - Mugello",
          "Catalonia - Catalunya",
          "Germany - Sachsenring",
          "Netherlands - Assen",
          "UK - Silverstone",
          "Austria - Red Bull Ring",
          "San Marino - Misano",
          "Aaragon - Motorland Aaragon",
          "Japan - Motegi",
          "Thailand - Buriram",
          "Australia - Phillip Island",
          "Malaysia - Sepang",
          "Valencia - Ricardo Tormo"
         ],
         "xaxis": "x",
         "y": [
          41,
          52,
          65,
          109,
          109,
          123,
          162,
          163,
          165,
          185,
          200,
          229,
          239,
          272,
          309,
          329,
          344,
          376,
          405,
          426
         ],
         "yaxis": "y"
        },
        {
         "hovertemplate": "Rider=Fabio Di Giannantonio<br>Race=%{x}<br>Points=%{y}<extra></extra>",
         "legendgroup": "Fabio Di Giannantonio",
         "line": {
          "color": "#19d3f3",
          "dash": "solid"
         },
         "marker": {
          "symbol": "circle"
         },
         "mode": "lines",
         "name": "Fabio Di Giannantonio",
         "orientation": "v",
         "showlegend": true,
         "type": "scatter",
         "x": [
          "Qatar - Lusail",
          "Indonesia - Mandalika",
          "Argentina - Termas de Rio Hondo",
          "Austin - Circuit of The Americas",
          "Portugal - Portimao",
          "Spain - Jerez",
          "France - Le Mans",
          "Italy - Mugello",
          "Catalonia - Catalunya",
          "Germany - Sachsenring",
          "Netherlands - Assen",
          "UK - Silverstone",
          "Austria - Red Bull Ring",
          "San Marino - Misano",
          "Aaragon - Motorland Aaragon",
          "Japan - Motegi",
          "Thailand - Buriram",
          "Australia - Phillip Island",
          "Malaysia - Sepang",
          "Valencia - Ricardo Tormo"
         ],
         "xaxis": "x",
         "y": [
          8,
          12,
          12,
          12,
          13,
          13,
          22,
          42,
          48,
          67,
          72,
          73,
          83,
          85,
          86,
          86,
          92,
          92,
          92,
          101
         ],
         "yaxis": "y"
        },
        {
         "hovertemplate": "Rider=Fabio Quartararo<br>Race=%{x}<br>Points=%{y}<extra></extra>",
         "legendgroup": "Fabio Quartararo",
         "line": {
          "color": "#FF6692",
          "dash": "solid"
         },
         "marker": {
          "symbol": "circle"
         },
         "mode": "lines",
         "name": "Fabio Quartararo",
         "orientation": "v",
         "showlegend": true,
         "type": "scatter",
         "x": [
          "Qatar - Lusail",
          "Indonesia - Mandalika",
          "Argentina - Termas de Rio Hondo",
          "Austin - Circuit of The Americas",
          "Portugal - Portimao",
          "Spain - Jerez",
          "France - Le Mans",
          "Italy - Mugello",
          "Catalonia - Catalunya",
          "Germany - Sachsenring",
          "Netherlands - Assen",
          "UK - Silverstone",
          "Austria - Red Bull Ring",
          "San Marino - Misano",
          "Aaragon - Motorland Aaragon",
          "Japan - Motegi",
          "Thailand - Buriram",
          "Australia - Phillip Island",
          "Malaysia - Sepang",
          "Valencia - Ricardo Tormo"
         ],
         "xaxis": "x",
         "y": [
          15,
          50,
          63,
          77,
          121,
          150,
          170,
          203,
          245,
          286,
          295,
          310,
          342,
          362,
          367,
          379,
          386,
          392,
          426,
          446
         ],
         "yaxis": "y"
        },
        {
         "hovertemplate": "Rider=Francesco Bagnaia<br>Race=%{x}<br>Points=%{y}<extra></extra>",
         "legendgroup": "Francesco Bagnaia",
         "line": {
          "color": "#B6E880",
          "dash": "solid"
         },
         "marker": {
          "symbol": "circle"
         },
         "mode": "lines",
         "name": "Francesco Bagnaia",
         "orientation": "v",
         "showlegend": true,
         "type": "scatter",
         "x": [
          "Qatar - Lusail",
          "Indonesia - Mandalika",
          "Argentina - Termas de Rio Hondo",
          "Austin - Circuit of The Americas",
          "Portugal - Portimao",
          "Spain - Jerez",
          "France - Le Mans",
          "Italy - Mugello",
          "Catalonia - Catalunya",
          "Germany - Sachsenring",
          "Netherlands - Assen",
          "UK - Silverstone",
          "Austria - Red Bull Ring",
          "San Marino - Misano",
          "Aaragon - Motorland Aaragon",
          "Japan - Motegi",
          "Thailand - Buriram",
          "Australia - Phillip Island",
          "Malaysia - Sepang",
          "Valencia - Ricardo Tormo"
         ],
         "xaxis": "x",
         "y": [
          2,
          13,
          42,
          61,
          101,
          141,
          156,
          200,
          209,
          219,
          254,
          293,
          329,
          371,
          401,
          401,
          425,
          449,
          497,
          507
         ],
         "yaxis": "y"
        },
        {
         "hovertemplate": "Rider=Franco Morbidelli<br>Race=%{x}<br>Points=%{y}<extra></extra>",
         "legendgroup": "Franco Morbidelli",
         "line": {
          "color": "#FF97FF",
          "dash": "solid"
         },
         "marker": {
          "symbol": "circle"
         },
         "mode": "lines",
         "name": "Franco Morbidelli",
         "orientation": "v",
         "showlegend": true,
         "type": "scatter",
         "x": [
          "Qatar - Lusail",
          "Indonesia - Mandalika",
          "Argentina - Termas de Rio Hondo",
          "Austin - Circuit of The Americas",
          "Portugal - Portimao",
          "Spain - Jerez",
          "France - Le Mans",
          "Italy - Mugello",
          "Catalonia - Catalunya",
          "Germany - Sachsenring",
          "Netherlands - Assen",
          "UK - Silverstone",
          "Austria - Red Bull Ring",
          "San Marino - Misano",
          "Aaragon - Motorland Aaragon",
          "Japan - Motegi",
          "Thailand - Buriram",
          "Australia - Phillip Island",
          "Malaysia - Sepang",
          "Valencia - Ricardo Tormo"
         ],
         "xaxis": "x",
         "y": [
          7,
          30,
          31,
          37,
          52,
          55,
          64,
          76,
          89,
          106,
          106,
          115,
          115,
          115,
          121,
          125,
          132,
          132,
          141,
          159
         ],
         "yaxis": "y"
        },
        {
         "hovertemplate": "Rider=Jack Miller<br>Race=%{x}<br>Points=%{y}<extra></extra>",
         "legendgroup": "Jack Miller",
         "line": {
          "color": "#FECB52",
          "dash": "solid"
         },
         "marker": {
          "symbol": "circle"
         },
         "mode": "lines",
         "name": "Jack Miller",
         "orientation": "v",
         "showlegend": true,
         "type": "scatter",
         "x": [
          "Qatar - Lusail",
          "Indonesia - Mandalika",
          "Argentina - Termas de Rio Hondo",
          "Austin - Circuit of The Americas",
          "Portugal - Portimao",
          "Spain - Jerez",
          "France - Le Mans",
          "Italy - Mugello",
          "Catalonia - Catalunya",
          "Germany - Sachsenring",
          "Netherlands - Assen",
          "UK - Silverstone",
          "Austria - Red Bull Ring",
          "San Marino - Misano",
          "Aaragon - Motorland Aaragon",
          "Japan - Motegi",
          "Thailand - Buriram",
          "Australia - Phillip Island",
          "Malaysia - Sepang",
          "Valencia - Ricardo Tormo"
         ],
         "xaxis": "x",
         "y": [
          7,
          32,
          34,
          59,
          66,
          84,
          113,
          117,
          119,
          146,
          161,
          185,
          209,
          219,
          239,
          285,
          319,
          322,
          350,
          358
         ],
         "yaxis": "y"
        },
        {
         "hovertemplate": "Rider=Joan Mir<br>Race=%{x}<br>Points=%{y}<extra></extra>",
         "legendgroup": "Joan Mir",
         "line": {
          "color": "#636efa",
          "dash": "solid"
         },
         "marker": {
          "symbol": "circle"
         },
         "mode": "lines",
         "name": "Joan Mir",
         "orientation": "v",
         "showlegend": true,
         "type": "scatter",
         "x": [
          "Qatar - Lusail",
          "Indonesia - Mandalika",
          "Argentina - Termas de Rio Hondo",
          "Austin - Circuit of The Americas",
          "Portugal - Portimao",
          "Spain - Jerez",
          "France - Le Mans",
          "Italy - Mugello",
          "Catalonia - Catalunya",
          "Germany - Sachsenring",
          "Netherlands - Assen",
          "UK - Silverstone",
          "Austria - Red Bull Ring",
          "San Marino - Misano",
          "Aaragon - Motorland Aaragon",
          "Japan - Motegi",
          "Thailand - Buriram",
          "Australia - Phillip Island",
          "Malaysia - Sepang",
          "Valencia - Ricardo Tormo"
         ],
         "xaxis": "x",
         "y": [
          17,
          49,
          73,
          97,
          106,
          124,
          132,
          132,
          171,
          171,
          193,
          193,
          196,
          196,
          196,
          196,
          196,
          198,
          198,
          220
         ],
         "yaxis": "y"
        },
        {
         "hovertemplate": "Rider=Johann Zarco<br>Race=%{x}<br>Points=%{y}<extra></extra>",
         "legendgroup": "Johann Zarco",
         "line": {
          "color": "#EF553B",
          "dash": "solid"
         },
         "marker": {
          "symbol": "circle"
         },
         "mode": "lines",
         "name": "Johann Zarco",
         "orientation": "v",
         "showlegend": true,
         "type": "scatter",
         "x": [
          "Qatar - Lusail",
          "Indonesia - Mandalika",
          "Argentina - Termas de Rio Hondo",
          "Austin - Circuit of The Americas",
          "Portugal - Portimao",
          "Spain - Jerez",
          "France - Le Mans",
          "Italy - Mugello",
          "Catalonia - Catalunya",
          "Germany - Sachsenring",
          "Netherlands - Assen",
          "UK - Silverstone",
          "Austria - Red Bull Ring",
          "San Marino - Misano",
          "Aaragon - Motorland Aaragon",
          "Japan - Motegi",
          "Thailand - Buriram",
          "Australia - Phillip Island",
          "Malaysia - Sepang",
          "Valencia - Ricardo Tormo"
         ],
         "xaxis": "x",
         "y": [
          21,
          45,
          47,
          61,
          91,
          101,
          125,
          145,
          170,
          200,
          207,
          217,
          235,
          240,
          258,
          277,
          303,
          326,
          349,
          351
         ],
         "yaxis": "y"
        },
        {
         "hovertemplate": "Rider=Jorge Martín<br>Race=%{x}<br>Points=%{y}<extra></extra>",
         "legendgroup": "Jorge Martín",
         "line": {
          "color": "#00cc96",
          "dash": "solid"
         },
         "marker": {
          "symbol": "circle"
         },
         "mode": "lines",
         "name": "Jorge Martín",
         "orientation": "v",
         "showlegend": true,
         "type": "scatter",
         "x": [
          "Qatar - Lusail",
          "Indonesia - Mandalika",
          "Argentina - Termas de Rio Hondo",
          "Austin - Circuit of The Americas",
          "Portugal - Portimao",
          "Spain - Jerez",
          "France - Le Mans",
          "Italy - Mugello",
          "Catalonia - Catalunya",
          "Germany - Sachsenring",
          "Netherlands - Assen",
          "UK - Silverstone",
          "Austria - Red Bull Ring",
          "San Marino - Misano",
          "Aaragon - Motorland Aaragon",
          "Japan - Motegi",
          "Thailand - Buriram",
          "Australia - Phillip Island",
          "Malaysia - Sepang",
          "Valencia - Ricardo Tormo"
         ],
         "xaxis": "x",
         "y": [
          10,
          19,
          48,
          71,
          74,
          75,
          82,
          87,
          120,
          137,
          154,
          175,
          193,
          211,
          228,
          258,
          274,
          293,
          308,
          334
         ],
         "yaxis": "y"
        },
        {
         "hovertemplate": "Rider=Luca Marini<br>Race=%{x}<br>Points=%{y}<extra></extra>",
         "legendgroup": "Luca Marini",
         "line": {
          "color": "#ab63fa",
          "dash": "solid"
         },
         "marker": {
          "symbol": "circle"
         },
         "mode": "lines",
         "name": "Luca Marini",
         "orientation": "v",
         "showlegend": true,
         "type": "scatter",
         "x": [
          "Qatar - Lusail",
          "Indonesia - Mandalika",
          "Argentina - Termas de Rio Hondo",
          "Austin - Circuit of The Americas",
          "Portugal - Portimao",
          "Spain - Jerez",
          "France - Le Mans",
          "Italy - Mugello",
          "Catalonia - Catalunya",
          "Germany - Sachsenring",
          "Netherlands - Assen",
          "UK - Silverstone",
          "Austria - Red Bull Ring",
          "San Marino - Misano",
          "Aaragon - Motorland Aaragon",
          "Japan - Motegi",
          "Thailand - Buriram",
          "Australia - Phillip Island",
          "Malaysia - Sepang",
          "Valencia - Ricardo Tormo"
         ],
         "xaxis": "x",
         "y": [
          11,
          16,
          29,
          29,
          40,
          46,
          66,
          84,
          102,
          121,
          124,
          129,
          163,
          190,
          220,
          239,
          241,
          257,
          262,
          279
         ],
         "yaxis": "y"
        },
        {
         "hovertemplate": "Rider=Marc Márquez<br>Race=%{x}<br>Points=%{y}<extra></extra>",
         "legendgroup": "Marc Márquez",
         "line": {
          "color": "#FFA15A",
          "dash": "solid"
         },
         "marker": {
          "symbol": "circle"
         },
         "mode": "lines",
         "name": "Marc Márquez",
         "orientation": "v",
         "showlegend": true,
         "type": "scatter",
         "x": [
          "Qatar - Lusail",
          "Indonesia - Mandalika",
          "Argentina - Termas de Rio Hondo",
          "Austin - Circuit of The Americas",
          "Portugal - Portimao",
          "Spain - Jerez",
          "France - Le Mans",
          "Italy - Mugello",
          "Catalonia - Catalunya",
          "Germany - Sachsenring",
          "Netherlands - Assen",
          "UK - Silverstone",
          "Austria - Red Bull Ring",
          "San Marino - Misano",
          "Aaragon - Motorland Aaragon",
          "Japan - Motegi",
          "Thailand - Buriram",
          "Australia - Phillip Island",
          "Malaysia - Sepang",
          "Valencia - Ricardo Tormo"
         ],
         "xaxis": "x",
         "y": [
          19,
          20,
          20,
          38,
          56,
          77,
          96,
          108,
          108,
          108,
          108,
          108,
          108,
          108,
          111,
          134,
          159,
          188,
          209,
          218
         ],
         "yaxis": "y"
        },
        {
         "hovertemplate": "Rider=Marco Bezzecchi<br>Race=%{x}<br>Points=%{y}<extra></extra>",
         "legendgroup": "Marco Bezzecchi",
         "line": {
          "color": "#19d3f3",
          "dash": "solid"
         },
         "marker": {
          "symbol": "circle"
         },
         "mode": "lines",
         "name": "Marco Bezzecchi",
         "orientation": "v",
         "showlegend": true,
         "type": "scatter",
         "x": [
          "Qatar - Lusail",
          "Indonesia - Mandalika",
          "Argentina - Termas de Rio Hondo",
          "Austin - Circuit of The Americas",
          "Portugal - Portimao",
          "Spain - Jerez",
          "France - Le Mans",
          "Italy - Mugello",
          "Catalonia - Catalunya",
          "Germany - Sachsenring",
          "Netherlands - Assen",
          "UK - Silverstone",
          "Austria - Red Bull Ring",
          "San Marino - Misano",
          "Aaragon - Motorland Aaragon",
          "Japan - Motegi",
          "Thailand - Buriram",
          "Australia - Phillip Island",
          "Malaysia - Sepang",
          "Valencia - Ricardo Tormo"
         ],
         "xaxis": "x",
         "y": [
          1,
          3,
          26,
          26,
          32,
          46,
          55,
          75,
          78,
          87,
          118,
          132,
          161,
          173,
          183,
          198,
          208,
          233,
          253,
          272
         ],
         "yaxis": "y"
        },
        {
         "hovertemplate": "Rider=Maverick Viñales<br>Race=%{x}<br>Points=%{y}<extra></extra>",
         "legendgroup": "Maverick Viñales",
         "line": {
          "color": "#FF6692",
          "dash": "solid"
         },
         "marker": {
          "symbol": "circle"
         },
         "mode": "lines",
         "name": "Maverick Viñales",
         "orientation": "v",
         "showlegend": true,
         "type": "scatter",
         "x": [
          "Qatar - Lusail",
          "Indonesia - Mandalika",
          "Argentina - Termas de Rio Hondo",
          "Austin - Circuit of The Americas",
          "Portugal - Portimao",
          "Spain - Jerez",
          "France - Le Mans",
          "Italy - Mugello",
          "Catalonia - Catalunya",
          "Germany - Sachsenring",
          "Netherlands - Assen",
          "UK - Silverstone",
          "Austria - Red Bull Ring",
          "San Marino - Misano",
          "Aaragon - Motorland Aaragon",
          "Japan - Motegi",
          "Thailand - Buriram",
          "Australia - Phillip Island",
          "Malaysia - Sepang",
          "Valencia - Ricardo Tormo"
         ],
         "xaxis": "x",
         "y": [
          18,
          24,
          39,
          55,
          71,
          73,
          89,
          117,
          136,
          138,
          170,
          199,
          206,
          230,
          239,
          255,
          284,
          284,
          287,
          297
         ],
         "yaxis": "y"
        },
        {
         "hovertemplate": "Rider=Miguel Oliveira<br>Race=%{x}<br>Points=%{y}<extra></extra>",
         "legendgroup": "Miguel Oliveira",
         "line": {
          "color": "#B6E880",
          "dash": "solid"
         },
         "marker": {
          "symbol": "circle"
         },
         "mode": "lines",
         "name": "Miguel Oliveira",
         "orientation": "v",
         "showlegend": true,
         "type": "scatter",
         "x": [
          "Qatar - Lusail",
          "Indonesia - Mandalika",
          "Argentina - Termas de Rio Hondo",
          "Austin - Circuit of The Americas",
          "Portugal - Portimao",
          "Spain - Jerez",
          "France - Le Mans",
          "Italy - Mugello",
          "Catalonia - Catalunya",
          "Germany - Sachsenring",
          "Netherlands - Assen",
          "UK - Silverstone",
          "Austria - Red Bull Ring",
          "San Marino - Misano",
          "Aaragon - Motorland Aaragon",
          "Japan - Motegi",
          "Thailand - Buriram",
          "Australia - Phillip Island",
          "Malaysia - Sepang",
          "Valencia - Ricardo Tormo"
         ],
         "xaxis": "x",
         "y": [
          2,
          43,
          52,
          56,
          79,
          101,
          101,
          121,
          142,
          161,
          175,
          202,
          216,
          222,
          227,
          247,
          296,
          324,
          337,
          368
         ],
         "yaxis": "y"
        },
        {
         "hovertemplate": "Rider=Pol Espargaró<br>Race=%{x}<br>Points=%{y}<extra></extra>",
         "legendgroup": "Pol Espargaró",
         "line": {
          "color": "#FF97FF",
          "dash": "solid"
         },
         "marker": {
          "symbol": "circle"
         },
         "mode": "lines",
         "name": "Pol Espargaró",
         "orientation": "v",
         "showlegend": true,
         "type": "scatter",
         "x": [
          "Qatar - Lusail",
          "Indonesia - Mandalika",
          "Argentina - Termas de Rio Hondo",
          "Austin - Circuit of The Americas",
          "Portugal - Portimao",
          "Spain - Jerez",
          "France - Le Mans",
          "Italy - Mugello",
          "Catalonia - Catalunya",
          "Germany - Sachsenring",
          "Netherlands - Assen",
          "UK - Silverstone",
          "Austria - Red Bull Ring",
          "San Marino - Misano",
          "Aaragon - Motorland Aaragon",
          "Japan - Motegi",
          "Thailand - Buriram",
          "Australia - Phillip Island",
          "Malaysia - Sepang",
          "Valencia - Ricardo Tormo"
         ],
         "xaxis": "x",
         "y": [
          27,
          37,
          49,
          52,
          62,
          74,
          79,
          81,
          82,
          85,
          85,
          95,
          96,
          96,
          103,
          107,
          119,
          131,
          145,
          145
         ],
         "yaxis": "y"
        },
        {
         "hovertemplate": "Rider=Raúl Fernández<br>Race=%{x}<br>Points=%{y}<extra></extra>",
         "legendgroup": "Raúl Fernández",
         "line": {
          "color": "#FECB52",
          "dash": "solid"
         },
         "marker": {
          "symbol": "circle"
         },
         "mode": "lines",
         "name": "Raúl Fernández",
         "orientation": "v",
         "showlegend": true,
         "type": "scatter",
         "x": [
          "Qatar - Lusail",
          "Indonesia - Mandalika",
          "Argentina - Termas de Rio Hondo",
          "Austin - Circuit of The Americas",
          "Portugal - Portimao",
          "Spain - Jerez",
          "France - Le Mans",
          "Italy - Mugello",
          "Catalonia - Catalunya",
          "Germany - Sachsenring",
          "Netherlands - Assen",
          "UK - Silverstone",
          "Austria - Red Bull Ring",
          "San Marino - Misano",
          "Aaragon - Motorland Aaragon",
          "Japan - Motegi",
          "Thailand - Buriram",
          "Australia - Phillip Island",
          "Malaysia - Sepang",
          "Valencia - Ricardo Tormo"
         ],
         "xaxis": "x",
         "y": [
          10,
          16,
          26,
          30,
          30,
          30,
          30,
          38,
          57,
          81,
          81,
          83,
          93,
          120,
          122,
          130,
          133,
          143,
          158,
          182
         ],
         "yaxis": "y"
        },
        {
         "hovertemplate": "Rider=Takaaki Nakagami<br>Race=%{x}<br>Points=%{y}<extra></extra>",
         "legendgroup": "Takaaki Nakagami",
         "line": {
          "color": "#636efa",
          "dash": "solid"
         },
         "marker": {
          "symbol": "circle"
         },
         "mode": "lines",
         "name": "Takaaki Nakagami",
         "orientation": "v",
         "showlegend": true,
         "type": "scatter",
         "x": [
          "Qatar - Lusail",
          "Indonesia - Mandalika",
          "Argentina - Termas de Rio Hondo",
          "Austin - Circuit of The Americas",
          "Portugal - Portimao",
          "Spain - Jerez",
          "France - Le Mans",
          "Italy - Mugello",
          "Catalonia - Catalunya",
          "Germany - Sachsenring",
          "Netherlands - Assen",
          "UK - Silverstone",
          "Austria - Red Bull Ring",
          "San Marino - Misano",
          "Aaragon - Motorland Aaragon",
          "Japan - Motegi",
          "Thailand - Buriram",
          "Australia - Phillip Island",
          "Malaysia - Sepang",
          "Valencia - Ricardo Tormo"
         ],
         "xaxis": "x",
         "y": [
          18,
          26,
          35,
          38,
          40,
          53,
          72,
          83,
          87,
          88,
          92,
          109,
          111,
          126,
          126,
          136,
          136,
          136,
          136,
          158
         ],
         "yaxis": "y"
        }
       ],
       "layout": {
        "legend": {
         "title": {
          "text": "Rider"
         },
         "tracegroupgap": 0
        },
        "template": {
         "data": {
          "bar": [
           {
            "error_x": {
             "color": "#f2f5fa"
            },
            "error_y": {
             "color": "#f2f5fa"
            },
            "marker": {
             "line": {
              "color": "rgb(17,17,17)",
              "width": 0.5
             },
             "pattern": {
              "fillmode": "overlay",
              "size": 10,
              "solidity": 0.2
             }
            },
            "type": "bar"
           }
          ],
          "barpolar": [
           {
            "marker": {
             "line": {
              "color": "rgb(17,17,17)",
              "width": 0.5
             },
             "pattern": {
              "fillmode": "overlay",
              "size": 10,
              "solidity": 0.2
             }
            },
            "type": "barpolar"
           }
          ],
          "carpet": [
           {
            "aaxis": {
             "endlinecolor": "#A2B1C6",
             "gridcolor": "#506784",
             "linecolor": "#506784",
             "minorgridcolor": "#506784",
             "startlinecolor": "#A2B1C6"
            },
            "baxis": {
             "endlinecolor": "#A2B1C6",
             "gridcolor": "#506784",
             "linecolor": "#506784",
             "minorgridcolor": "#506784",
             "startlinecolor": "#A2B1C6"
            },
            "type": "carpet"
           }
          ],
          "choropleth": [
           {
            "colorbar": {
             "outlinewidth": 0,
             "ticks": ""
            },
            "type": "choropleth"
           }
          ],
          "contour": [
           {
            "colorbar": {
             "outlinewidth": 0,
             "ticks": ""
            },
            "colorscale": [
             [
              0,
              "#0d0887"
             ],
             [
              0.1111111111111111,
              "#46039f"
             ],
             [
              0.2222222222222222,
              "#7201a8"
             ],
             [
              0.3333333333333333,
              "#9c179e"
             ],
             [
              0.4444444444444444,
              "#bd3786"
             ],
             [
              0.5555555555555556,
              "#d8576b"
             ],
             [
              0.6666666666666666,
              "#ed7953"
             ],
             [
              0.7777777777777778,
              "#fb9f3a"
             ],
             [
              0.8888888888888888,
              "#fdca26"
             ],
             [
              1,
              "#f0f921"
             ]
            ],
            "type": "contour"
           }
          ],
          "contourcarpet": [
           {
            "colorbar": {
             "outlinewidth": 0,
             "ticks": ""
            },
            "type": "contourcarpet"
           }
          ],
          "heatmap": [
           {
            "colorbar": {
             "outlinewidth": 0,
             "ticks": ""
            },
            "colorscale": [
             [
              0,
              "#0d0887"
             ],
             [
              0.1111111111111111,
              "#46039f"
             ],
             [
              0.2222222222222222,
              "#7201a8"
             ],
             [
              0.3333333333333333,
              "#9c179e"
             ],
             [
              0.4444444444444444,
              "#bd3786"
             ],
             [
              0.5555555555555556,
              "#d8576b"
             ],
             [
              0.6666666666666666,
              "#ed7953"
             ],
             [
              0.7777777777777778,
              "#fb9f3a"
             ],
             [
              0.8888888888888888,
              "#fdca26"
             ],
             [
              1,
              "#f0f921"
             ]
            ],
            "type": "heatmap"
           }
          ],
          "heatmapgl": [
           {
            "colorbar": {
             "outlinewidth": 0,
             "ticks": ""
            },
            "colorscale": [
             [
              0,
              "#0d0887"
             ],
             [
              0.1111111111111111,
              "#46039f"
             ],
             [
              0.2222222222222222,
              "#7201a8"
             ],
             [
              0.3333333333333333,
              "#9c179e"
             ],
             [
              0.4444444444444444,
              "#bd3786"
             ],
             [
              0.5555555555555556,
              "#d8576b"
             ],
             [
              0.6666666666666666,
              "#ed7953"
             ],
             [
              0.7777777777777778,
              "#fb9f3a"
             ],
             [
              0.8888888888888888,
              "#fdca26"
             ],
             [
              1,
              "#f0f921"
             ]
            ],
            "type": "heatmapgl"
           }
          ],
          "histogram": [
           {
            "marker": {
             "pattern": {
              "fillmode": "overlay",
              "size": 10,
              "solidity": 0.2
             }
            },
            "type": "histogram"
           }
          ],
          "histogram2d": [
           {
            "colorbar": {
             "outlinewidth": 0,
             "ticks": ""
            },
            "colorscale": [
             [
              0,
              "#0d0887"
             ],
             [
              0.1111111111111111,
              "#46039f"
             ],
             [
              0.2222222222222222,
              "#7201a8"
             ],
             [
              0.3333333333333333,
              "#9c179e"
             ],
             [
              0.4444444444444444,
              "#bd3786"
             ],
             [
              0.5555555555555556,
              "#d8576b"
             ],
             [
              0.6666666666666666,
              "#ed7953"
             ],
             [
              0.7777777777777778,
              "#fb9f3a"
             ],
             [
              0.8888888888888888,
              "#fdca26"
             ],
             [
              1,
              "#f0f921"
             ]
            ],
            "type": "histogram2d"
           }
          ],
          "histogram2dcontour": [
           {
            "colorbar": {
             "outlinewidth": 0,
             "ticks": ""
            },
            "colorscale": [
             [
              0,
              "#0d0887"
             ],
             [
              0.1111111111111111,
              "#46039f"
             ],
             [
              0.2222222222222222,
              "#7201a8"
             ],
             [
              0.3333333333333333,
              "#9c179e"
             ],
             [
              0.4444444444444444,
              "#bd3786"
             ],
             [
              0.5555555555555556,
              "#d8576b"
             ],
             [
              0.6666666666666666,
              "#ed7953"
             ],
             [
              0.7777777777777778,
              "#fb9f3a"
             ],
             [
              0.8888888888888888,
              "#fdca26"
             ],
             [
              1,
              "#f0f921"
             ]
            ],
            "type": "histogram2dcontour"
           }
          ],
          "mesh3d": [
           {
            "colorbar": {
             "outlinewidth": 0,
             "ticks": ""
            },
            "type": "mesh3d"
           }
          ],
          "parcoords": [
           {
            "line": {
             "colorbar": {
              "outlinewidth": 0,
              "ticks": ""
             }
            },
            "type": "parcoords"
           }
          ],
          "pie": [
           {
            "automargin": true,
            "type": "pie"
           }
          ],
          "scatter": [
           {
            "marker": {
             "line": {
              "color": "#283442"
             }
            },
            "type": "scatter"
           }
          ],
          "scatter3d": [
           {
            "line": {
             "colorbar": {
              "outlinewidth": 0,
              "ticks": ""
             }
            },
            "marker": {
             "colorbar": {
              "outlinewidth": 0,
              "ticks": ""
             }
            },
            "type": "scatter3d"
           }
          ],
          "scattercarpet": [
           {
            "marker": {
             "colorbar": {
              "outlinewidth": 0,
              "ticks": ""
             }
            },
            "type": "scattercarpet"
           }
          ],
          "scattergeo": [
           {
            "marker": {
             "colorbar": {
              "outlinewidth": 0,
              "ticks": ""
             }
            },
            "type": "scattergeo"
           }
          ],
          "scattergl": [
           {
            "marker": {
             "line": {
              "color": "#283442"
             }
            },
            "type": "scattergl"
           }
          ],
          "scattermapbox": [
           {
            "marker": {
             "colorbar": {
              "outlinewidth": 0,
              "ticks": ""
             }
            },
            "type": "scattermapbox"
           }
          ],
          "scatterpolar": [
           {
            "marker": {
             "colorbar": {
              "outlinewidth": 0,
              "ticks": ""
             }
            },
            "type": "scatterpolar"
           }
          ],
          "scatterpolargl": [
           {
            "marker": {
             "colorbar": {
              "outlinewidth": 0,
              "ticks": ""
             }
            },
            "type": "scatterpolargl"
           }
          ],
          "scatterternary": [
           {
            "marker": {
             "colorbar": {
              "outlinewidth": 0,
              "ticks": ""
             }
            },
            "type": "scatterternary"
           }
          ],
          "surface": [
           {
            "colorbar": {
             "outlinewidth": 0,
             "ticks": ""
            },
            "colorscale": [
             [
              0,
              "#0d0887"
             ],
             [
              0.1111111111111111,
              "#46039f"
             ],
             [
              0.2222222222222222,
              "#7201a8"
             ],
             [
              0.3333333333333333,
              "#9c179e"
             ],
             [
              0.4444444444444444,
              "#bd3786"
             ],
             [
              0.5555555555555556,
              "#d8576b"
             ],
             [
              0.6666666666666666,
              "#ed7953"
             ],
             [
              0.7777777777777778,
              "#fb9f3a"
             ],
             [
              0.8888888888888888,
              "#fdca26"
             ],
             [
              1,
              "#f0f921"
             ]
            ],
            "type": "surface"
           }
          ],
          "table": [
           {
            "cells": {
             "fill": {
              "color": "#506784"
             },
             "line": {
              "color": "rgb(17,17,17)"
             }
            },
            "header": {
             "fill": {
              "color": "#2a3f5f"
             },
             "line": {
              "color": "rgb(17,17,17)"
             }
            },
            "type": "table"
           }
          ]
         },
         "layout": {
          "annotationdefaults": {
           "arrowcolor": "#f2f5fa",
           "arrowhead": 0,
           "arrowwidth": 1
          },
          "autotypenumbers": "strict",
          "coloraxis": {
           "colorbar": {
            "outlinewidth": 0,
            "ticks": ""
           }
          },
          "colorscale": {
           "diverging": [
            [
             0,
             "#8e0152"
            ],
            [
             0.1,
             "#c51b7d"
            ],
            [
             0.2,
             "#de77ae"
            ],
            [
             0.3,
             "#f1b6da"
            ],
            [
             0.4,
             "#fde0ef"
            ],
            [
             0.5,
             "#f7f7f7"
            ],
            [
             0.6,
             "#e6f5d0"
            ],
            [
             0.7,
             "#b8e186"
            ],
            [
             0.8,
             "#7fbc41"
            ],
            [
             0.9,
             "#4d9221"
            ],
            [
             1,
             "#276419"
            ]
           ],
           "sequential": [
            [
             0,
             "#0d0887"
            ],
            [
             0.1111111111111111,
             "#46039f"
            ],
            [
             0.2222222222222222,
             "#7201a8"
            ],
            [
             0.3333333333333333,
             "#9c179e"
            ],
            [
             0.4444444444444444,
             "#bd3786"
            ],
            [
             0.5555555555555556,
             "#d8576b"
            ],
            [
             0.6666666666666666,
             "#ed7953"
            ],
            [
             0.7777777777777778,
             "#fb9f3a"
            ],
            [
             0.8888888888888888,
             "#fdca26"
            ],
            [
             1,
             "#f0f921"
            ]
           ],
           "sequentialminus": [
            [
             0,
             "#0d0887"
            ],
            [
             0.1111111111111111,
             "#46039f"
            ],
            [
             0.2222222222222222,
             "#7201a8"
            ],
            [
             0.3333333333333333,
             "#9c179e"
            ],
            [
             0.4444444444444444,
             "#bd3786"
            ],
            [
             0.5555555555555556,
             "#d8576b"
            ],
            [
             0.6666666666666666,
             "#ed7953"
            ],
            [
             0.7777777777777778,
             "#fb9f3a"
            ],
            [
             0.8888888888888888,
             "#fdca26"
            ],
            [
             1,
             "#f0f921"
            ]
           ]
          },
          "colorway": [
           "#636efa",
           "#EF553B",
           "#00cc96",
           "#ab63fa",
           "#FFA15A",
           "#19d3f3",
           "#FF6692",
           "#B6E880",
           "#FF97FF",
           "#FECB52"
          ],
          "font": {
           "color": "#f2f5fa"
          },
          "geo": {
           "bgcolor": "rgb(17,17,17)",
           "lakecolor": "rgb(17,17,17)",
           "landcolor": "rgb(17,17,17)",
           "showlakes": true,
           "showland": true,
           "subunitcolor": "#506784"
          },
          "hoverlabel": {
           "align": "left"
          },
          "hovermode": "closest",
          "mapbox": {
           "style": "dark"
          },
          "paper_bgcolor": "rgb(17,17,17)",
          "plot_bgcolor": "rgb(17,17,17)",
          "polar": {
           "angularaxis": {
            "gridcolor": "#506784",
            "linecolor": "#506784",
            "ticks": ""
           },
           "bgcolor": "rgb(17,17,17)",
           "radialaxis": {
            "gridcolor": "#506784",
            "linecolor": "#506784",
            "ticks": ""
           }
          },
          "scene": {
           "xaxis": {
            "backgroundcolor": "rgb(17,17,17)",
            "gridcolor": "#506784",
            "gridwidth": 2,
            "linecolor": "#506784",
            "showbackground": true,
            "ticks": "",
            "zerolinecolor": "#C8D4E3"
           },
           "yaxis": {
            "backgroundcolor": "rgb(17,17,17)",
            "gridcolor": "#506784",
            "gridwidth": 2,
            "linecolor": "#506784",
            "showbackground": true,
            "ticks": "",
            "zerolinecolor": "#C8D4E3"
           },
           "zaxis": {
            "backgroundcolor": "rgb(17,17,17)",
            "gridcolor": "#506784",
            "gridwidth": 2,
            "linecolor": "#506784",
            "showbackground": true,
            "ticks": "",
            "zerolinecolor": "#C8D4E3"
           }
          },
          "shapedefaults": {
           "line": {
            "color": "#f2f5fa"
           }
          },
          "sliderdefaults": {
           "bgcolor": "#C8D4E3",
           "bordercolor": "rgb(17,17,17)",
           "borderwidth": 1,
           "tickwidth": 0
          },
          "ternary": {
           "aaxis": {
            "gridcolor": "#506784",
            "linecolor": "#506784",
            "ticks": ""
           },
           "baxis": {
            "gridcolor": "#506784",
            "linecolor": "#506784",
            "ticks": ""
           },
           "bgcolor": "rgb(17,17,17)",
           "caxis": {
            "gridcolor": "#506784",
            "linecolor": "#506784",
            "ticks": ""
           }
          },
          "title": {
           "x": 0.05
          },
          "updatemenudefaults": {
           "bgcolor": "#506784",
           "borderwidth": 0
          },
          "xaxis": {
           "automargin": true,
           "gridcolor": "#283442",
           "linecolor": "#506784",
           "ticks": "",
           "title": {
            "standoff": 15
           },
           "zerolinecolor": "#283442",
           "zerolinewidth": 2
          },
          "yaxis": {
           "automargin": true,
           "gridcolor": "#283442",
           "linecolor": "#506784",
           "ticks": "",
           "title": {
            "standoff": 15
           },
           "zerolinecolor": "#283442",
           "zerolinewidth": 2
          }
         }
        },
        "title": {
         "text": "MotoGp Cumulative Fantasy Points 2022"
        },
        "xaxis": {
         "anchor": "y",
         "domain": [
          0,
          1
         ],
         "title": {
          "text": "Race"
         }
        },
        "yaxis": {
         "anchor": "x",
         "domain": [
          0,
          1
         ],
         "title": {
          "text": "Points"
         }
        }
       }
      }
     },
     "metadata": {},
     "output_type": "display_data"
    }
   ],
   "source": [
    "import plotly.express as px\n",
    "\n",
    "\n",
    "fig2 = px.line(\n",
    "                df8, \n",
    "                x=df8[\"Race\"], \n",
    "                y=df8.columns[1:], \n",
    "                template=\"plotly_dark\",\n",
    "                labels={\n",
    "                    \"Track\": \"Track\",\n",
    "                    \"value\": \"Points\",\n",
    "                    \"variable\": \"Rider\"\n",
    "                    },\n",
    "                title=\"MotoGp Cumulative Fantasy Points 2022\",\n",
    "            )\n",
    "\n",
    "# fig2.update_layout(height=800, width=2250)\n",
    "\n",
    "fig2.show()"
   ]
  }
 ],
 "metadata": {
  "kernelspec": {
   "display_name": "Python 3.9.7 64-bit",
   "language": "python",
   "name": "python3"
  },
  "language_info": {
   "codemirror_mode": {
    "name": "ipython",
    "version": 3
   },
   "file_extension": ".py",
   "mimetype": "text/x-python",
   "name": "python",
   "nbconvert_exporter": "python",
   "pygments_lexer": "ipython3",
   "version": "3.9.7 (tags/v3.9.7:1016ef3, Aug 30 2021, 20:19:38) [MSC v.1929 64 bit (AMD64)]"
  },
  "orig_nbformat": 4,
  "vscode": {
   "interpreter": {
    "hash": "a56b2d18506390ecc5ce8329b79c162094e29fab0db2f03227c5927b629a923c"
   }
  }
 },
 "nbformat": 4,
 "nbformat_minor": 2
}
